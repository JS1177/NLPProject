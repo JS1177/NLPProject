{
 "cells": [
  {
   "cell_type": "markdown",
   "source": [
    "# Context\n",
    "Goal of project is to classify resumes (not to grade resumes). Therefore, goal of preprocessing is to ensure that the text are properly normalized such that they can be properly compared. Priority should therefore be given to keywords etc. due to the specialized nature of each class."
   ],
   "metadata": {
    "collapsed": false
   },
   "id": "784b56be34640225"
  },
  {
   "cell_type": "markdown",
   "source": [
    "# Data Exploration"
   ],
   "metadata": {
    "collapsed": false
   },
   "id": "42ebd815c363cde7"
  },
  {
   "cell_type": "code",
   "execution_count": 1,
   "id": "initial_id",
   "metadata": {
    "collapsed": true,
    "ExecuteTime": {
     "end_time": "2024-01-29T02:46:11.733664800Z",
     "start_time": "2024-01-29T02:46:10.185424700Z"
    }
   },
   "outputs": [
    {
     "name": "stderr",
     "output_type": "stream",
     "text": [
      "C:\\Users\\jscho\\AppData\\Local\\Temp\\ipykernel_12400\\1265358273.py:2: DeprecationWarning: \n",
      "Pyarrow will become a required dependency of pandas in the next major release of pandas (pandas 3.0),\n",
      "(to allow more performant data types, such as the Arrow string type, and better interoperability with other libraries)\n",
      "but was not found to be installed on your system.\n",
      "If this would cause problems for you,\n",
      "please provide us feedback at https://github.com/pandas-dev/pandas/issues/54466\n",
      "        \n",
      "  import pandas as pd\n"
     ]
    }
   ],
   "source": [
    "import numpy as np\n",
    "import pandas as pd\n",
    "import re\n",
    "import nltk\n",
    "import os\n",
    "from collections import Counter\n",
    "from nltk.stem import WordNetLemmatizer\n",
    "from nltk.metrics.distance import edit_distance as levenshteinDistance\n",
    "\n",
    "from typing_extensions import Literal"
   ]
  },
  {
   "cell_type": "code",
   "outputs": [
    {
     "name": "stderr",
     "output_type": "stream",
     "text": [
      "[nltk_data] Downloading package averaged_perceptron_tagger to\n",
      "[nltk_data]     C:\\Users\\jscho\\AppData\\Roaming\\nltk_data...\n",
      "[nltk_data]   Package averaged_perceptron_tagger is already up-to-\n",
      "[nltk_data]       date!\n",
      "[nltk_data] Downloading package maxent_ne_chunker to\n",
      "[nltk_data]     C:\\Users\\jscho\\AppData\\Roaming\\nltk_data...\n",
      "[nltk_data]   Package maxent_ne_chunker is already up-to-date!\n",
      "[nltk_data] Downloading package words to\n",
      "[nltk_data]     C:\\Users\\jscho\\AppData\\Roaming\\nltk_data...\n",
      "[nltk_data]   Package words is already up-to-date!\n",
      "[nltk_data] Downloading package wordnet to\n",
      "[nltk_data]     C:\\Users\\jscho\\AppData\\Roaming\\nltk_data...\n",
      "[nltk_data]   Package wordnet is already up-to-date!\n"
     ]
    },
    {
     "data": {
      "text/plain": "True"
     },
     "execution_count": 2,
     "metadata": {},
     "output_type": "execute_result"
    }
   ],
   "source": [
    "nltk.download('averaged_perceptron_tagger')\n",
    "nltk.download('maxent_ne_chunker')\n",
    "nltk.download('words')\n",
    "nltk.download('wordnet')"
   ],
   "metadata": {
    "collapsed": false,
    "ExecuteTime": {
     "end_time": "2024-01-29T02:46:11.873944500Z",
     "start_time": "2024-01-29T02:46:11.737801400Z"
    }
   },
   "id": "26cc9ac6ac95dcab",
   "execution_count": 2
  },
  {
   "cell_type": "code",
   "outputs": [],
   "source": [
    "VAR = {\n",
    "    'data_path': os.path.join('UpdatedResumeDataSet_T1_7.csv'),\n",
    "    'batch_size': 32,\n",
    "}"
   ],
   "metadata": {
    "collapsed": false,
    "ExecuteTime": {
     "end_time": "2024-01-29T02:46:11.873944500Z",
     "start_time": "2024-01-29T02:46:11.866049400Z"
    }
   },
   "id": "c77f0d91710e6b6e",
   "execution_count": 3
  },
  {
   "cell_type": "code",
   "outputs": [],
   "source": [
    "res_data_raw = pd.read_csv(VAR['data_path'])"
   ],
   "metadata": {
    "collapsed": false,
    "ExecuteTime": {
     "end_time": "2024-01-29T02:46:12.030588Z",
     "start_time": "2024-01-29T02:46:11.870819200Z"
    }
   },
   "id": "2fbbfd49f104e2fe",
   "execution_count": 4
  },
  {
   "cell_type": "code",
   "outputs": [
    {
     "name": "stdout",
     "output_type": "stream",
     "text": [
      "<class 'pandas.core.frame.DataFrame'>\n",
      "RangeIndex: 9595 entries, 0 to 9594\n",
      "Data columns (total 2 columns):\n",
      " #   Column    Non-Null Count  Dtype \n",
      "---  ------    --------------  ----- \n",
      " 0   Category  9595 non-null   object\n",
      " 1   Resume    9595 non-null   object\n",
      "dtypes: object(2)\n",
      "memory usage: 150.1+ KB\n"
     ]
    }
   ],
   "source": [
    "res_data_raw.info()"
   ],
   "metadata": {
    "collapsed": false,
    "ExecuteTime": {
     "end_time": "2024-01-29T02:46:12.051101600Z",
     "start_time": "2024-01-29T02:46:12.030588Z"
    }
   },
   "id": "8ccc3c16c91aeae7",
   "execution_count": 5
  },
  {
   "cell_type": "code",
   "outputs": [
    {
     "data": {
      "text/plain": "       Category                                             Resume\n0  Data Science  qwtnrvduof Education Details \\nMay 2013 to May...\n1  Data Science  qwtnrvduof Areas of Interest Deep Learning, Co...\n2  Data Science  Skills â¢ R â¢ Python â¢ SAP HANA â¢ Table...\n3  Data Science  Education Details \\r\\n MCA   YMCAUST,  Faridab...\n4  Data Science  SKILLS C Basics, IOT, Python, MATLAB, Data Sci...",
      "text/html": "<div>\n<style scoped>\n    .dataframe tbody tr th:only-of-type {\n        vertical-align: middle;\n    }\n\n    .dataframe tbody tr th {\n        vertical-align: top;\n    }\n\n    .dataframe thead th {\n        text-align: right;\n    }\n</style>\n<table border=\"1\" class=\"dataframe\">\n  <thead>\n    <tr style=\"text-align: right;\">\n      <th></th>\n      <th>Category</th>\n      <th>Resume</th>\n    </tr>\n  </thead>\n  <tbody>\n    <tr>\n      <th>0</th>\n      <td>Data Science</td>\n      <td>qwtnrvduof Education Details \\nMay 2013 to May...</td>\n    </tr>\n    <tr>\n      <th>1</th>\n      <td>Data Science</td>\n      <td>qwtnrvduof Areas of Interest Deep Learning, Co...</td>\n    </tr>\n    <tr>\n      <th>2</th>\n      <td>Data Science</td>\n      <td>Skills â¢ R â¢ Python â¢ SAP HANA â¢ Table...</td>\n    </tr>\n    <tr>\n      <th>3</th>\n      <td>Data Science</td>\n      <td>Education Details \\r\\n MCA   YMCAUST,  Faridab...</td>\n    </tr>\n    <tr>\n      <th>4</th>\n      <td>Data Science</td>\n      <td>SKILLS C Basics, IOT, Python, MATLAB, Data Sci...</td>\n    </tr>\n  </tbody>\n</table>\n</div>"
     },
     "execution_count": 6,
     "metadata": {},
     "output_type": "execute_result"
    }
   ],
   "source": [
    "res_data_raw.head(5)"
   ],
   "metadata": {
    "collapsed": false,
    "ExecuteTime": {
     "end_time": "2024-01-29T02:46:12.053067400Z",
     "start_time": "2024-01-29T02:46:12.037844Z"
    }
   },
   "id": "216fb33509475e3",
   "execution_count": 6
  },
  {
   "cell_type": "markdown",
   "source": [
    "### Cleaning"
   ],
   "metadata": {
    "collapsed": false
   },
   "id": "ac225d99793c411"
  },
  {
   "cell_type": "code",
   "outputs": [
    {
     "data": {
      "text/plain": "9407"
     },
     "execution_count": 7,
     "metadata": {},
     "output_type": "execute_result"
    }
   ],
   "source": [
    "res_data_raw['Resume'].duplicated(keep='first').sum() #Check for duplicates"
   ],
   "metadata": {
    "collapsed": false,
    "ExecuteTime": {
     "end_time": "2024-01-29T02:46:12.053581400Z",
     "start_time": "2024-01-29T02:46:12.045025700Z"
    }
   },
   "id": "209c2fcedb60c5a5",
   "execution_count": 7
  },
  {
   "cell_type": "code",
   "outputs": [],
   "source": [
    "res_data = res_data_raw.drop_duplicates(subset=['Resume'])"
   ],
   "metadata": {
    "collapsed": false,
    "ExecuteTime": {
     "end_time": "2024-01-29T02:46:12.059136500Z",
     "start_time": "2024-01-29T02:46:12.052128600Z"
    }
   },
   "id": "e4b0cbdd4f0df83f",
   "execution_count": 8
  },
  {
   "cell_type": "code",
   "outputs": [
    {
     "data": {
      "text/plain": "Category\nJava Developer               14\nData Science                 12\nHR                           12\nDatabase                     11\nAdvocate                     10\nDotNet Developer              8\nHadoop                        8\nDevOps Engineer               8\nBusiness Analyst              8\nTesting                       8\nCivil Engineer                7\nSAP Developer                 7\nHealth and fitness            7\nPython Developer              7\nArts                          7\nAutomation Testing            7\nElectrical Engineering        6\nSales                         6\nNetwork Security Engineer     6\nETL Developer                 6\nMechanical Engineer           5\nWeb Designing                 5\nBlockchain                    5\nOperations Manager            4\nPMO                           4\nName: count, dtype: int64"
     },
     "execution_count": 9,
     "metadata": {},
     "output_type": "execute_result"
    }
   ],
   "source": [
    "res_data['Category'].value_counts()"
   ],
   "metadata": {
    "collapsed": false,
    "ExecuteTime": {
     "end_time": "2024-01-29T02:46:12.061716300Z",
     "start_time": "2024-01-29T02:46:12.055654400Z"
    }
   },
   "id": "e1195cbd300cb893",
   "execution_count": 9
  },
  {
   "cell_type": "markdown",
   "source": [
    "### Explore Resume Text"
   ],
   "metadata": {
    "collapsed": false
   },
   "id": "41bf6096151b672"
  },
  {
   "cell_type": "code",
   "outputs": [
    {
     "name": "stdout",
     "output_type": "stream",
     "text": [
      "qwtnrvduof Education Details \n",
      "May 2013 to May 2017 BbNTGBqLmkKE   UIT-RGPV\n",
      "Data Scientist \n",
      "\n",
      "Data Scientist - Matelabs\n",
      "Skill Details \n",
      "Python- Exprience - Less than 1 year months\n",
      "Statsmodels- Exprience - 12 months\n",
      "AWS- Exprience - Less than 1 year months\n",
      "Machine learning- Exprience - Less than 1 year months\n",
      "Sklearn- Exprience - Less than 1 year months\n",
      "Scipy- Exprience - Less than 1 year months\n",
      "Keras- Exprience - Less than 1 year monthsCompany Details \n",
      "company - Matelabs\n",
      "description - ML Platform for business professionals, dummies and enthusiastsckeKJOFvWQ\n",
      "60/A Koramangala 5th block,\n",
      "Achievements/Tasks behind sukh sagar, Bengaluru,\n",
      "India                               Developed and deployed auto preprocessing steps of machine learning mainly missing value\n",
      "treatment, outlier detection, encoding, scaling, feature selection and dimensionality reductionqunsOBcUdT\n",
      "Deployed automated classification and regression modelRYNOolXhuV\n",
      "linkedinSAJhwmUxoOcom/in/aditya-rathore-\n",
      "b4600b146                           Reasearch and deployed the time series forecasting model ARIMA, SARIMAX, Holt-winter and\n",
      "ProphetiQmADshIYN\n",
      "Worked on meta-feature extracting problemisZoGErzLF\n",
      "githubBRBEGnCeAecom/rathorology\n",
      "Implemented a state of the art research paper on outlier detection for mixed attributes.\n",
      "company - Matelabs\n",
      "description - \n"
     ]
    }
   ],
   "source": [
    "sample_res = res_data['Resume'][0]\n",
    "print(sample_res)"
   ],
   "metadata": {
    "collapsed": false,
    "ExecuteTime": {
     "end_time": "2024-01-29T02:46:12.123376900Z",
     "start_time": "2024-01-29T02:46:12.061716300Z"
    }
   },
   "id": "70ae4ab9b43dc3c5",
   "execution_count": 10
  },
  {
   "cell_type": "markdown",
   "source": [
    "Initial Review:\n",
    "Some words are seemingly gibberish and consists of a sequence of random characters\n",
    "\n",
    "These words should be removed. However, care must be taken to ensure that other important text such as links are not classified as gibberish\n",
    "\n",
    "List of issues:\n",
    "Broken links (Solved)\n",
    "Long whitespaces (Solved)\n",
    "Combined words without clear separators https://github.com/grantjenks/python-wordsegment"
   ],
   "metadata": {
    "collapsed": false
   },
   "id": "6878125ef3d6a821"
  },
  {
   "cell_type": "code",
   "outputs": [
    {
     "data": {
      "text/plain": "'qwtnrvduof Education Details \\nMay 2013 to May 2017 BbNTGBqLmkKE   UIT-RGPV\\nData Scientist \\n\\nData Scientist - Matelabs\\nSkill Details \\nPython- Exprience - Less than 1 year months\\nStatsmodels- Exprience - 12 months\\nAWS- Exprience - Less than 1 year months\\nMachine learning- Exprience - Less than 1 year months\\nSklearn- Exprience - Less than 1 year months\\nScipy- Exprience - Less than 1 year months\\nKeras- Exprience - Less than 1 year monthsCompany Details \\ncompany - Matelabs\\ndescription - ML Platform for business professionals, dummies and enthusiastsckeKJOFvWQ\\n60/A Koramangala 5th block,\\nAchievements/Tasks behind sukh sagar, Bengaluru,\\nIndia                               Developed and deployed auto preprocessing steps of machine learning mainly missing value\\ntreatment, outlier detection, encoding, scaling, feature selection and dimensionality reductionqunsOBcUdT\\nDeployed automated classification and regression modelRYNOolXhuV\\nlinkedinSAJhwmUxoOcom/in/aditya-rathore-\\nb4600b146                           Reasearch and deployed the time series forecasting model ARIMA, SARIMAX, Holt-winter and\\nProphetiQmADshIYN\\nWorked on meta-feature extracting problemisZoGErzLF\\ngithubBRBEGnCeAecom/rathorology\\nImplemented a state of the art research paper on outlier detection for mixed attributes.\\ncompany - Matelabs\\ndescription - '"
     },
     "execution_count": 11,
     "metadata": {},
     "output_type": "execute_result"
    }
   ],
   "source": [
    "sample_res"
   ],
   "metadata": {
    "collapsed": false,
    "ExecuteTime": {
     "end_time": "2024-01-29T02:46:12.145953200Z",
     "start_time": "2024-01-29T02:46:12.068347Z"
    }
   },
   "id": "43c9663538e6da95",
   "execution_count": 11
  },
  {
   "cell_type": "code",
   "outputs": [],
   "source": [
    "def clean_links(potentialLinks: list):\n",
    "    \n",
    "    '''\n",
    "    Assumption: Potential link will always have at the minimum a .com\n",
    "    \n",
    "    Checks validity of link and returns cleaned link string\n",
    "    '''\n",
    "    \n",
    "    assert isinstance(potentialLinks, list)\n",
    "    \n",
    "    http_exist = False\n",
    "    www_exist = False\n",
    "    com_exist = False\n",
    "    \n",
    "    if len(potentialLinks) < 1:\n",
    "        return []\n",
    "    \n",
    "    ret_list = []\n",
    "    \n",
    "    for link in potentialLinks:\n",
    "        \n",
    "        http_match = re.search(r'(https?)(:)?(\\/){0,2}', link)\n",
    "        www_match = re.search(r'(www)(\\.)?', link)\n",
    "        com_match = re.search(r'(\\.)?(com)', link)\n",
    "        # print('flagged', link)\n",
    "        \n",
    "        #http\n",
    "        if http_match != None:\n",
    "            http_exist = True\n",
    "        \n",
    "        #www\n",
    "        if www_match != None:\n",
    "            www_exist = True\n",
    "        \n",
    "        #com\n",
    "        if com_match != None:\n",
    "            com_exist = True\n",
    "            \n",
    "        if (com_exist) or (com_exist and www_exist) or (com_exist and www_exist and http_exist):\n",
    "            link = re.sub(r'(https?)(:)?(\\/){0,2}', 'https://', link)\n",
    "            link = re.sub(r'(www)(\\.)?', 'www.', link)\n",
    "            link = re.sub(r'(\\.)?(com)', '.com', link)\n",
    "            \n",
    "            ret_list.append(link)\n",
    "        else:\n",
    "            #Not valid link\n",
    "            ret_list.append(False)\n",
    "            \n",
    "    return ret_list"
   ],
   "metadata": {
    "collapsed": false,
    "ExecuteTime": {
     "end_time": "2024-01-29T02:46:12.147053900Z",
     "start_time": "2024-01-29T02:46:12.076765800Z"
    }
   },
   "id": "cce23585ea4f68f3",
   "execution_count": 12
  },
  {
   "cell_type": "code",
   "outputs": [
    {
     "data": {
      "text/plain": "'qwtnrvduof education details may 2013 to may 2017 bbntgbqlmkke uit rgpv data scientist data scientist matelabs skill details python exprience less than 1 year months statsmodels exprience 12 months aws exprience less than 1 year months machine learning exprience less than 1 year months sklearn exprience less than 1 year months scipy exprience less than 1 year months keras exprience less than 1 year monthscompany details company matelabs description ml platform for business professionals dummies and enthusiastsckekjofvwq 60 a koramangala 5th block achievements tasks behind sukh sagar bengaluru india developed and deployed auto preprocessing steps of machine learning mainly missing value treatment outlier detection encoding scaling feature selection and dimensionality reductionqunsobcudt deployed automated classification and regression modelrynoolxhuv b4600b146 reasearch and deployed the time series forecasting model arima sarimax holt winter and prophetiqmadshiyn worked on meta feature extracting problemiszogerzlf implemented a state of the art research paper on outlier detection for mixed attributes company matelabs description '"
     },
     "execution_count": 13,
     "metadata": {},
     "output_type": "execute_result"
    }
   ],
   "source": [
    "def clean_raw_text(text: str):\n",
    "    \n",
    "    # Clean links section\n",
    "    potential_links = re.findall(\n",
    "        r'(?:(?:https?:?\\/\\/{1,2})?w{1,3}\\.?)?[a-zA-z0-9]{1,2048}\\.?[a-zA-Z0-9]{1,6}\\/\\b[/\\-a-zA-Z0-9]*\\w', text\n",
    "    ) \n",
    "    '''\n",
    "    / will flag a sequence of characters as potential links\n",
    "    \n",
    "    Optional criteions: \n",
    "    http(s)\n",
    "    //\n",
    "    www & .\n",
    "    . & com\n",
    "    '''\n",
    "    \n",
    "    finalized_links = clean_links(potential_links)\n",
    "\n",
    "    for potential_link, finalized_link in zip(potential_links, finalized_links):\n",
    "        if finalized_link == False:\n",
    "            continue\n",
    "        else:\n",
    "#             print('real_links', finalized_link)\n",
    "            text = re.sub(potential_link, ' ', text) #Remove link\n",
    "    \n",
    "    #Clean non-characters\n",
    "    text = re.sub(r'[^a-zA-Z0-9]', r' ', text)\n",
    "    \n",
    "    #Normalize text\n",
    "    text = text.lower()\n",
    "\n",
    "    #Clean whitespace section\n",
    "    text = re.sub(r'[ ]{1,}', r' ', text)\n",
    "    \n",
    "    return text\n",
    "\n",
    "clean_raw_text(sample_res)"
   ],
   "metadata": {
    "collapsed": false,
    "ExecuteTime": {
     "end_time": "2024-01-29T02:46:12.149137400Z",
     "start_time": "2024-01-29T02:46:12.080401Z"
    }
   },
   "id": "efc57f3090db2021",
   "execution_count": 13
  },
  {
   "cell_type": "code",
   "outputs": [],
   "source": [
    "def check_numpy(text):\n",
    "    \n",
    "    if isinstance(text, list):\n",
    "        text = np.array(text)\n",
    "        return text\n",
    "    elif isinstance(text, np.ndarray):\n",
    "        return text\n",
    "    else:\n",
    "        raise TypeError('Not a list or numpy array')"
   ],
   "metadata": {
    "collapsed": false,
    "ExecuteTime": {
     "end_time": "2024-01-29T02:46:12.151255800Z",
     "start_time": "2024-01-29T02:46:12.091620100Z"
    }
   },
   "id": "a8a8d57bd14dd42",
   "execution_count": 14
  },
  {
   "cell_type": "code",
   "outputs": [],
   "source": [
    "def in_english_corpus(text: list | np.ndarray, behaviour: Literal['inside', 'outside'] = 'inside'):\n",
    "    \n",
    "    text = check_numpy(text)\n",
    "\n",
    "    english_dictionary = nltk.corpus.words.raw().split('\\n')\n",
    "\n",
    "    english_dictionary = [word.lower() for word in english_dictionary] # normalize to lowercase\n",
    "    \n",
    "    word_in_dict_bool = np.isin(text, english_dictionary)\n",
    "    \n",
    "    if behaviour == 'inside':\n",
    "        return text[word_in_dict_bool]\n",
    "    elif behaviour == 'outside':\n",
    "        word_not_in_dict_bool = np.invert(word_in_dict_bool)\n",
    "        return text[word_not_in_dict_bool]\n",
    "    else:\n",
    "        return None"
   ],
   "metadata": {
    "collapsed": false,
    "ExecuteTime": {
     "end_time": "2024-01-29T02:46:12.192221800Z",
     "start_time": "2024-01-29T02:46:12.096996400Z"
    }
   },
   "id": "837075b2fbc9d445",
   "execution_count": 15
  },
  {
   "cell_type": "code",
   "outputs": [],
   "source": [
    "def clean_structured_text(text: list | np.ndarray, customer_dictionary: list = nltk.corpus.words.raw().split('\\n')):\n",
    "    \n",
    "    #TODO There may be no point to cleaning mistyped random words > Intefere with keywords > Model may have to simply learn the noise\n",
    "\n",
    "    text = check_numpy(text)\n",
    "    \n",
    "    customer_dictionary = [word.lower() for word in customer_dictionary] # normalize to lowercase\n",
    "    \n",
    "    word_in_dict_bool = np.isin(text, customer_dictionary)\n",
    "    \n",
    "    word_not_in_dict_bool = np.invert(word_in_dict_bool)\n",
    "    \n",
    "    \n",
    "    \n",
    "    words_in_dict = text[word_not_in_dict_bool]\n",
    "    \n",
    "    print(words_in_dict)\n",
    "\n",
    "# clean_structured_text(sample_lemmas)"
   ],
   "metadata": {
    "collapsed": false,
    "ExecuteTime": {
     "end_time": "2024-01-29T02:46:12.195393400Z",
     "start_time": "2024-01-29T02:46:12.102469300Z"
    }
   },
   "id": "d48354035fc76fb",
   "execution_count": 16
  },
  {
   "cell_type": "code",
   "outputs": [],
   "source": [
    "def wordnet_tag_format(tag: str):\n",
    "    if tag.startswith('N'):\n",
    "        return 'n'\n",
    "    if tag.startswith('V'):\n",
    "        return 'v'\n",
    "    if tag.startswith('A'):\n",
    "        return 'a'\n",
    "    if tag.startswith('R'):\n",
    "        return 'r'\n",
    "    \n",
    "    return 'n' #Ensure lemmatize function can run"
   ],
   "metadata": {
    "collapsed": false,
    "ExecuteTime": {
     "end_time": "2024-01-29T02:46:12.270742400Z",
     "start_time": "2024-01-29T02:46:12.125457800Z"
    }
   },
   "id": "60254b9a74b9fe2c",
   "execution_count": 17
  },
  {
   "cell_type": "code",
   "outputs": [],
   "source": [
    "def extract_lemmas(tagged_tokens: list[tuple], lemmatizer=nltk.stem.WordNetLemmatizer()):\n",
    "    lemmas = [lemmatizer.lemmatize(token[0], wordnet_tag_format(token[1])) for token in tagged_tokens]\n",
    "    \n",
    "    return lemmas"
   ],
   "metadata": {
    "collapsed": false,
    "ExecuteTime": {
     "end_time": "2024-01-29T02:46:12.271778Z",
     "start_time": "2024-01-29T02:46:12.130063300Z"
    }
   },
   "id": "bab679f05de30967",
   "execution_count": 18
  },
  {
   "cell_type": "markdown",
   "source": [
    "--- Start Analysis ---\n",
    "### Goal:\n",
    "\n",
    "With reference to a list of possible english words, we aim to separate keywords important to job scopes and misspelled/invalid words. With the list of misspelled/invalids words, we can find the closest possible related word using Levenshtein Distance.\n",
    "\n",
    "### Theory:\n",
    "\n",
    "Since most misspelled words with random number of combinations occuringly more than once has a very small probability it is more likely that we will see keywords occur more frequently compared to misspelled words and characters of random sequence."
   ],
   "metadata": {
    "collapsed": false
   },
   "id": "7a58b353972d45cb"
  },
  {
   "cell_type": "code",
   "outputs": [],
   "source": [
    "def extract_common_words_from_raw_data_ood(resumes_df: pd.DataFrame, column: str):\n",
    "    \n",
    "    resumes = resumes_df[column].to_numpy()\n",
    "    resumes = check_numpy(resumes)\n",
    "\n",
    "    lemmatizer = WordNetLemmatizer()\n",
    "    \n",
    "    counter = Counter()\n",
    "    \n",
    "    for index, resume in enumerate(resumes):\n",
    "        normalized_resume = extract_lemmas(\n",
    "            nltk.pos_tag(\n",
    "                nltk.tokenize.word_tokenize(\n",
    "                    clean_raw_text(resume))), \n",
    "            lemmatizer)\n",
    "        \n",
    "        # out of dictionary\n",
    "        ood = in_english_corpus(normalized_resume, 'outside')\n",
    "        counter.update(ood)\n",
    "        \n",
    "        if index % 10 == 0:\n",
    "            print(index)\n",
    "        \n",
    "    return counter"
   ],
   "metadata": {
    "collapsed": false,
    "ExecuteTime": {
     "end_time": "2024-01-29T02:46:12.272832600Z",
     "start_time": "2024-01-29T02:46:12.135986400Z"
    }
   },
   "id": "61ec85bbd1682100",
   "execution_count": 19
  },
  {
   "cell_type": "code",
   "outputs": [
    {
     "name": "stdout",
     "output_type": "stream",
     "text": [
      "0\n",
      "10\n",
      "20\n",
      "30\n",
      "40\n",
      "50\n",
      "60\n",
      "70\n",
      "80\n",
      "90\n",
      "100\n",
      "110\n",
      "120\n",
      "130\n",
      "140\n",
      "150\n",
      "160\n",
      "170\n",
      "180\n",
      "Counter({'exprience': 633, '1': 334, 'database': 328, 'sql': 238, 'maharashtra': 230, 'le': 224, '6': 211, 'ltd': 190, 'pune': 156, 'software': 151, 'monthscompany': 129, 'pvt': 119, 'mumbai': 119, 'automation': 114, '2': 98, 'mysql': 87, '3': 80, 'hadoop': 77, '2008': 74, '4': 72, 'etc': 71, '2016': 68, '2012': 66, 'javascript': 66, '5': 65, 'jquery': 65, 'html': 64, 'windows': 62, '2017': 61, '7': 56, 'linux': 55, '24': 55, 'coordinate': 50, 'troubleshoot': 50, 'etl': 49, '2014': 49, 'co': 45, 'hana': 44, 'website': 44, '2015': 43, 'microsoft': 42, '2018': 39, 'monitoring': 39, '10': 38, 'ajax': 38, '8': 37, 'cs': 37, '2010': 36, '2013': 35, 'hr': 35, 'online': 34, 'informatica': 34, '12': 33, 'qa': 33, 'nagpur': 32, 'firewall': 32, 'sqoop': 29, 'automate': 28, 'api': 28, 'mvc': 28, 'db': 28, 'xp': 27, 'dr': 27, 'hdfs': 27, '2011': 26, 'jsp': 26, 'unix': 26, 'erp': 25, 'com': 25, '9': 24, 'ssc': 24, 'tata': 24, '11g': 24, 'plc': 24, 'r2': 24, 'blockchain': 24, 'uat': 23, 'processing': 23, 'hsc': 23, '2000': 22, 'reporting': 22, 'mapping': 22, 'expertise': 22, 'consultancy': 22, 'pre': 22, 'planning': 21, 'www': 21, 'mahindra': 21, 'sr': 20, '2006': 20, 'admin': 20, '2005': 20, '48': 20, 'qc': 20, 'honeywell': 20, 'rman': 20, 'pradesh': 19, 'wipro': 19, 'php': 19, 'multi': 19, 'instal': 19, 'aws': 18, '20': 18, 'html5': 18, '15': 18, 'devops': 18, 'uk': 17, 'servlet': 17, 'webi': 17, '0': 17, 'sharepoint': 17, 'talend': 17, 'crm': 16, '72': 16, 'nashik': 16, 'centre': 16, 'autocad': 16, 'email': 16, 'j2ee': 16, 'qtp': 16, 'bi': 15, '2009': 15, 'programme': 15, 'css3': 15, 'languages': 15, '2007': 15, 'onsite': 15, 'ethereum': 15, 'ibm': 14, 'usa': 14, 'required': 14, 'databases': 14, '11': 14, 'xml': 14, 'backend': 14, 'amravati': 14, 'mongodb': 14, 'jira': 14, 'korea': 14, 'postgresql': 14, 'mapreduce': 14, 'django': 13, 'nlp': 13, 'pl': 13, 'internet': 13, 'hbase': 13, 'ui': 13, 'jenkins': 13, 'json': 13, 'capgemini': 13, 'pmo': 13, 'dba': 13, 'programming': 12, '36': 12, '16': 12, 'chennai': 12, 'skills': 12, 'ms': 12, 'manufacturing': 12, 'workflow': 12, '14': 12, 'ftp': 12, 'm3': 12, 'matlab': 11, 'healthcare': 11, '2003': 11, 'nov': 11, 'mba': 11, '30': 11, '31': 11, 'debug': 11, 'bny': 11, 'networking': 11, '2008r2': 11, 'tablespaces': 11, '60': 10, 'bangalore': 10, 'numpy': 10, 'madhya': 10, 'coordination': 10, 'pm': 10, 'dbms': 10, 'aug': 10, 'timeline': 10, 'app': 10, 'phule': 10, '17': 10, '10g': 10, 'standby': 10, 'vpn': 10, 'lt': 10, 'hpm': 10, 'rdbms': 10, 'ubuntu': 9, 'accenture': 9, 'ups': 9, 'feb': 9, '96': 9, 'checking': 9, 'photoshop': 9, 'savitribai': 9, 'automated': 9, 'powerpoint': 9, 'asm': 9, '2004': 9, 'liaise': 9, 'abap': 9, 'hoc': 9, 'qatar': 9, 'movex': 9, 'dhcp': 9, '12c': 9, 'bengaluru': 8, 'kerala': 8, '28': 8, 'sdlc': 8, 'iit': 8, 'jr': 8, 'techno': 8, 'dubai': 8, '400': 8, 'frontend': 8, 'jdbc': 8, 'maven': 8, 'rm': 8, 'lifecycle': 8, 'hmi': 8, 'troubleshooting': 8, '01': 8, 'escalation': 8, 'barclays': 8, 'checkpoint': 8, 'ccu': 8, 'cmu': 8, 'bbntgbqlmkke': 7, 'github': 7, 'karnataka': 7, 'telecom': 7, 'kpi': 7, '21': 7, 'pr': 7, 'largest': 7, 'dc': 7, 'nadu': 7, '2001': 7, '1998': 7, 'solapur': 7, 'maintaining': 7, '07': 7, 'uttar': 7, 'http': 7, 'implemented': 7, 'etcbrbegnceae': 7, '1bntgbqlmkk': 7, 'hsbc': 7, 'proactively': 7, 'dec': 7, 'middleware': 7, 'svn': 7, 'visio': 7, 'hp': 7, 'smec': 7, 'ip': 7, 'scada': 7, 'mcc': 7, 'inc': 7, 'ht': 7, 'wcf': 7, 'dns': 7, 'tieto': 7, 'cloudera': 7, 'oozie': 7, 'autosys': 7, 'uh': 7, 'matelabs': 6, '2019': 6, '19': 6, 'telangana': 6, '13': 6, 'svm': 6, 'bhopal': 6, 'cv': 6, 'others': 6, 'llp': 6, 'hyderabad': 6, 'bsc': 6, 'bharat': 6, 'govt': 6, 'lanka': 6, 'ii': 6, '3d': 6, '2002': 6, 'engg': 6, '120': 6, 'sme': 6, 'startup': 6, 'ny': 6, 'llc': 6, 'lng': 6, 'css': 6, 'angularjs': 6, '25': 6, 'preparing': 6, 'spoc': 6, 'pvtrynoolxhuv': 6, 'bw': 6, 'bex': 6, 'teradata': 6, 'mc': 6, 'itil': 6, '300': 6, 'testng': 6, 'uft': 6, 'vb': 6, 'infotech': 6, 'fds': 6, 'as400': 6, 'nendrasys': 6, 'vlan': 6, 'f5': 6, 'rac': 6, 'datapump': 6, 'tablespace': 6, 'mvc5': 6, 'manipal': 5, 'uml': 5, 'tensorflow': 5, 'scikit': 5, 'matplotlib': 5, 'mm': 5, 'bbntgbqlmkkeckekjofvwq': 5, 'indore': 5, 'sqlserver': 5, 'customized': 5, 'pt': 5, 'rajasthan': 5, '18': 5, 'chinchwad': 5, 'worldwide': 5, '80': 5, 'proactive': 5, '2nd': 5, 'cnc': 5, 'midc': 5, 'bajaj': 5, 'bandra': 5, 'goqii': 5, 'pcc': 5, 'hardworking': 5, 'responsibilities': 5, 'maxgen': 5, 'brd': 5, 'idt': 5, 'cmc': 5, '85': 5, 'r3': 5, 'tc': 5, 'interfacing': 5, 'webdriver': 5, 'ci': 5, 'ap': 5, 'dicom': 5, 'nanded': 5, 'jaunpur': 5, 'jio': 5, 'oct': 5, 'slas': 5, 'bitbucket': 5, 'ops': 5, 'ssrs': 5, 'vb6': 5, 'multimedia': 5, 'synechron': 5, 'redhat': 5, 'failover': 5, 'infosys': 5, '43': 5, 'logins': 5, 'plsql': 5, 'intellimatch': 5, 'prgx': 5, '49': 5, '39': 5, '34': 5, 'bitcoin': 5, 'ir': 5, 'qwtnrvduof': 4, 'rgpv': 4, 'sklearn': 4, 'iot': 4, 'punjab': 4, 'knn': 4, 'dataset': 4, 'sgd': 4, 'ner': 4, 'coding': 4, 'integrated': 4, 'customize': 4, 'cyber': 4, 'saral': 4, 'pf': 4, 'tds': 4, '360': 4, 'gst': 4, 'chandigarh': 4, 'llb': 4, '29': 4, 'lifestyle': 4, 'asst': 4, 'cse': 4, 'stipulated': 4, 'allahabad': 4, 'catia': 4, '1999': 4, 'patil': 4, 'sbi': 4, 'workforce': 4, 'andheri': 4, 'uae': 4, 'asia': 4, 'petronet': 4, 'ksa': 4, 'undertaken': 4, 'mssql': 4, 'pvtbrbegnceae': 4, 'pvtbntgbqlmkk': 4, 'inouvelle': 4, '08': 4, 'zensar': 4, 'db2': 4, 'hpqc': 4, '23': 4, 'teamiszogerzlf': 4, 'kyc': 4, 'biar': 4, 'sweden': 4, 'odata': 4, 'fiori': 4, 'sybase': 4, 'atos': 4, 'atharva': 4, 'sld': 4, 'vfd': 4, 'eplan': 4, 'gui': 4, 'ct': 4, 'desktop': 4, 'london': 4, 'mw': 4, 'stp': 4, 'hvac': 4, 'iec': 4, 'prepaid': 4, 'downtime': 4, 'liasing': 4, 'forwarders': 4, 'gea': 4, 'johnson': 4, 'dhl': 4, 'updating': 4, 'pvtckekjofvwq': 4, '27': 4, 'epks': 4, 'dcs': 4, 'developed': 4, 'sungard': 4, 'utilized': 4, 'sc': 4, 'syntel': 4, 'bbl': 4, 'bntgbqlmkknet': 4, 'workload': 4, 'rtc': 4, 'filenet': 4, 'ipsec': 4, 'mpls': 4, 'ospf': 4, 'etciszogerzlf': 4, 'ssl': 4, 'tftp': 4, 'standalone': 4, 'mirroring': 4, 'scom': 4, 'expdp': 4, 'dataguard': 4, 'awr': 4, 'sep': 4, 'sangli': 4, 'scheduler': 4, 'oltp': 4, 'scd': 4, 'cm': 4, 'xinfin': 4, 'scipy': 3, 'deployed': 3, 'preprocessing': 3, 'hindustan': 3, 'jupyter': 3, 'xampp': 3, 'python3': 3, 'scm': 3, 'lstm': 3, 'restructuring': 3, 'sps12': 3, 'mca': 3, 'brynoolxhuv': 3, 'analyzed': 3, 'seaborn': 3, 'unstructured': 3, 'earliest': 3, 'regex': 3, 'bluemix': 3, 'suited': 3, 'rnn': 3, 'pyspark': 3, '40': 3, 've': 3, 'bayes': 3, 'kibana': 3, 'checklist': 3, '600': 3, 'manpower': 3, 'ecommerce': 3, 'counselling': 3, 'bbntgbqlmkkcom': 3, '1rynoolxhuv': 3, 'dibrugarh': 3, 'iszogerzlf': 3, 'mansa': 3, '1995': 3, 'icici': 3, 'multitasking': 3, 'guwahati': 3, 'gauhati': 3, 'managing': 3, '100': 3, 'kisan': 3, 'ranjangaon': 3, '1sajhwmuxoo': 3, 'cbs': 3, 'notepad': 3, 'gandhi': 3, 'exposys': 3, 'maruti': 3, 'conveyor': 3, 'nasscom': 3, 'rfq': 3, 'talwalkars': 3, '30th': 3, 'demo': 3, '03': 3, '2ckekjofvwq': 3, '1iszogerzlf': 3, 'msc': 3, 'lifekonnect': 3, 'organise': 3, 'shri': 3, 'larsen': 3, '9x': 3, 'srynoolxhuvssajhwmuxooc': 3, '42': 3, 'chandrapur': 3, 'geepas': 3, 'submittals': 3, 'nafjan': 3, 'abad': 3, '1qunsobcudt': 3, 'ofj': 3, 'xoriant': 3, 'developing': 3, 'stqunsobcudt': 3, 'e2e': 3, 'weblogic': 3, 'pusad': 3, 'pimpri': 3, '1st': 3, 'gsm': 3, 'ccna': 3, 'kunal': 3, 'servlets': 3, 'testingrynoolxhuv': 3, 'salcluster': 3, 'centos': 3, 'aurus': 3, 'tracking': 3, '6bntgbqlmkk0': 3, 'rpa': 3, 'poc': 3, 'frd': 3, 'coordinating': 3, 'timeframe': 3, 'follet': 3, 'objectives': 3, 'timesheet': 3, 'excelbntgbqlmkk': 3, 'intertek': 3, 'kt': 3, 'inlight': 3, 'a1': 3, 'fino': 3, 'airtel': 3, 'handover': 3, 'roles': 3, 'metadata': 3, 'nordea': 3, 'rdd': 3, 'schlumberger': 3, 'netweaver': 3, 'sd': 3, 'pp': 3, 'navi': 3, 'scd2': 3, 'trusted': 3, 'pvtsajhwmuxoo': 3, 'commissioning': 3, 'siemens': 3, 'rockwell': 3, 'versa': 3, 'invoicing': 3, 'tdd': 3, 'taf': 3, 'hl7': 3, 'logix': 3, 'rslinx': 3, 'vbscripts': 3, 'cometchat': 3, '000': 3, 'gulbarga': 3, '22': 3, 'shivaji': 3, 'pvtqunsobcudt': 3, 'shegaon': 3, 'exp': 3, 'rca': 3, 'atm': 3, 'noc': 3, 'zaggle': 3, 'inr': 3, 'upto': 3, 'mis': 3, 'implementing': 3, 'serck': 3, 'gm': 3, '26': 3, 'kom': 3, 'experion': 3, 'jbk': 3, 'rcsa': 3, 'arsys': 3, 'rpg': 3, 'kpit': 3, 'ieee': 3, 'cd': 3, 'b2b': 3, 'offline': 3, 'ec2': 3, 'soa': 3, 'meraki': 3, 'aditya': 3, 'birla': 3, 'eclerx': 3, 'wwf': 3, 'telerik': 3, '8i': 3, 'info': 3, 'knoxed': 3, 'org': 3, 'iseries': 3, 'patching': 3, 'p8': 3, 'ethernet': 3, 'vlans': 3, 'eigrp': 3, 'palo': 3, 'ltm': 3, '2960': 3, 'fortinet': 3, 'capita': 3, 'datacenter': 3, 'rhel': 3, 'sccm': 3, 'symantec': 3, 'vmware': 3, 'laptop': 3, 'ensono': 3, 'headcount': 3, 'financials': 3, 'ssms': 3, 'netezza': 3, 'mariadb': 3, 'configuring': 3, 'impdp': 3, 'addm': 3, 'netbackup': 3, 'scheduled': 3, 'citi': 3, 'bse': 3, 'nosql': 3, 'laundering': 3, 'dataiku': 3, 'recs': 3, '37': 3, 'iqmadshiynnet': 3, 'lookup': 3, 'tac': 3, 'cbse': 3, 'tmap': 3, 'utilise': 3, 'glyphisoft': 3, 'ranchi': 3, 'hyperledger': 3, 'corpcloud': 3, 'pcb': 3, 'uit': 2, 'statsmodels': 2, 'keras': 2, 'ml': 2, 'enthusiastsckekjofvwq': 2, 'koramangala': 2, '5th': 2, 'sukh': 2, 'sagar': 2, 'reductionqunsobcudt': 2, 'modelrynoolxhuv': 2, 'b4600b146': 2, 'reasearch': 2, 'arima': 2, 'sarimax': 2, 'prophetiqmadshiyn': 2, 'problemiszogerzlf': 2, 'mrbntgbqlmkk': 2, 'satish': 2, 'labview': 2, 'webframework': 2, 'ltspice': 2, 'mipower': 2, 'gitbash': 2, 'python2': 2, 'pycharm': 2, 'debian': 2, 'bckekjofvwqtechqunsobcudt': 2, 'deeksha': 2, 'themathcompany': 2, 'macaurynoolxhuvi': 2, 'companysajhwmuxoobasically': 2, 'upiqmadshiynhenceforth': 2, 'businessiszogerzlf': 2, 'deloitte': 2, 'usi': 2, 'fmcg': 2, 'bobj': 2, 'rfm': 2, 'kpis': 2, 'haryana': 2, 'robotics': 2, 'etcckekjofvwq': 2, 'datamites': 2, 'dataiqmadshiyn': 2, 'pythoniszogerzlf': 2, 'bbntgbqlmkktech': 2, 'rayat': 2, 'bahra': 2, 'biotechnology': 2, 'gcp': 2, 'aggarwal': 2, 'google': 2, 'reusability': 2, 'cufflink': 2, '78': 2, 'cgpa': 2, 'alll1': 2, 'nlu': 2, 'mnb': 2, 'kera': 2, '1993': 2, 'bckekjofvwqequnsobcudt': 2, 'vidisha': 2, 'nltk': 2, 'lda': 2, 'nmf': 2, 'modelling': 2, 'chatbot': 2, 'predefined': 2, 'ibntgbqlmkktckekjofvwq': 2, 'applicationseducation': 2, 'edinburg': 2, 'atri': 2, 'employeesqunsobcudt': 2, 'processrynoolxhuv': 2, 'employeessajhwmuxoo': 2, 'administrationiqmadshiyn': 2, 'processingiszogerzlf': 2, 'employeesbrbegnceae': 2, 'esic': 2, '24q': 2, 'conducting': 2, '1972': 2, 'naukri': 2, 'diwali': 2, 'dhamaka': 2, 'offsite': 2, 'md': 2, 'osmania': 2, 'mec': 2, 'rlt': 2, 'malappuram': 2, 'niketan': 2, 'gaarment': 2, 'llm': 2, 'ul': 2, 'pg': 2, 'etcbntgbqlmkk': 2, 'officeeducation': 2, 'bqunsobcudtsc': 2, 'jagiroad': 2, 'nagaon': 2, 'solutionseducation': 2, 'shubhankan': 2, 'fm': 2, 'interviewing': 2, 'ghatkopar': 2, 'ymca': 2, 'yearsbntgbqlmkk': 2, '05': 2, 'parola': 2, 'dist': 2, 'jalgaon': 2, 'rtm': 2, 'samarth': 2, '350': 2, 'sas': 2, 'trustbank': 2, 'optimise': 2, '50': 2, 'bazar': 2, 'softgst': 2, 'gstr': 2, 'op': 2, 'jalloshband': 2, 'playing': 2, 'aptech': 2, 'corel': 2, '7education': 2, 'indira': 2, 'nagpursajhwmuxoo': 2, 'mini': 2, 'panchakarma': 2, 'iii': 2, 'fanuc': 2, 'learnerckekjofvwq': 2, 'agro': 2, 'hingna': 2, 'fab': 2, 'pvtiqmadshiyn': 2, 'nagpuriszogerzlf': 2, 'bbrbegnceaee': 2, 'rtmnu': 2, 'fresher': 2, 'experiance': 2, 'semister': 2, 'mgm': 2, 'mit': 2, 'solidworks': 2, 'systemsajhwmuxoo': 2, 'bqunsobcudte': 2, 'sanarco': 2, 'rfqs': 2, 'specified': 2, 'rotex': 2, 'controlled': 2, 'kurla': 2, 'nanak': 2, 'strategizing': 2, 'solving': 2, 'teamqunsobcudt': 2, 'poona': 2, '97': 2, '44': 2, 'chavan': 2, 'edc': 2, 'closing': 2, 'bscbntgbqlmkk': 2, 'salesforce': 2, '3qunsobcudt': 2, '4rynoolxhuv': 2, '5sajhwmuxoo': 2, 'assistence': 2, 'vodafone': 2, '1992': 2, '10bntgbqlmkk': 2, 'prioritize': 2, 'bmn': 2, 'ugc': 2, 'ignou': 2, 'viamedia': 2, 'biqmadshiyneiszogerzlf': 2, 'buildcon': 2, 'nallasopara': 2, 'skillsbntgbqlmkk': 2, 'indiackekjofvwq': 2, 'glaxo': 2, 'kline': 2, 'gsk': 2, 'usd': 2, 'dahej': 2, 'gujarat': 2, 'powertech': 2, 'aurangabad': 2, 'dammam': 2, '2sajhwmuxoo': 2, 'saudi': 2, 'mmrda': 2, 'chok': 2, 'installed': 2, 'jabalpur': 2, 'ext': 2, 'gondia': 2, 'webservices': 2, 'tasksbrbegnceae': 2, 'weblogic12c': 2, 'webserver': 2, 'ejb': 2, 'staa': 2, 'jsf': 2, 'niit': 2, 'encrypted': 2, 'organisation': 2, 'jsonckekjofvwq': 2, 'wagh': 2, '9i': 2, '2iszogerzlf': 2, 'omegasoft': 2, 'kendoui': 2, 'sgbau': 2, '32': 2, 'hibernatebntgbqlmkk': 2, 'biqmadshiyne': 2, '1brbegnceae': 2, 'postgressql': 2, 'iis': 2, 'jboss': 2, 'ireport': 2, 'customization': 2, 'prototyping': 2, 'ulhasnagar': 2, 'hexaware': 2, '47': 2, 'servicesqunsobcudt': 2, 'analysissajhwmuxoo': 2, 'walkthroughs': 2, 'brainstorm': 2, 'iqvia': 2, 'offs': 2, 'shared': 2, 'smes': 2, 'wqr': 2, 'issuesiszogerzlf': 2, 'tybcom': 2, 'motilal': 2, 'oswal': 2, 'bd': 2, 'atmckekjofvwq': 2, 'positionqunsobcudt': 2, 'departmentrynoolxhuv': 2, 'sajhwmuxoo': 2, 'sriqmadshiyn': 2, 'repots': 2, 'mailing': 2, 'jformdesigner': 2, 'd365': 2, 'certifiedqunsobcudt': 2, 'germany': 2, 'allcargo': 2, 'ooad': 2, 'controlling': 2, 'cr': 2, 'capa': 2, 'workaround': 2, 'planviz': 2, 'sda': 2, 'fujitsu': 2, 'centralized': 2, 'idoc': 2, 'ewm': 2, 'apo': 2, '4hana': 2, 'malaysia': 2, '7qunsobcudt0': 2, 'bancs': 2, 'los': 2, 'scd1': 2, 'reportsbrbegnceae': 2, 'transforms': 2, 'sdk': 2, 'wdeploy': 2, 'vintela': 2, 'sso': 2, 'akzonobel': 2, 'modified': 2, 'barc': 2, 'daigram': 2, 'ifix': 2, 'electricals': 2, 'bqunsobcudterynoolxhuv': 2, 'phioenix': 2, 'microsystem': 2, 'eb': 2, 'ddsm': 2, 'zz': 2, 'bpt': 2, 'dcmtk': 2, 'sikuli': 2, 'ldap': 2, '63': 2, 'patni': 2, 'reusable': 2, 'debugging': 2, 'testingsajhwmuxoo': 2, 'testingiqmadshiyn': 2, 'inscripts': 2, '06th': 2, 'effectivelyqunsobcudt': 2, 'playerrynoolxhuv': 2, 'bt': 2, 'airline': 2, '90': 2, 'dallas': 2, 'alm': 2, 'analysisckekjofvwq': 2, 'wai': 2, 'kisanveer': 2, 'refcon': 2, 'acb': 2, 'vcb': 2, 'sf6': 2, 'kva': 2, 'kirloskar': 2, 'kw': 2, '33': 2, '2qunsobcudt': 2, '4iqmadshiyn': 2, '5brbegnceae': 2, 'atex': 2, 'nfpa': 2, 'nec': 2, 'gajanan': 2, 'maharaj': 2, 'mandir': 2, 'earthing': 2, 'academia': 2, '02': 2, 'organisational': 2, 'infotek': 2, 'yalamanchili': 2, 'ftc': 2, 'bcp': 2, 'pos': 2, '4000': 2, 'ecoflex': 2, 'pricing': 2, 'europe': 2, 'gcc': 2, '9001': 2, '45': 2, 'fzco': 2, 'ltdqunsobcudt': 2, 'maintains': 2, 'fgs': 2, 'amc': 2, 'tps': 2, 'downloading': 2, 'r410': 2, 'fdm': 2, 'bca': 2, 'managementbrbegnceae': 2, 'emea': 2, 'hiring': 2, 'funding': 2, 'skillset': 2, 'siebel': 2, '95': 2, 'aissms': 2, 'inovics': 2, 'urllib': 2, 'kranti': 2, 'utr': 2, 'techn': 2, 'cl': 2, 'ile': 2, '2017ckekjofvwq': 2, 'scoe': 2, 'b1': 2, 'seattle': 2, 'javaee': 2, 'rfid': 2, 'parkar': 2, 'ansible': 2, 'servereducation': 2, 'jntu': 2, 'productqunsobcudt': 2, 'managementrynoolxhuv': 2, 'b2c': 2, 'xslt': 2, 'biztalk': 2, '147': 2, '79': 2, 'aspbrbegnceaenet': 2, 'opex': 2, 'ipad': 2, 'genentech': 2, 'astellas': 2, 'pharma': 2, 'hibernet': 2, 'ssis': 2, 'prasanna': 2, 'vc': 2, 'computerized': 2, 'mcm': 2, 'rds': 2, 'tibco': 2, 'spotfire': 2, 'memberssajhwmuxoo': 2, 'xen': 2, 'cpi': 2, 'genworth': 2, 'download': 2, 'subnetting': 2, 'supernetting': 2, 'etcqunsobcudt': 2, 'aaa': 2, 'etcsajhwmuxoo': 2, 'telemetary': 2, 'sem': 2, 'acls': 2, 'utm': 2, 'hcl': 2, 'comnet': 2, 'firewalls': 2, 'rsa': 2, '4500': 2, '3600': 2, '2900s': 2, 'exec': 2, '12d': 2, 'cloudatix': 2, 'wifi': 2, 'mmpc': 2, 'mp': 2, 'endpoint': 2, '125': 2, '84': 2, 'responsiblites': 2, 'deliery': 2, 'mom': 2, 'rr': 2, 'invoicings': 2, 'invocing': 2, 'cem': 2, 'tofa': 2, 'tailgate': 2, 'asall': 2, 'drivekey': 2, 'compliancereport': 2, 'logs': 2, 'teamsajhwmuxoo': 2, 'ppt': 2, 'slipstream': 2, 'smsql': 2, 'vm': 2, 'mphasis': 2, 'ag': 2, 'mastek': 2, 'infiniteworx': 2, 'omnichannel': 2, 'granting': 2, 'trimax': 2, 'myisam': 2, 'innodb': 2, 'xtrabackup': 2, 'oem': 2, 'ec': 2, '24x7': 2, 'cpu': 2, 'dbca': 2, 'resizing': 2, 'tnsnames': 2, 'netmgr': 2, 'netca': 2, 's3': 2, 'psu': 2, 'rf': 2, 'cloning': 2, 'oim': 2, 'walchand': 2, 'crontab': 2, 'datafiles': 2, 'v10': 2, 'v11': 2, 'v12': 2, '11gr2': 2, 'marketplace': 2, 'emc': 2, 'toubro': 2, 'rlm': 2, 'unixsajhwmuxoo': 2, 'functioning': 2, 'benchmark': 2, 'greenplum': 2, 'ubc': 2, 'msbte': 2, 'hodoop': 2, 'vistor': 2, 'pfizer': 2, 'ddr': 2, 'javabntgbqlmkk': 2, 'braindatawire': 2, '9ckekjofvwq1': 2, 'datamart': 2, 'debugger': 2, 'tsqlrow': 2, 'remediate': 2, 'maharashatra': 2, 'aspckekjofvwqnet': 2, 'aspbntgbqlmkknet': 2, 'linq': 2, 'oop': 2, 'kendo': 2, 'navshar': 2, 'navnirman': 2, 'kindo': 2, 'didn': 2, 'jaipur': 2, 'kolhapur': 2, 'orgnization': 2, 'dapps': 2, 'nodejs': 2, 'yallaspree': 2, 'railtiffin': 2, 'accolite': 2, 'vanet': 2, 'jharkhand': 2, 'auxledger': 2, 'otc': 2, 'zhypility': 2, 'hackthon': 2, 'kgp': 2, 'cpp': 2, 'applocker': 2, 'rajapur': 2, 'rakesh': 2, '2026': 2, '1180': 2, '3rd': 2, 'conformiq': 2, 'tl9k': 2, 'lumira': 1, 'pgdm': 1, 'visvesvaraya': 1, 'dealsbntgbqlmkk': 1, 'clientckekjofvwq': 1, 'geographiesqunsobcudt': 1, 'tableaurynoolxhuv': 1, 'blockadessajhwmuxoo': 1, 'tableauiqmadshiyn': 1, 'monthsiszogerzlf': 1, 'handwritten': 1, 'creationbrbegnceae': 1, 'cbp': 1, 'anaconda3': 1, 'classify': 1, 'enabled': 1, 'ipa': 1, 'atas': 1, 'ymcaust': 1, 'faridabad': 1, 'itechpower': 1, 'powerpointbntgbqlmkk': 1, 'bckekjofvwqtechqunsobcudteducation': 1, 'brynoolxhuvtechsajhwmuxoo': 1, 'ghatkesar': 1, 'warangal': 1, 'iabac': 1, 'solutionsbntgbqlmkk': 1, 'fahed': 1, 'solutionsqunsobcudteducation': 1, 'mohali': 1, 'indo': 1, 'toolssajhwmuxoo': 1, 'extracting': 1, 'visualizationbrbegnceae': 1, 'pandas': 1, 'bhawana': 1, 'bhawanackekjofvwqchd': 1, 'gmailqunsobcudtcom': 1, '09876971076': 1, 'vversatile': 1, 'developmentrynoolxhuv': 1, 'documentationsajhwmuxoo': 1, 'gcpiqmadshiyn': 1, 'cufflinksiszogerzlf': 1, 'networksbrbegnceae': 1, 'netbeans': 1, 'notebooks': 1, 'xii': 1, 'moti': 1, 'experince': 1, 'udemy': 1, 'coursera': 1, 'tirlok': 1, 'yyyy': 1, 'dd': 1, 'orientedbntgbqlmkk': 1, 'truba': 1, 'rkdf': 1, 'sati': 1, 'mrynoolxhuvtech': 1, 'bmch': 1, 'ganj': 1, 'basoda': 1, 'sciencesajhwmuxoo': 1, 'cssiqmadshiyn': 1, 'rntiszogerzlfai': 1, 'pythonbrbegnceae': 1, 'matplotliv': 1, 'tf': 1, 'idf': 1, 'lsa': 1, 'pgp': 1, 'ips': 1, 'algorithms': 1, 'linesqunsobcudt': 1, 'instituterynoolxhuv': 1, 'errorssajhwmuxoo': 1, '24x7iqmadshiyn': 1, 'studentsiszogerzlf': 1, 'itbrbegnceae': 1, 'eco': 1, 'qliksense': 1, 'blumix': 1, 'watson': 1, 'jquerybntgbqlmkk': 1, 'pca': 1, 'netsckekjofvwq': 1, 'elasticsearch': 1, 'd3qunsobcudtjs': 1, 'dcrynoolxhuvjs': 1, 'plotly': 1, 'ggplot': 1, 'tableausajhwmuxoo': 1, 'logstash': 1, 'learningiqmadshiyneducation': 1, 'reportsiszogerzlf': 1, 'reviewbrbegnceae': 1, 'tfidf': 1, 'word2vec': 1, 'doc2vec': 1, 'vader': 1, 'matplot': 1, 'lib': 1, 'preforming': 1, 'pii': 1, 'fap': 1, 'd3': 1, 'bbntgbqlmkka': 1, 'sdnbvc': 1, 'bba': 1, 'acn': 1, 'mgt': 1, 'computerize': 1, 'mlrit': 1, 'bcom': 1, 'srimedhav': 1, 'nani': 1, 'valuelabs': 1, 'rrf': 1, 'dlt': 1, 'mbntgbqlmkksc': 1, 'thrissur': 1, 'prajyoti': 1, 'kinfra': 1, 'santhwana': 1, 'counsellor': 1, 'saiba': 1, 'softwareeducation': 1, 'bharathiar': 1, 'rbntgbqlmkkvckekjofvwqgqunsobcudt': 1, 'grynoolxhuvhrsajhwmuxoosec': 1, 'tirupur': 1, 'tirupuriqmadshiyn': 1, 'blackbox': 1, 'langages': 1, 'matlabbntgbqlmkk': 1, 'skillsckekjofvwq': 1, 'thinkingqunsobcudt': 1, 'responsibilityrynoolxhuv': 1, 'taskssajhwmuxoo': 1, 'motivatediqmadshiyn': 1, 'adichunchanagiri': 1, 'chikmagalur': 1, 'jayashree': 1, 'iszogerzlfk': 1, 'spsseducation': 1, 'chidambaram': 1, 'sn': 1, 'sav': 1, 'sns': 1, 'sslc': 1, 'kamaraj': 1, 'llckekjofvwqbqunsobcudt': 1, 'clacutta': 1, 'burdwan': 1, 'llbbntgbqlmkk': 1, 'legalckekjofvwq': 1, 'legalqunsobcudt': 1, 'uloom': 1, 'babntgbqlmkkllb': 1, 'lrc': 1, 'ravichander': 1, 'telanganackekjofvwq': 1, 'ielts': 1, '8bntgbqlmkk5': 1, 'speakerckekjofvwq': 1, 'authorityqunsobcudt': 1, 'trialsrynoolxhuv': 1, 'timessajhwmuxoo': 1, 'pretrial': 1, 'resourcesiqmadshiyn': 1, 'bikaner': 1, 'bio': 1, 'informatics': 1, 'panjab': 1, '2012brbegnceae': 1, 'aibe': 1, 'bci': 1, 'extraeducation': 1, 'drbntgbqlmkkambedkar': 1, 'drckekjofvwq': 1, 'ambedkar': 1, 'tirunelveli': 1, 'manonmaniam': 1, 'sundaranar': 1, 'ruah': 1, 'nessa': 1, 'marathibntgbqlmkk': 1, 'operationckekjofvwqeducation': 1, 'bqunsobcudtmrynoolxhuvm': 1, 'ssajhwmuxookiqmadshiynsomaiya': 1, 'hiszogerzlfsbrbegnceaec': 1, 'asmita': 1, 'bhawan': 1, 'laweducation': 1, 'finalising': 1, 'drt': 1, 'lok': 1, 'adalat': 1, 'bbntgbqlmkk': 1, 'ackekjofvwq': 1, 'llqunsobcudt': 1, 'skillssajhwmuxoo': 1, 'workiqmadshiyn': 1, 'learnereducation': 1, 'vidishtra': 1, 'msbntgbqlmkk': 1, 'llckekjofvwqb': 1, 'morigaon': 1, '2008rynoolxhuv': 1, 'forumsajhwmuxoo': 1, 'ciqmadshiynjiszogerzlfmbrbegnceae': 1, 'hpc': 1, 'cachar': 1, 'nagaland': 1, 'vetting': 1, 'liaisoning': 1, 'masibqtserxdybsvdazdwkblqbsqtzuxmnnfuivuvt': 1, '07education': 1, 'mbntgbqlmkkfckekjofvwqa': 1, 'bqunsobcudtfrynoolxhuvasajhwmuxoo': 1, 'hiqmadshiynsiszogerzlfcbrbegnceae': 1, 'atd': 1, 'bfa': 1, 'mfa': 1, 'rangoli': 1, 'skillseducation': 1, '1997': 1, 'hbntgbqlmkksckekjofvwqcqunsobcudt': 1, '1996': 1, 'srynoolxhuvssajhwmuxoociqmadshiyn': 1, 'stiszogerzlf': 1, 'performing': 1, 'theatre': 1, 'sectorsbrbegnceae': 1, 'wallace': 1, 'chevening': 1, 'clore': 1, 'shortlisting': 1, 'bc': 1, 'mentoring': 1, 'aircheck': 1, 'metro': 1, 'midi': 1, 'freelance': 1, 'xs': 1, 'rachana': 1, 'sansad': 1, 'yearckekjofvwq': 1, 'jalgaonbntgbqlmkk': 1, 'mistakesckekjofvwq': 1, 'responsibilitiesqunsobcudt': 1, 'confidencerynoolxhuv': 1, '201': 1, 'sajhwmuxooiqmadshiyn': 1, 'brbegnceae': 1, 'jetalal': 1, 'hiralal': 1, 'gorbanjara': 1, 'sci': 1, 'bahadarpur': 1, 'gbntgbqlmkkmckekjofvwq': 1, 'gqunsobcudtmrynoolxhuv': 1, '210': 1, 'vj': 1, 'gsajhwmuxoomiqmadshiyn': 1, 'giszogerzlfmbrbegnceae': 1, 'elringklinger': 1, 'automotives': 1, 'kubler': 1, 'chakan': 1, 'finanza': 1, 'saudagar': 1, 'sharvari': 1, 'junner': 1, '168': 1, 'narayangaon': 1, '229': 1, '2021': 1, 'entermediate': 1, 'samne': 1, 'varanasi': 1, 'fitnessbntgbqlmkk': 1, 'championshipckekjofvwq': 1, 'championshipqunsobcudt': 1, 'rynoolxhuvsajhwmuxoo': 1, 'croatia': 1, 'europeiqmadshiyn': 1, 'softkehdwhplubufjtgzwoinlegenlzyuqmiizpocff': 1, 'javascriptbntgbqlmkk': 1, 'bckekjofvwqe': 1, 'gqunsobcudthrynoolxhuvraisoni': 1, 'systemsiqmadshiyn': 1, 'useiszogerzlf': 1, 'membersbrbegnceae': 1, 'analytica': 1, 'analytika': 1, 'tsr': 1, 'tsrtechnologyservices': 1, 'vidarbha': 1, 'vmcbank': 1, 'softtrust': 1, 'softtrustusa': 1, 'jallosh': 1, '10magicalfingers': 1, 'bbntgbqlmkkscckekjofvwq': 1, 'nettech': 1, 'workingqunsobcudt': 1, '12k': 1, 'cricketrynoolxhuv': 1, 'epi': 1, 'workingsajhwmuxoo': 1, 'charni': 1, 'mysql5bntgbqlmkk0': 1, 'pvtckekjofvwqltdqunsobcudt': 1, 'developementrynoolxhuv': 1, 'innovesta': 1, 'priyadarshini': 1, 'siqmadshiynriszogerzlfmbrbegnceaec': 1, 'confer': 1, 'nitka': 1, 'mintmetrix': 1, 'tagline': 1, 'smartbadge': 1, 'shreekiaspack': 1, '3staragroproducts': 1, 'luckystationery': 1, 'logo': 1, 'bbntgbqlmkkcckekjofvwqa': 1, 'hqunsobcudtsrynoolxhuvcsajhwmuxoo': 1, 'siqmadshiynsiszogerzlfcbrbegnceae': 1, 'text2': 1, 'codeigniter': 1, 'augest': 1, 'pragat': 1, 'diifernt': 1, 'ayur': 1, 'ayurveda': 1, 'ayurvedic': 1, 'vitsanindia': 1, 'shooping': 1, 'iv': 1, 'mahabaleshwartours': 1, 'cityspaceindia': 1, 'vi': 1, 'fruitsbuddy': 1, 'fruitbuddy': 1, 'vii': 1, 'totalcitee': 1, 'viii': 1, 'golchha': 1, 'mscit': 1, 'workbntgbqlmkk': 1, 'confidencequnsobcudt': 1, 'hardworkingrynoolxhuv': 1, 'criculum': 1, 'adani': 1, 'suzuki': 1, 'airways': 1, 'rd': 1, 'jsw': 1, 'urja': 1, 'nd': 1, 'sugarcane': 1, 'juicer': 1, 'bombaybntgbqlmkk': 1, 'puneckekjofvwq': 1, 'rqunsobcudtc': 1, 'stepcone': 1, 'gmr': 1, 'instiute': 1, 'technologyrynoolxhuv': 1, 'ltdbntgbqlmkk': 1, 'companyckekjofvwq': 1, 'softwarequnsobcudt': 1, 'materialrynoolxhuverp': 1, 'govtiqmadshiyn': 1, 'khadakwasla': 1, 'govtiszogerzlf': 1, 'bangladesh': 1, 'cwprs': 1, 'v5': 1, 'proe': 1, 'coordinator': 1, 'atributes': 1, 'personbntgbqlmkk': 1, 'environmentsckekjofvwqeducation': 1, 'alamuri': 1, 'ratnamala': 1, 'hrynoolxhuvssajhwmuxoociqmadshiyn': 1, 'siszogerzlfsbrbegnceaec': 1, 'rajdevi': 1, 'maharshtra': 1, '1year': 1, 'detais': 1, 'gyandatt': 1, 'chauhan': 1, 'enggbntgbqlmkk': 1, 'ites': 1, 'srckekjofvwq': 1, 'srqunsobcudt': 1, 'recommendationsrynoolxhuv': 1, 'mgmtsajhwmuxoo': 1, 'needediqmadshiyn': 1, 'drawingiszogerzlf': 1, 'servicesbrbegnceae': 1, 'databanks': 1, 'dept': 1, 'predesigned': 1, 'chemtronics': 1, 'finalization': 1, 'dombivali': 1, 'kaylan': 1, 'schrader': 1, 'assy': 1, 'nc': 1, 'iso9001': 1, 'mech': 1, 'rabale': 1, 'mukand': 1, 'managerarnbsmpjmniuobvmzcyljmxpgouokrhuprwchyfo': 1, 'sectorbntgbqlmkk': 1, 'informationckekjofvwq': 1, 'strategiesrynoolxhuv': 1, 'officesajhwmuxoo': 1, 'meetiqmadshiyn': 1, 'collegeiszogerzlf': 1, 'presentationbrbegnceae': 1, 'moledina': 1, '104': 1, 'f2': 1, 'officebntgbqlmkk': 1, 'photoshopckekjofvwq': 1, 'serverqunsobcudteducation': 1, 'yashwantrao': 1, 'partnerrynoolxhuv': 1, 'closuresajhwmuxoo': 1, 'hgs': 1, 'manageriqmadshiyn': 1, '16th': 1, 'paymentiszogerzlf': 1, 'retaing': 1, 'merchantsbrbegnceae': 1, 'casa': 1, 'signup': 1, 'mahal': 1, '04th': 1, 'gegenerat': 1, 'bunglows': 1, 'bookmyflat': 1, 'teamleader': 1, 'pckekjofvwqsqunsobcudtg': 1, 'businessrynoolxhuv': 1, '6iqmadshiyn': 1, 'strengths': 1, '2brbegnceae': 1, 'cooperatively': 1, 'shope': 1, 'telle': 1, 'finserv': 1, 'hguslvzsmaekwejdxvdjaqsglwijgwrspwohbheqi': 1, 'seema': 1, 'ansalon': 1, 'aromatherapybntgbqlmkk': 1, 'monthsckekjofvwq': 1, 'aerobicsqunsobcudt': 1, 'trainingrynoolxhuv': 1, 'bhavan': 1, 'managementsajhwmuxoo': 1, 'monthsiqmadshiyn': 1, 'assignediszogerzlf': 1, 'gymbrbegnceae': 1, 'rudraaksh': 1, 'juhu': 1, 'aromathai': 1, 'khana': 1, 'jewellery': 1, 'ckekjofvwq': 1, 'qunsobcudteducation': 1, 'supervising': 1, 'pbntgbqlmkkgckekjofvwq': 1, 'drqunsobcudt': 1, 'drrynoolxhuv': 1, 'jrsajhwmuxoo': 1, '9yrs': 1, 'communityiqmadshiyn': 1, 'environmentiszogerzlf': 1, 'individualbrbegnceae': 1, 'smtbntgbqlmkk': 1, 'vhd': 1, 'homescience': 1, 'ickekjofvwqequnsobcudt': 1, 'healthier': 1, 'bandrynoolxhuv': 1, 'goalssajhwmuxoo': 1, 'audioiqmadshiyn': 1, 'glaxosmithkline': 1, 'healthcareiszogerzlf': 1, 'gynaecologist': 1, 'representativebrbegnceae': 1, '800': 1, '3000': 1, 'irda': 1, 'mnyl': 1, 'iinsurance': 1, 'baxa': 1, 'metlife': 1, 'canara': 1, 'vlcc': 1, 'slimming': 1, 'level3': 1, 'golds': 1, 'challenging': 1, 'environmentbntgbqlmkk': 1, 'mbntgbqlmkksckekjofvwq': 1, 'bqunsobcudtsrynoolxhuv': 1, 'fl': 1, 'bsajhwmuxoosciqmadshiyn': 1, 'abasaheb': 1, 'garware': 1, 'goalsiszogerzlf': 1, 'obesitybrbegnceae': 1, 'zojytevalsyzlhpeiqolrfakdntwldsleqsafzvn': 1, 'sbntgbqlmkksckekjofvwqc': 1, 'baramati': 1, 'mqunsobcudterynoolxhuvssajhwmuxoo': 1, 'highschool': 1, 'singhad': 1, 'nirmiti': 1, 'balaji': 1, 'ganesh': 1, '1bntgbqlmkkautocad': 1, '2ckekjofvwqpro': 1, '3qunsobcudtcatia': 1, '4rynoolxhuvword': 1, '5sajhwmuxoophotoshop': 1, 'tubro': 1, 'inplant': 1, 'ashoka': 1, 'maintenanceiqmadshiyneducation': 1, 'decor': 1, 'girija': 1, 'devolopers': 1, 'showrooms': 1, '1iszogerzlfexterior': 1, 'sonia': 1, 'sustainability': 1, 'grandeurs': 1, 'realetors': 1, 'materails': 1, 'equipement': 1, 'cheack': 1, 'progrees': 1, 'devolopment': 1, 'craftspeople': 1, 'operatives': 1, 'autocadbntgbqlmkk': 1, 'vistackekjofvwq': 1, 'detailexperiences': 1, 'alia': 1, '2015qunsobcudt': 1, 'yashwant': 1, 'orichids': 1, '400097': 1, 'indiaeducation': 1, 'autocadiqmadshiyn': 1, 'marol': 1, '400093': 1, 'engineeriszogerzlf': 1, '301': 1, 'muweilah': 1, 'alfalah': 1, 'sharjahbrbegnceae': 1, 'rcc': 1, 'updated': 1, '5m': 1, 'kherwadi': 1, '400051': 1, 'radha': 1, 'dadar': 1, '400014': 1, 'eternis': 1, 'responsibilityckekjofvwq': 1, '2d': 1, '3deducation': 1, 'talreja': 1, 'engineerqunsobcudt': 1, 'responserynoolxhuv': 1, 'apeksha': 1, 'naharkarsajhwmuxoo': 1, 'limitsqunsobcudt': 1, 'indiarynoolxhuv': 1, 'engineersajhwmuxoo': 1, 'indiaiqmadshiyn': 1, '150': 1, 'gskiszogerzlf': 1, 'etp': 1, 'linebrbegnceae': 1, 'itr': 1, 'issued': 1, 'chawla': 1, '2b': 1, 'guinness': 1, 'gac': 1, 'rp': 1, '793': 1, 'cu': 1, 'dh600': 1, '163': 1, 'barsha': 1, 'ncr': 1, 'prm': 1, 'toyo': 1, 'ppe': 1, '2006education': 1, 'banglore': 1, 'nabinagar': 1, 'bihar': 1, 'ntpc': 1, 'brbcl': 1, 'cockekjofvwq': 1, 'stc': 1, 'qatif': 1, '2065864': 1, 'corynoolxhuv': 1, 'arif': 1, 'kinfolk': 1, 'fahad': 1, 'coiqmadshiyn': 1, 'dpf': 1, 'buildingsiszogerzlf': 1, 'typebrbegnceae': 1, 'arabia': 1, 'foremen': 1, 'rfi': 1, 'ducting': 1, 'approved': 1, 'padke': 1, 'pba': 1, 'tipu': 1, 'santnamdev': 1, 'jammu': 1, 'takeoff': 1, 'paintha': 1, 'paripora': 1, 'nagar': 1, 'asuhmczcwiomxxgpihzlqscaltygbcacfohazvdd': 1, 'exceleducation': 1, 'manoharbhai': 1, 'squnsobcudtmrynoolxhuvpsajhwmuxoo': 1, 'resrent': 1, 'hertziqmadshiyn': 1, 'jsoniszogerzlf': 1, 'ucs': 1, 'multifunctional': 1, 'hudson': 1, 'xcode': 1, 'goregaon': 1, 'vidyalankar': 1, 'scriptrynoolxhuv': 1, 'jenkinssajhwmuxoo': 1, 'formatter': 1, 'gmf': 1, 'btiqmadshiyn': 1, 'billingiszogerzlf': 1, 'modulesbrbegnceae': 1, 'tlv': 1, 'ejbs': 1, 'mbntgbqlmkkickekjofvwqt': 1, 'pqunsobcudt': 1, 'nrynoolxhuv': 1, 'ssajhwmuxoosiqmadshiync': 1, 'kiszogerzlfdbrbegnceae': 1, 'infrasoft': 1, 'oot': 1, 'pps': 1, 'ia': 1, 'dated': 1, 'pjlce': 1, 'ds': 1, 'developerckekjofvwq': 1, 'designationqunsobcudt': 1, 'developerrynoolxhuv': 1, 'durationsajhwmuxoo': 1, 'requirementiqmadshiyn': 1, 'exceliszogerzlf': 1, 'technicalskills': 1, 'springmvc': 1, 'azureweb': 1, 'suntechnologies': 1, 'restapibntgbqlmkk': 1, 'opensourcetechnologies': 1, 'phpqunsobcudt': 1, 'oraclerynoolxhuv': 1, 'webservers': 1, 'apachetomcatserversajhwmuxoo': 1, 'internettechnologiesand': 1, 'onesignalwebpushnotifications': 1, 'azurewebservices': 1, 'frameworks': 1, 'operatingsystem': 1, 'windowsserver2012r2': 1, 'winxp': 1, '8iqmadshiyn1': 1, 'giszogerzlfnbrbegnceae': 1, 'sapkal': 1, '6ckekjofvwq0': 1, 'purposequnsobcudt': 1, '6rynoolxhuv0': 1, 'securitysajhwmuxoo': 1, 'algoiqmadshiyn': 1, 'farmingiszogerzlf': 1, 'sbrbegnceaes': 1, 'prakshal': 1, 'oops': 1, '7bntgbqlmkk0education': 1, 'hckekjofvwqsqunsobcudtc': 1, 'vidyabharati': 1, 'winsol': 1, 'dateiqmadshiyn': 1, 'ltdiszogerzlf': 1, 'sawitribai': 1, 'architecturequnsobcudt': 1, 'ajaxiqmadshiyn': 1, 'trimurti': 1, 'realestate': 1, 'ajaxbrbegnceae': 1, 'vimay': 1, '58': 1, 'bntgbqlmkk': 1, 'angularjsckekjofvwq': 1, 'mysqlqunsobcudt': 1, 'atomrynoolxhuv': 1, '10sajhwmuxoo': 1, 'unanth': 1, 'instituteiqmadshiyn': 1, 'learniszogerzlf': 1, 'udemybrbegnceae': 1, 'uom': 1, 'dinman': 1, 'agri': 1, 'facebook': 1, 'respectfulnessbntgbqlmkk': 1, 'beliefckekjofvwq': 1, 'sciene': 1, 'amaravti': 1, '2rynoolxhuv': 1, 'sprinng': 1, '6bntgbqlmkk6': 1, 'sonarqube': 1, 'puttyckekjofvwq': 1, 'responsibilitis': 1, 'meetingsqunsobcudt': 1, 'performancerynoolxhuv': 1, 'requirementssajhwmuxoo': 1, 'ordersiqmadshiyn': 1, 'applicationsiszogerzlf': 1, 'adavance': 1, 'multicultural': 1, 'takshshila': 1, 'softwere': 1, 'ltdckekjofvwq': 1, 'jrqunsobcudt': 1, 'testingckekjofvwq': 1, 'linuxqunsobcudt': 1, 'officerynoolxhuv': 1, 'postgresqlsajhwmuxooeducation': 1, 'jhulelal': 1, 'dayanand': 1, 'kanya': 1, 'freelancer': 1, 'oldest': 1, 'fulfil': 1, 'maharaintakupehtrjlvcldvdwkshjkpmgzekopwdizkdf': 1, '7ckekjofvwq1qunsobcudt': 1, 'db2rynoolxhuv': 1, 'reportsajhwmuxoo': 1, 'grapheducation': 1, 'goregoan': 1, 'analystiqmadshiyn': 1, 'documentationiszogerzlf': 1, 'infonet': 1, 'hiral': 1, 'tektronix': 1, 'hrms': 1, 'integrating': 1, 'bizagi': 1, 'studiobntgbqlmkk': 1, 'thadomal': 1, 'shahani': 1, 'bbh': 1, 'harriman': 1, 'individualsckekjofvwq': 1, 'financing': 1, 'rparynoolxhuv': 1, 'calculatediqmadshiyn': 1, 'determinediszogerzlf': 1, 'automationbrbegnceae': 1, 'assisting': 1, 'fadv': 1, 'collaborating': 1, 'baseline': 1, 'eduavenir': 1, 'invoicesalong': 1, 'withcustomized': 1, 'managescustomer': 1, 'forecastingis': 1, 'streamlining': 1, 'golive': 1, 'humana': 1, 'platformbntgbqlmkk': 1, 'relationeducation': 1, 'bqunsobcudtscrynoolxhuv': 1, 'rivzi': 1, 'stsajhwmuxoo': 1, 'allana': 1, 'processiqmadshiyn': 1, 'processbrbegnceae': 1, 'commversion': 1, 'citrix': 1, 'v9bntgbqlmkk0': 1, 'v10ckekjofvwq0': 1, 'vlsi': 1, '75': 1, 'analystrynoolxhuv': 1, 'creationiqmadshiyn': 1, 'communicationbrbegnceae': 1, 'frds': 1, 'walkthrough': 1, 'brds': 1, 'fsds': 1, 'schenker': 1, 'mwb': 1, 'fsd': 1, 'cug': 1, 'livebntgbqlmkk': 1, 'productionckekjofvwq': 1, 'onboard': 1, 'bau': 1, 'paytech': 1, 'zambia': 1, 'parivartan': 1, 'inffrkxstdskstyekrrrxsfjmixyzkluojiwfkkd': 1, '4bntgbqlmkk2': 1, 'udt': 1, 'sqleducation': 1, 'suisse': 1, '4ckekjofvwq2': 1, 'usersqunsobcudtthe': 1, 'reportingrynoolxhuv': 1, 'orderssajhwmuxoo': 1, 'universeiqmadshiyn': 1, 'requirementsiszogerzlf': 1, 'requirementsbrbegnceae': 1, 'tct': 1, 'sp6': 1, 'decommissioning': 1, 'bros': 1, 'hpsm': 1, 'dvd': 1, 'formatting': 1, 'industrybntgbqlmkk': 1, 'countriesckekjofvwq': 1, 'systemsqunsobcudt': 1, '2rynoolxhuv3': 1, '2sajhwmuxoo4iqmadshiyn': 1, 'proceduresiszogerzlf': 1, 'issuesbrbegnceae': 1, 'ecuador': 1, 'hpalm': 1, 'solmon': 1, 'slt': 1, 'columns': 1, 'july2013to': 1, 'june2014': 1, 'ecc': 1, 'logon': 1, 'ratnagiri': 1, 'vba': 1, 'automationckekjofvwq': 1, 'changesqunsobcudt': 1, 'systemsrynoolxhuv': 1, 'attitudesajhwmuxoo': 1, 'su53': 1, 'analysisiqmadshiyn': 1, 'grc': 1, '10brbegnceaex': 1, 'opportunities': 1, 's4hana': 1, 'edi': 1, 'varies': 1, 'prince2': 1, '1bntgbqlmkk3': 1, '1ckekjofvwq2': 1, 'fricew': 1, 'qm': 1, 'solman': 1, 'gts': 1, '7rynoolxhuv3': 1, '7sajhwmuxoo0': 1, '7iqmadshiyn3': 1, 'vistex': 1, 'proship': 1, 'managenow': 1, 'loftware': 1, 'pocs': 1, 'ecc6iszogerzlf0': 1, 'unicode': 1, 'panvel': 1, 'ryan': 1, 'bp': 1, 'databaseckekjofvwq': 1, 'jobsqunsobcudt': 1, 'modesrynoolxhuv': 1, '4sajhwmuxoo0': 1, '4iqmadshiyn0': 1, '4iszogerzlf2': 1, 'imcost': 1, 'vbntgbqlmkkkckekjofvwqkqunsobcudt': 1, 'menon': 1, 'springernature': 1, 'srynoolxhuvvsajhwmuxooviqmadshiynm': 1, 'springernaturebrbegnceae': 1, 'smartforms': 1, 'lenm': 1, 'netherland': 1, 'dsp': 1, 'dsm': 1, 'sinochem': 1, 'teambntgbqlmkk': 1, 'ethicsckekjofvwq': 1, 'situationsqunsobcudteducation': 1, 'malad': 1, 'anushaktinagar': 1, 'trombay': 1, 'kalyaniqmadshiyn': 1, 'controllingiszogerzlf': 1, 'electricalbrbegnceae': 1, 'pid': 1, 'nippon': 1, 'selec': 1, 'eletrical': 1, 'igg': 1, '8th': 1, 'tuv': 1, 'rheinland': 1, 'omron': 1, 'intouch': 1, 'vijeo': 1, 'citect': 1, 'wincc': 1, 'talkview': 1, 'opc': 1, 'kepware': 1, 'altivar': 1, 'druck': 1, 'dp': 1, 'glanding': 1, 'robotic': 1, 'kuka': 1, 'kr': 1, 'rk': 1, 'twido': 1, 'step7': 1, 'microwin': 1, 'sp2': 1, 'xl': 1, 'cx': 1, 'wpl': 1, 'codesys': 1, 'wonderware': 1, 'citectscada7': 1, 'proficy': 1, 'factotytalk': 1, 'phython': 1, 'codestrike': 1, 'testngbntgbqlmkk': 1, 'modelckekjofvwq': 1, 'automationtesting': 1, 'pvtsajhwmuxooltdiqmadshiyn': 1, 'pvtiszogerzlfltdbrbegnceae': 1, 'microsystems': 1, 'swb': 1, 'ibatis': 1, 'intelligen': 1, 'mobileapp': 1, 'kauapc': 1, 'ims': 1, 'lelo': 1, 'kanban': 1, 'fdd': 1, 'carebntgbqlmkk': 1, 'bugzilla': 1, 'tcp': 1, 'profilesckekjofvwq': 1, '109': 1, '69': 1, 'profilesqunsobcudt': 1, 'planrynoolxhuv': 1, 'specificationsajhwmuxoo': 1, 'teamiqmadshiyn': 1, 'changing': 1, 'challengesiszogerzlf': 1, 'storiesbrbegnceae': 1, 'controlflash': 1, 'comparetool': 1, 'fda': 1, 'archiving': 1, 'hdfc': 1, 'vistaar': 1, 'v2002': 1, 'punebntgbqlmkk': 1, 'poickekjofvwq': 1, 'sdlcqunsobcudt': 1, 'scenariosiqmadshiyn': 1, 'techniqueiszogerzlf': 1, 'releasebrbegnceae': 1, 'globalization': 1, 'stlc': 1, 'retesting': 1, 'access2007': 1, 'bcs': 1, 'fromjspm': 1, 'vbs': 1, 'purvanchal': 1, 'scriptsckekjofvwq': 1, 'automationqunsobcudt': 1, 'requirementrynoolxhuv': 1, 'testingiszogerzlf': 1, 'requirementbrbegnceae': 1, 'apps': 1, 'approvals': 1, 'hayaan': 1, 'packaging': 1, 'haayan': 1, 'idebntgbqlmkk': 1, '10gckekjofvwq': 1, 'bscit': 1, 'testingqunsobcudt': 1, 'testersajhwmuxoo': 1, 'webdriveriqmadshiyn': 1, 'airoli': 1, 'dateiszogerzlf': 1, 'technologybntgbqlmkk': 1, 'motivated': 1, 'workckekjofvwq': 1, 'learnersajhwmuxooeducation': 1, 'bput': 1, 'brahmapur': 1, 'orissa': 1, 'uiqmadshiynciszogerzlfp': 1, 'kingdombrbegnceae': 1, '115': 1, 'whitacre': 1, 'csi': 1, 'centralise': 1, 'myatt': 1, 'maintaing': 1, 'autoit': 1, 'manging': 1, 'specifuwawekogehgjtvzxvfgcqwrxzrmbiezshihabhj': 1, 'easebntgbqlmkk': 1, 'simultaneouslyrynoolxhuv': 1, 'relocatesajhwmuxooeducation': 1, 'vtu': 1, 'vishweshwariya': 1, 'mahavidyalay': 1, 'kohlapur': 1, 'pvtiszogerzlf': 1, 'greenfield': 1, 'libs': 1, 'braseries': 1, 'burkena': 1, 'faso': 1, 'africa': 1, 'carlsberg': 1, 'myanmar': 1, 'yangon': 1, 'haldiram': 1, 'pak': 1, 'amreli': 1, 'apfc': 1, 'acbs': 1, 'analog': 1, 'danfoss': 1, 'schnider': 1, 'vacon': 1, 's7': 1, '1200': 1, '1500': 1, 'et': 1, '200s': 1, 'bready': 1, 'logix5000': 1, 'budgeting': 1, 'overhauling': 1, 'switchgears': 1, 'vfds': 1, 'dg': 1, 'amf': 1, 'fcbc': 1, 'microprocessor': 1, 'ghs': 1, 'bhuli': 1, 'utilitysajhwmuxoo': 1, 'maintenanceiqmadshiyn': 1, '625': 1, '5000': 1, '2000a': 1, 'wtp': 1, 'plantiszogerzlf': 1, 'eot': 1, '450': 1, '110v': 1, '55': 1, 'servicing': 1, 'uptime': 1, '22kv': 1, '11kv': 1, 'timeckekjofvwq': 1, 'pressurerynoolxhuv': 1, '3sajhwmuxoo': 1, 'roleiszogerzlf': 1, 'dep': 1, 'jawaleker': 1, 'nangal': 1, '74': 1, 'osmoflo': 1, 'electromech': 1, '20th': 1, 'awarded': 1, 'authorised': 1, 'ador': 1, '17th': 1, 'etap': 1, 'csa': 1, 'iecex': 1, 'dfmea': 1, 'yibal': 1, '6thmay': 1, 'cfbc': 1, '132kv': 1, 'ac': 1, 'cadd': 1, 'jm': 1, 'microsft': 1, 'excell': 1, '04': 1, 'abilitiesckekjofvwq': 1, 'demonstrated': 1, 'tenurequnsobcudt': 1, 'normsrynoolxhuv': 1, 'samesajhwmuxoo': 1, 'informationiqmadshiyn': 1, 'lossesiszogerzlf': 1, 'identified': 1, 'performancebrbegnceae': 1, 'procedures': 1, 'ctl': 1, '73': 1, 'chargeback': 1, 'ags': 1, 'foi': 1, 'iebntgbqlmkksage': 1, 'lm': 1, 'wms': 1, '050education': 1, 'bckekjofvwqcom': 1, 'landmarkgroup': 1, '2200': 1, 'insurancerynoolxhuv': 1, 'followups': 1, 'trippereri': 1, 'tourssajhwmuxoo': 1, 'vish': 1, 'incharge': 1, 'overlooking': 1, 'quickest': 1, 'companyiqmadshiyn': 1, 'exim': 1, 'paybles': 1, 'fze': 1, 'industriesiszogerzlf': 1, 'processesbrbegnceae': 1, 'eur': 1, 'packing': 1, 'aed': 1, 'sabic': 1, 'kuehne': 1, 'nagel': 1, 'seafreight': 1, 'marriot': 1, 'hilton': 1, 'courrier': 1, 'dpwn': 1, 'deutsche': 1, 'accountholders': 1, 'paperwork': 1, 'wns': 1, 'airlink': 1, 'jebel': 1, 'ali': 1, 'sharjah': 1, 'loadouts': 1, 'purchasing': 1, 'receiving': 1, 'cashiering': 1, 'deltannex': 1, '3iqmadshiyn': 1, '4iszogerzlf': 1, 'prioritization': 1, 'mrn': 1, 'closeout': 1, 'earlier': 1, 'ev': 1, 'adheres': 1, 'ensures': 1, 'tqs': 1, 'seoul': 1, 'jas': 1, 'pc': 1, 'ja': 1, 'ccvi': 1, 'teleconference': 1, 'epc': 1, 'tbes': 1, 'fgp': 1, 'wpmp': 1, 'tco': 1, 'rtlf': 1, 'cbi': 1, 'marshalling': 1, 'mx8800': 1, 'ccr1': 1, 'offsites': 1, 'enppi': 1, 'ethydco': 1, '2nos': 1, 'dhabi': 1, 'plant6': 1, 'ml200': 1, 'oronite': 1, 'singapore': 1, 'hmiweb': 1, '66': 1, 'tgi': 1, 'kh': 1, 'nederland': 1, 'raffinaderji': 1, 'amsterdam': 1, 'hg': 1, 'cmpi': 1, 'advises': 1, 'planned': 1, 'enercon': 1, 'igbts': 1, 'thyristors': 1, 'vinayaka': 1, 'servicesrynoolxhuv': 1, 'themsajhwmuxoo': 1, 'clientsiqmadshiyn': 1, '218': 1, 'brooklyn': 1, 'pittsburgh': 1, 'syracuse': 1, 'apac': 1, 'fiserv': 1, 'firre': 1, 'reviewing': 1, 'eap': 1, 'underperforming': 1, 'brainshark': 1, 'ais': 1, 'bds': 1, 'spreadsheet': 1, 'designated': 1, 'handoff': 1, 'processed': 1, 'tieriii': 1, 'stb': 1, 'editing': 1, '29th': 1, 'customizes': 1, '500': 1, 'gecis': 1, 'lending': 1, 'projootyuqatzbsoseaaglmprtnjpchfesvqwgobxxyi': 1, 'anantrao': 1, 'pawar': 1, 'cybage': 1, 'organisationckekjofvwq': 1, 'ryk': 1, 'drf': 1, 'sqlite': 1, 'managent': 1, 'drbntgbqlmkkbamu': 1, 'sqlit3': 1, 'resourcesrynoolxhuv': 1, 'supportsajhwmuxoo': 1, 'templating': 1, 'interfaceiqmadshiyn': 1, 'annotationsiszogerzlf': 1, 'pymysql': 1, 'css3brbegnceae': 1, 'crud': 1, 'sqlalchemy': 1, 'restfull': 1, 'mvt': 1, 'sorting': 1, 'liabrary': 1, 'matplolib': 1, 'clientqunsobcudt': 1, 'testabilityrynoolxhuv': 1, 'deliverablessajhwmuxoo': 1, 'liabray': 1, 'tk': 1, 'dyanamics': 1, 'projectsbntgbqlmkk': 1, 'methodologyckekjofvwq': 1, 'cyclequnsobcudt': 1, 'utp': 1, 'ptf': 1, 'customerrynoolxhuv': 1, '400sajhwmuxoo': 1, 'foundryiqmadshiyn': 1, 'trainingbrbegnceae': 1, 'completed': 1, 'a2': 1, 'goethe': 1, 'rpgle': 1, '6th': 1, 'memoization': 1, 'pws': 1, 'query400': 1, 'subfiles': 1, 'lf': 1, 'esd': 1, '2015rynoolxhuv': 1, 'jscoe': 1, '18iqmadshiyn': 1, '2017brbegnceae': 1, 'avishkar': 1, 'enfield': 1, 'arduino': 1, 'skncoe': 1, 'opencv': 1, 'pil': 1, 'polmibsbidboelyjagfpeirbhtaeiygmsmgxzjolgn': 1, 'xillinx': 1, 'modelsim': 1, 'multisimckekjofvwq': 1, 'ubuntuqunsobcudt': 1, 'brynoolxhuvesajhwmuxoo': 1, 'fpga': 1, 'programmeriszogerzlf': 1, 'databrbegnceae': 1, '230': 1, 'rgb': 1, 'projectbntgbqlmkk': 1, 'productckekjofvwq': 1, 'configura': 1, 'tion': 1, 'projectssajhwmuxoo': 1, 'jenkinsiqmadshiyn': 1, 'toolsiszogerzlf': 1, 'mul': 1, 'platformsbrbegnceae': 1, 'deploying': 1, 'thaitrade': 1, 'merging': 1, 'bblwtp': 1, 'deploys': 1, 'xaml': 1, 'dhtml': 1, 'vbscript': 1, 'mvp': 1, 'ckekjofvwqnet': 1, 'aspqunsobcudtnet': 1, 'tfs': 1, 'collabnet': 1, 'jirarynoolxhuv': 1, 'aisajhwmuxoo': 1, 'qlikviewiqmadshiyn': 1, 'centreon': 1, 'bamiszogerzlf': 1, 'managereducation': 1, 'sikkim': 1, '92': 1, '76': 1, 'apr': 1, 'capex': 1, 'nextgen': 1, 'iphone': 1, 'finalizing': 1, 'sunnyvale': 1, 'nunit': 1, 'biztalk2006': 1, 'dreamweaver': 1, 'wachovia': 1, 'cript': 1, 'zd': 1, 'tokyo': 1, 'macromedia': 1, 'sql2000': 1, 'cmcs': 1, 'mapco': 1, 'berco': 1, 'anjular': 1, 'j2eeckekjofvwq': 1, 'mws': 1, 'noderynoolxhuvjs': 1, 'laravel': 1, 'ltdiqmadshiyn': 1, 'creates': 1, 'venturus': 1, 'smashingday': 1, 'wwwbrbegnceaesmashingday': 1, 'viralsocials': 1, 'xento': 1, 'familylink': 1, 'propertysolutions': 1, 'speedyceus': 1, 'ceus': 1, 'stplafricaonline': 1, 'stplafrica': 1, '1stexpert': 1, 'jcca': 1, 'rimsys': 1, 'prayerlister': 1, 'promark': 1, 'justbe': 1, 'mtpian': 1, 'sababa': 1, 'nl': 1, 'physicaltherapy': 1, 'hiu': 1, '7cees': 1, 'golwin': 1, 'catdm': 1, 'scheduling': 1, 'versioning': 1, 'sharepointbntgbqlmkkeducation': 1, 'ltdqunsobcudtpune': 1, 'disha': 1, 'poland': 1, 'comprising': 1, 'levelsajhwmuxoo': 1, 'cbil': 1, 'bankingiszogerzlf': 1, 'productionbrbegnceae': 1, 'bdd': 1, 'tosca': 1, 'tdm': 1, 'onboarding': 1, 'ontrack': 1, 'engineerbntgbqlmkk': 1, 'cloudckekjofvwq': 1, 'cloudformation': 1, 'appdynamicsqunsobcudt': 1, 'supportrynoolxhuv': 1, 'productsiqmadshiyn': 1, 'environmentbrbegnceae': 1, 'eip': 1, 'tsys': 1, 'rhd': 1, 'vdi': 1, 'yrs': 1, 'scanned': 1, 'l1': 1, 'eprocess': 1, 'trexo': 1, 'planninsytwcwuhotunyribgnoqnqphemovipfixlechshe': 1, 'ipv4': 1, 'needckekjofvwq': 1, 'firewallsrynoolxhuv': 1, 'ccnp': 1, 'bgpiqmadshiyn': 1, 'hopping': 1, 'ntp': 1, 'netflow': 1, 'enginner': 1, 'bgp': 1, 'dm': 1, 'failovers': 1, 'stormfur': 1, 'stromfur': 1, 'speakerbntgbqlmkk': 1, 'mannerckekjofvwq': 1, 'challengesqunsobcudt': 1, 'projectsrynoolxhuv': 1, 'causessajhwmuxoo': 1, 'tenaciousiqmadshiyneducation': 1, 'akbar': 1, 'peerbhoy': 1, 'comm': 1, 'ecoiszogerzlf': 1, 'janta': 1, 'switchingbrbegnceae': 1, 'karvy': 1, 'innotech': 1, 'url': 1, 'isps': 1, 'sify': 1, 'tikona': 1, 'ciso': 1, 'csm': 1, 'rsaenvision': 1, '4bntgbqlmkk1': 1, 'bmc': 1, 'scriptingeducation': 1, '89': 1, '5500': 1, 'offload': 1, 'hld': 1, 'lld': 1, 'lockdownckekjofvwq': 1, 'balancersqunsobcudt': 1, '4rynoolxhuvx': 1, 'r75': 1, 'r77': 1, 'belongs': 1, 'regionsajhwmuxoo': 1, '29xx': 1, '28xx': 1, '19xx': 1, '3560': 1, 'networksiqmadshiyn': 1, 'moitoring': 1, '4iszogerzlf1': 1, 'siembrbegnceae': 1, 'qualis': 1, '3845': 1, '3750e': 1, '5550': 1, '6500': 1, 'provisioning': 1, '2fa': 1, 'rbntgbqlmkk80': 1, 'netscreen': 1, 'fwsm': 1, 'zeno': 1, 'solarwinds': 1, 'environmentsckekjofvwq': 1, 'rulequnsobcudt': 1, '1800': 1, '1900': 1, '2500': 1, '2600': 1, '2800': 1, '5k': 1, '7k': 1, '3750': 1, 'processrynoolxhuveducation': 1, 'asajhwmuxooiiqmadshiynsiszogerzlfsbrbegnceaem': 1, 'sinhgad': 1, 'boys': 1, 'caput': 1, 'loadbalncing': 1, 'caab': 1, 'l3vpn': 1, 'intervlan': 1, 'ibntgbqlmkkeckekjofvwq': 1, 'ripv2': 1, 'ripng': 1, 'eigrpqunsobcudt': 1, 'acl': 1, 'vtp': 1, 'ehterchannel': 1, 'hsrp': 1, 'ipv6': 1, 'networksrynoolxhuv': 1, '1800s': 1, '1900s': 1, '2600s': 1, '3600s': 1, '3800s': 1, '7200s': 1, '3700s': 1, '4850s': 1, 'etciqmadshiyn': 1, 'proliant': 1, 'lenovo': 1, 'modem': 1, 'rodc': 1, 'wds': 1, 'ri': 1, 'virtualisation': 1, 'esxi': 1, 'workstation': 1, 'virtualbox': 1, 'gns3': 1, 'aisect': 1, 'jiwaji': 1, 'railwire': 1, 'railtel': 1, 'handing': 1, 'dpmcu': 1, 'milknet': 1, 'ems': 1, 'qms': 1, 'scindia': 1, 'gwalior': 1, 'teva': 1, 'bhind': 1, 'unicenter': 1, 'nava': 1, 'helpdesk': 1, 'erp9': 1, 'plazgslwgchqcbitfaokymhqnnjzjsoxubfkljlivkm': 1, 'managementbntgbqlmkk': 1, 'cpro': 1, 'powerpointckekjofvwqexcellent': 1, 'xtraction': 1, 'rkims': 1, 'requirementsqunsobcudt': 1, 'requirementsrynoolxhuv': 1, 'timesajhwmuxoo': 1, 'activitesiqmadshiyn': 1, 'sdmiszogerzlf': 1, 'activites': 1, 'sdm': 1, 'staffing': 1, 'wfm': 1, 'nld': 1, 'trb': 1, 'wims': 1, 'sims': 1, 'pwd': 1, '1986': 1, 'awvpb7123n': 1, 'j1409038': 1, 'kannada': 1, 'escalationseducation': 1, 'icfai': 1, 'bbntgbqlmkkickekjofvwqsqunsobcudts': 1, 'recommended': 1, 'reengineering': 1, 'unitsrynoolxhuv': 1, 'activitiesiqmadshiyn': 1, 'deploymentiszogerzlf': 1, 'teleperformance': 1, 'adhoc': 1, 'macrosbntgbqlmkk': 1, 'environmentckekjofvwq': 1, 'skillsqunsobcudt': 1, 'graphsrynoolxhuv': 1, 'ssajhwmuxoosiqmadshiynpiszogerzlfmbrbegnceaes': 1, 'multiclient': 1, 'pheonix': 1, 'glasgow': 1, 'pmos': 1, 'saviant': 1, 'brainstorming': 1, 'tl': 1, '7bntgbqlmkk0': 1, '9ckekjofvwq0': 1, 'dpa': 1, 'dbartisan': 1, '3t': 1, 'pdacoe': 1, 'uploading': 1, 'iszogerzlfrdls': 1, 'hewlett': 1, 'packard': 1, 'softenger': 1, 'alwayson': 1, 'tn': 1, 'litespeed': 1, 'idera': 1, 'infopacc': 1, 'tdp': 1, 'databasesms': 1, '110': 1, 'availabiity': 1, 'wiprobntgbqlmkk': 1, '2008ckekjofvwq': 1, 'databaserynoolxhuv': 1, 'improvementsiqmadshiyn': 1, 'activityiszogerzlf': 1, 'samebrbegnceae': 1, 'dbas': 1, 'pci': 1, 'holmes': 1, 'failback': 1, 'pe8': 1, 'ee11': 1, 'itskills': 1, 'periodicallyqunsobcudt': 1, 'stagerynoolxhuv': 1, 'resolutionsajhwmuxoo': 1, 'managementiqmadshiyn': 1, 'locationsiszogerzlf': 1, 'criticalitybrbegnceae': 1, 'degine': 1, 'configuraing': 1, 'administered': 1, 'ddl': 1, 'dml': 1, 'backround': 1, 'innovativetechnologies': 1, 'hckekjofvwqsqunsobcudtcrynoolxhuv': 1, 'ssajhwmuxoosiqmadshiynciszogerzlf': 1, 'optimazation': 1, '5brbegnceae5': 1, '98': 1, 'mbntgbqlmkkbckekjofvwqaqunsobcudt': 1, 'brynoolxhuvcsajhwmuxooaiqmadshiyn': 1, 'experienceiszogerzlf': 1, '18c': 1, 'renaming': 1, 'vpc': 1, 'route53': 1, 'iam': 1, 'occ': 1, 'sqlplus': 1, 'vsphere': 1, '6ckekjofvwq5': 1, 'windowseducation': 1, '130': 1, 'upgradesqunsobcudt': 1, 'teamssajhwmuxoo': 1, 'supportiqmadshiyn': 1, '12ciszogerzlf': 1, 'groupsbrbegnceae': 1, 'persists': 1, 'mrp': 1, 'yogesh': 1, 'tikhat': 1, 'ahmad': 1, 'g2': 1, '702': 1, 'aakruti': 1, 'kalepadal': 1, 'hadapsar': 1, '411028': 1, 'aofpt5052c': 1, 'speedbntgbqlmkk': 1, 'bankqunsobcudtrynoolxhuv': 1, 'peoplesajhwmuxoo': 1, 'barclaycard': 1, 'bankingiqmadshiyn': 1, 'linesbrbegnceae': 1, 'troubleshoooting': 1, 'kakatiya': 1, 'upgradation': 1, 'fintech': 1, 'sanpada': 1, 'dbcc': 1, 'dmv': 1, 'dts': 1, 'rebuilds': 1, 'ohs': 1, 'devopseducation': 1, 'govtbntgbqlmkk': 1, '108': 1, 'administrationckekjofvwq': 1, 'maximized': 1, '99qunsobcudt3': 1, '99rynoolxhuv8': 1, 'p1': 1, 'p2': 1, 'fw': 1, 'loadbalancer': 1, 'smtp': 1, 'ocm': 1, 'rcu': 1, 'france': 1, 'rh': 1, 'windowsbntgbqlmkk': 1, 'proceduresckekjofvwq': 1, 'extentsrynoolxhuv': 1, 'databasesajhwmuxoo': 1, 'thingsiqmadshiyn': 1, 'accelya': 1, '12cbrbegnceae': 1, 'cronjobs': 1, 'directories': 1, 'scp': 1, 'rebuilding': 1, 'stats': 1, 'requested': 1, 'diskgroups': 1, 'insolutions': 1, 'switchover': 1, 'edvancer': 1, 'eduventures': 1, 'improved': 1, 'playerbntgbqlmkk': 1, 'proactivelyqunsobcudteducation': 1, 'sadvidya': 1, 'massachusetts': 1, 'datarynoolxhuv': 1, 'recoverysajhwmuxoo': 1, 'platformiqmadshiyn': 1, 'elicitationiszogerzlf': 1, 'slabrbegnceae': 1, 'checkout': 1, '101': 1, '9bntgbqlmkk5': 1, '9ckekjofvwq6': 1, 'themqunsobcudt': 1, 'redolog': 1, 'listenerrynoolxhuvora': 1, 'tnsnamessajhwmuxooora': 1, 'rmaniqmadshiyn': 1, 'flashback': 1, 'oracle11gr2': 1, 'crsctl': 1, 'srvctl': 1, 'raciszogerzlf': 1, '11brbegnceae2': 1, 'dy': 1, '61': 1, 'backups': 1, 'eboss': 1, 'datafeed': 1, 'mfdb': 1, 'rtrms': 1, 'indiainx': 1, 'fastest': 1, 'derivatives': 1, '250': 1, 'gssapi': 1, 'fdw': 1, 'pitr': 1, 'rollouts': 1, 'aag': 1, 'detaipbmhddyaktgxfyuwrphqfzorydgavvkovmxtulfz': 1, 'comparebntgbqlmkkeducation': 1, 'biopharmaceutical': 1, 'neurologyckekjofvwq': 1, 'usedqunsobcudt': 1, 'pathways': 1, 'placerynoolxhuv': 1, 'cdh3': 1, 'tb': 1, 'nosajhwmuxoo': 1, 'nfs': 1, 'nn': 1, 'hadoopiqmadshiyn': 1, 'sparkapi': 1, 'distributioniszogerzlf': 1, 'filesbrbegnceae': 1, 'optimizing': 1, 'sparkcontext': 1, 'cca': 1, '175': 1, 'tectia': 1, 'notebool': 1, 'rlmbntgbqlmkk': 1, 'scripting': 1, 'unixeducation': 1, 'mckekjofvwqtech': 1, 'dbs': 1, 'bqunsobcudttech': 1, 'srm': 1, 'technosoft': 1, '2016rynoolxhuv': 1, 'citibank': 1, 'aml': 1, 'tm': 1, 'icg': 1, 'businesssajhwmuxoo': 1, 'responesbilities': 1, 'membersiqmadshiyn': 1, 'workspace': 1, 'analystsiszogerzlf': 1, 'tablesbrbegnceae': 1, 'prts': 1, 'horton': 1, 'hdp2': 1, 'alcatel': 1, '1x': 1, 'oms': 1, 'framwe': 1, '56': 1, 'organizationbntgbqlmkk': 1, 'aspectsckekjofvwq': 1, 'medi': 1, 'capabilitiesiszogerzlf': 1, 'developmentbrbegnceae': 1, 'ecosystems': 1, 'server2': 1, 'serde': 1, 'wm': 1, 'rescheduling': 1, 'tws': 1, 'absa': 1, 'wmdatalake': 1, 'pso': 1, 'bntgbqlmkknetckekjofvwq': 1, 'dnyanganaga': 1, 'takali': 1, 'kerberos': 1, 'dxc': 1, 'hpe': 1, 'emr': 1, 'hdinsight': 1, 'flumebntgbqlmkk': 1, 'center8ckekjofvwqx': 1, '9qunsobcudt6': 1, '5rynoolxhuv6': 1, 'intellij': 1, 'ideasajhwmuxoo': 1, 'clouderaiqmadshiyn': 1, 'oracleiszogerzlf10': 1, '11geducation': 1, 'mbrbegnceaec': 1, 'analyes': 1, 'terabyte': 1, 'websites': 1, 'oracle11g': 1, 'etrack': 1, 'tsp': 1, 'rts': 1, 'sadms': 1, 'gfs': 1, 'gdo': 1, 'epecs': 1, 'rcm': 1, 'prc': 1, 'sk': 1, 'mapplet': 1, 'worklets': 1, 'utc': 1, 'type1': 1, 'type2': 1, 'cdc': 1, 'jijayi': 1, '118': 1, 'narhe': 1, 'chowki': 1, '411041': 1, 'analysisbntgbqlmkk': 1, 'setckekjofvwq': 1, 'documentqunsobcudt': 1, 'estimationrynoolxhuv': 1, 'environmentsajhwmuxoo': 1, 'documentiqmadshiyn': 1, 'modeiszogerzlf': 1, 'zookeeperbrbegnceae': 1, 'importing': 1, 'tpt': 1, 'websphere': 1, 'v8': 1, 'hiveql': 1, 'normalized': 1, 'avro': 1, 'jdk': 1, 'rplus': 1, 'identifies': 1, 'productrynoolxhuv': 1, 'datasets': 1, 'structuredsajhwmuxoo': 1, 'wayiqmadshiyneducation': 1, 'ver': 1, 'desinnpdiyggrhbhqcfekilhmsmhdjdaaqnwvjqalowr': 1, 'technicalproficiencies': 1, 'insurancebntgbqlmkk': 1, 'etlqunsobcudt': 1, '9rynoolxhuv1': 1, 'investmentsiqmadshiyn': 1, 'divisionsiszogerzlf': 1, 'fx': 1, 'classesbrbegnceae': 1, 'cfoc': 1, 'infa': 1, 'powercenter': 1, 'egc': 1, 'cognos': 1, 'documented': 1, 'uploaded': 1, 'extc': 1, 'vashi': 1, 'frbntgbqlmkk': 1, 'providerckekjofvwq': 1, 'areasqunsobcudt': 1, '9rynoolxhuv6sajhwmuxoo1': 1, '5iqmadshiyn0': 1, 'tidaliszogerzlf': 1, '9brbegnceae6': 1, 'workflows': 1, '6bntgbqlmkk2ckekjofvwq1': 1, 'redshift': 1, 'kochi': 1, 'environmentrynoolxhuv': 1, 'targetsajhwmuxoo': 1, 'issuesiqmadshiyn': 1, 'tjdbcconfiguration': 1, 'tjdbcinput': 1, 'thdfsconfiguration': 1, 'ts3configuration': 1, 'tcacheout': 1, 'tcachein': 1, 'tfileinputdelimited': 1, 'tfileoutputdelimited': 1, 'tjoin': 1, 'treplicate': 1, 'tparallelize': 1, 'tconverttype': 1, 'taggregate': 1, 'tsortrow': 1, 'tflowmeter': 1, 'tlogcatcher': 1, 'trowgenerator': 1, 'tjava': 1, 'tjavarow': 1, 'taggregaterow': 1, 'tfilter': 1, 'jobsbrbegnceae': 1, 'joblets': 1, 'trunjob': 1, 'tparalleize': 1, 'subjobs': 1, 'tfilelist': 1, 'ts3put': 1, 'tftput': 1, 'tfileexist': 1, 'tftpconnection': 1, 'flatfiles': 1, 'verbntgbqlmkk': 1, 'transformationsqunsobcudt': 1, 'etcrynoolxhuv': 1, 'warehousesajhwmuxoo': 1, '2010iqmadshiyn': 1, 'debuggingiszogerzlf': 1, 'btech': 1, 'hbrbegnceaes': 1, 'willingdon': 1, 'yesbntgbqlmkk': 1, 'intio': 1, 'footballckekjofvwq': 1, 'travellingqunsobcudt': 1, 'beliefrynoolxhuv': 1, 'sajhwmuxoo27iqmadshiyn01iszogerzlf2019': 1, 'mrbrbegnceae': 1, 'manish': 1, 'prabhakar': 1, 'bharati': 1, 'vidyapeeth': 1, 'datastage': 1, 'infocomm': 1, 'havevbeen': 1, '3years': 1, 'mnyqrqxwvaosysvwoynhdsznheqyqrfwzsnhjfczs': 1, 'intra': 1, 'eventsbntgbqlmkk': 1, 'sepsoft': 1, '24th': 1, '2016ckekjofvwq': 1, 'developerqunsobcudt': 1, '3ckekjofvwq0': 1, '4qunsobcudt0': 1, '5rynoolxhuv0': 1, '6sajhwmuxoo0': 1, 'angular1iszogerzlf5': 1, 'typescriptbrbegnceae': 1, 'kakinada': 1, 'cooperation': 1, 'tiebar': 1, 'menswear': 1, 'hitech': 1, 'switzerland': 1, 'adockekjofvwqnet': 1, '8qunsobcudt0': 1, 'mozilla': 1, 'firefox10': 1, 'websitesajhwmuxoo': 1, 'contactus': 1, 'pageiqmadshiyn': 1, 'websiteiszogerzlf': 1, 'brbegnceaenet': 1, 'hm': 1, 'multispecialty': 1, 'sms': 1, 'paperless': 1, 'rms': 1, 'uhs': 1, 'cmus': 1, 'sblc': 1, 'fg': 1, 'nbf': 1, 'cb': 1, 'davv': 1, 'bootstrapqunsobcudt': 1, 'brynoolxhuvscsajhwmuxoo': 1, 'aspiszogerzlfnet': 1, '017': 1, 'pdf': 1, 'jqueryckekjofvwq': 1, 'qunsobcudtnet': 1, '5rynoolxhuv': 1, '2016sajhwmuxoo': 1, 'toolsiqmadshiyn': 1, 'reportiszogerzlf': 1, 'stadio': 1, '2014brbegnceae': 1, 'thergaon': 1, 'entityframewok': 1, 'corecode': 1, 'inetsoft': 1, 'frameworkckekjofvwq': 1, '13qunsobcudt': 1, '1rynoolxhuvproject': 1, 'employeeiqmadshiyn': 1, 'activitiesiszogerzlf': 1, 'locationbrbegnceae': 1, 'golang': 1, 'microservices': 1, 'consensuseducation': 1, 'mbntgbqlmkktech': 1, 'malaviya': 1, 'protocolrynoolxhuv': 1, 'clientssajhwmuxoo': 1, 'egiqmadshiyn': 1, 'tradefinex': 1, 'mh': 1, 'infactor': 1, 'erc': 1, 'networkiszogerzlf': 1, 'casesbrbegnceae': 1, 'oro': 1, 'orowealth': 1, 'commision': 1, 'eg': 1, 'mf': 1, '22k': 1, 'cakephp': 1, 'customisation': 1, 'opencart': 1, 'birst': 1, 'visualforce': 1, 'salesforcebntgbqlmkkcom': 1, 'forceckekjofvwqcom': 1, 'javaqunsobcudt': 1, 'streamingrynoolxhuv': 1, 'pisajhwmuxoo': 1, 'cariqmadshiyn': 1, 'alarmiszogerzlfeducation': 1, 'sanghavi': 1, 'mahavir': 1, 'meri': 1, 'jsbntgbqlmkk': 1, 'glassfishckekjofvwq': 1, 'jharnet': 1, 'osi': 1, 'protocolsqunsobcudt': 1, 'designerrynoolxhuveducation': 1, 'blockchainsajhwmuxoo': 1, 'blockchainiqmadshiyn': 1, 'byte': 1, 'blockchainiszogerzlf': 1, 'serverbrbegnceae': 1, 'litecoin': 1, 'p2p': 1, 'lavisa': 1, 'adhar': 1, 'dapp': 1, 'corda': 1, 'tendermint': 1, 'specilaized': 1, 'reactjs': 1, 'angulareducation': 1, 'vidyashram': 1, 'une': 1, 'amway': 1, 'levelbntgbqlmkk': 1, '3ckekjofvwqnetworking': 1, 'bharti': 1, '1qunsobcudtinternational': 1, 'vergata': 1, 'ijar': 1, '20656': 1, 'ijsrd': 1, 'maharastra': 1, 'productsrynoolxhuv': 1, 'foods': 1, '8sajhwmuxoodata': 1, 'societyiqmadshiyn': 1, 'rubik': 1, 'jspm': 1, 'jayawantrao': 1, 'sawant': 1, 'kbntgbqlmkk': 1, 'kckekjofvwq': 1, 'ltdsajhwmuxoo': 1, 'productiqmadshiyn': 1, 'transactionsiszogerzlf': 1, 'identifying': 1, 'errorsbrbegnceae': 1, 'uexngsbjynlemolnrjaqtcafevsmiyqenfxfuemh': 1, 'androidckekjofvwq': 1, 'applicationqunsobcudt': 1, 'devicesrynoolxhuv': 1, 'keyssajhwmuxoo': 1, 'acquirediqmadshiyn': 1, 'crimesiszogerzlf': 1, 'prescribed': 1, 'constraintbrbegnceae': 1, 'yeshwantrao': 1, 'attitudebntgbqlmkk': 1, 'internetckekjofvwqeducation': 1, 'gobind': 1, 'squnsobcudt': 1, 'mrynoolxhuv': 1, 'esajhwmuxoo': 1, 'siqmadshiyn': 1, 'breakeriszogerzlf': 1, 'drawingbrbegnceae': 1, 'hv': 1, 'lv': 1, 'megger': 1, 'trans': 1, 'adi': 1, 'shankaracharya': 1, 'marg': 1, 'opp': 1, 'powai': 1, '400076': 1, 'challengesbntgbqlmkk': 1, 'thinkingckekjofvwq': 1, 'learnerqunsobcudt': 1, 'particularssajhwmuxoo': 1, 'dongare': 1, 'mandakini': 1, 'murlidhar': 1, 'jaywant': 1, 'nt': 1, 'typesbrbegnceae': 1, 'pcbs': 1, 'minilec': 1, 'pirangoot': 1, 'protius': 1, 'multisim': 1, 'keil': 1, 'nternet': 1, 'beatsbntgbqlmkk': 1, 'panelckekjofvwq': 1, 'systemqunsobcudteducation': 1, 'rb': 1, '8bntgbqlmkk1': 1, 'handlingckekjofvwqeducation': 1, 'pqunsobcudtvrynoolxhuvp': 1, 'pravaranagar': 1, 'asajhwmuxookiqmadshiynjunior': 1, 'aiszogerzlfkbrbegnceaemahavidyalya': 1, 'mccia': 1, 'bramha': 1, 'suncity': 1, 'wanless': 1, 'vankan': 1, 'presonal': 1, '1995bntgbqlmkk': 1, 'singleckekjofvwqeducation': 1, 'sinhagad': 1, 'kopargaon': 1, 'kqunsobcudtbrynoolxhuvpsajhwmuxoopolytechnic': 1, 'siqmadshiyngiszogerzlfvidyalaya': 1, 'intelux': 1, 'diplomaticallybntgbqlmkk': 1, 'dhanraj': 1, 'wagheducation': 1, 'snd': 1, 'yeola': 1, 'muktanand': 1, 'jrckekjofvwq': 1, 'madhyamik': 1, 'mva': 1, 'kv': 1, 'reportssajhwmuxoo': 1, '11171': 1, '60076': 1, 'vpi': 1, 'crt': 1, 'rtcc': 1, 'oltc': 1, 'ctr': 1, 'esun': 1, 'mriqmadshiyn': 1, 'br': 1, 'prv': 1, 'wti': 1, 'oti': 1, 'inspectioniszogerzlf': 1, 'assemblybrbegnceae': 1, 'silverline': 1, 'erda': 1, 'rfe': 1, 'devsecops': 1, '8ckekjofvwq5': 1, 'catering': 1, 'applicationsqunsobcudt': 1, 'domainrynoolxhuv': 1, 'esign': 1, 'ampd': 1, 'cru': 1, 'bizcomp': 1, 'comp': 1, 'cxmt': 1, 'centrex': 1, 'procedureiqmadshiyn': 1, 'signoff': 1, 'smp': 1, 'scorecard': 1, 'vqi': 1, 'subcon': 1, 'offshoring': 1, 'resourcing': 1, 'csl': 1, 'km': 1, 'pmr': 1, 'sqa': 1, 'csat': 1, 'rebadged': 1, 'esaya': 1})\n"
     ]
    }
   ],
   "source": [
    "count = extract_common_words_from_raw_data_ood(res_data, 'Resume')\n",
    "print(count)"
   ],
   "metadata": {
    "collapsed": false,
    "ExecuteTime": {
     "end_time": "2024-01-29T02:46:43.795800400Z",
     "start_time": "2024-01-29T02:46:12.140745200Z"
    }
   },
   "id": "a3fca6554ace1bbb",
   "execution_count": 20
  },
  {
   "cell_type": "markdown",
   "source": [
    "#### Output Analysis\n",
    "\n",
    "Clearly misspelled words like \"exprience\" occur most frequently, and sequence of seemingly random characters \"bbntgbqlmkkeckekjofvwq\" appeared 5 times.\n",
    "\n",
    "Conversely, keywords like \"mozilla\" which may be important to Web Designers only appeared once. Other important keywords like \"tensorflow\" and \"scikit\" only appears 5 times, the same as \"bbntgbqlmkkeckekjofvwq\". I therefore hypothesise that words such as \"bbntgbqlmkkeckekjofvwq\" occurring is not based on chance due to the miniscule probability. There is thus no apparent clear threshold/boundary between misspelled/noise words and keywords.\n",
    "\n",
    "--- End Analysis ---"
   ],
   "metadata": {
    "collapsed": false
   },
   "id": "db87d52b2223b323"
  },
  {
   "cell_type": "code",
   "outputs": [],
   "source": [
    "def pipeline(filepath: str, feature_name: str):\n",
    "    \n",
    "    def total_normalize(text):\n",
    "        text = clean_raw_text(text)\n",
    "        text_tag = nltk.pos_tag(\n",
    "            nltk.word_tokenize(text)\n",
    "        )\n",
    "        text_lemmas = extract_lemmas(text_tag)\n",
    "        \n",
    "        return ' '.join(text_lemmas)\n",
    "    \n",
    "    df = pd.read_csv(filepath)\n",
    "    # df = df.drop_duplicates(subset=[feature_name], keep='first')\n",
    "    df[feature_name] = df[feature_name].apply(total_normalize)\n",
    "    \n",
    "    return df"
   ],
   "metadata": {
    "collapsed": false,
    "ExecuteTime": {
     "end_time": "2024-01-29T02:46:43.796837800Z",
     "start_time": "2024-01-29T02:46:43.778498Z"
    }
   },
   "id": "69961c6ec093dd8c",
   "execution_count": 21
  },
  {
   "cell_type": "code",
   "outputs": [
    {
     "data": {
      "text/plain": "'skill r python sap hana tableau sap hana sql sap hana pal m sql sap lumira c linear program data model advance analytics scm analytics retail analytics social medium analytics nlp education detail january 2017 to january 2018 pgdm business analytics great lake institute of management illinois institute of technology january 2013 bachelor of engineering electronics and communication bengaluru karnataka new horizon college of engineering bangalore visvesvaraya technological university data science consultant consultant deloitte usi skill detail linear program exprience 6 month retail exprience 6 month retail marketing exprience 6 month scm exprience 6 month sql exprience le than 1 year month deep learn exprience le than 1 year month machine learn exprience le than 1 year month python exprience le than 1 year month r exprience le than 1 year monthscompany detail company deloitte usi description the project involve analyse historic deal and come with insight to optimize future dealsbntgbqlmkk role be give raw data carry out end to end analysis and present insight to clientckekjofvwq key responsibility extract data from client system across geographiesqunsobcudt understand and build report in tableaurynoolxhuv infer meaningful insight to optimize price and find out process blockadessajhwmuxoo technical environment r tableauiqmadshiyn industry cross industry service area cross industry product project name handwrite recognition consultant 3 monthsiszogerzlf the project involve take handwritten image and convert them to digital text image by object detection and sentence creationbrbegnceae role i be develop sentence correction functionality key responsibility gather data large enough to capture all english word train lstm model on word technical environment python industry finance service area financial service bi development project name swift consultant 8 month the project be to develop an analytics infrastructure on top of sap s 4 it would user to view financial report to respective department report also include forecasting expense role i be lead the offshore team key responsibility design develop data model for report develop etl for data flow validate various report technical environment sap hana tableau sap ao industry healthcare analytics service area life science product development project name clinical healthcare system consultant 2 month the project be to develop an analytics infrastructure on top of argus it would allow user to query faster and provide advance analytics capability role i be involve from design to deploy phase perform a lot of data restructuring and build model for insight key responsibility design develop data model for report develop and deploy analytical model validate various report technical environment data model sap hana tableau nlp industry fmcg service area trade promotion project name consumption base planning for flower food consultant 8 month the project involve set up of crm and cbp module role i be involve in key data decomposition activity and set up the base for future year forecast over the course of the project i develop various model and carry out key performance improvement key responsibility design develop hana model for decomposition develop data flow for forecast develop various view for reporting of customer sale fund validate various report in bobj technical environment data model sap hana bobj time series forecast internal initiative industry fmcg customer segmentation and rfm analysis consultant 3 month the initiative involve set up of hana python interface and advance analytics on python over the course i have successfully segment data into five core segment use k mean and carry out rfm analysis in python also develop algorithm to categorize any new customer under the defined bucket technical environment anaconda3 python3 6 hana sps12 industry telecom invoice state detection consultant 1 month the initiative be to reduce the manual effort in verify closed and open invoice manually it involve development to a decision tree to classify open close invoice this enabled effort reduction by 60 technical environment r sap pal sap hana sps12 accenture experience industry analytics cross industry in process analytics for sap senior developer 19 month accenture solution pvt ltd india the project involve development of sap analytics tool in process analytics ipa my role be to develop database object and data model to provide operational insight to client role i have develop various finance relate kpis and spearhead various deployment introduce sap predictive analytics to reduce development time and reuse functionality for kpis and prepared production planning report key responsibility involve in information gather phase design and implement sap hana data model use attribute view analytic view and calculation view develop various kpi s individually use complex sql script in calculation view create procedure in hana database take ownership and develop dashboard functionality involve in build data process algorithm to be execute in r server for cluster analysis technical environment r sap hana t sql industry cross industry accenture test accelerator for sap database developer 21 month accenture solution pvt ltd india role i have take care of all development activity for the atas tool and have also complete various deployment of the product apart from these activity i be also actively involve in maintenance of the database server production quality key responsibility analyze business requirement understand the scope get requirement clarify interact with business and further transform all requirement to generate attribute mapping document and review map specification documentation create update database object like table view store procedure function and package monitor sql server error log and application log through sql server agent prepare data flow diagram entity relationship diagram use uml responsible for design develop and normalization of database table experience in performance tune use sql profiler involve in qa uat knowledge transfer and support activity technical environment sql server 2008 2014 visual studio 2010 windows server performance monitor sql server profiler c pl sql t sql'"
     },
     "execution_count": 22,
     "metadata": {},
     "output_type": "execute_result"
    }
   ],
   "source": [
    "processed_resumes = pipeline('UpdatedResumeDataSet_T1_7.csv', feature_name='Resume')\n",
    "processed_resumes['Resume'][2]"
   ],
   "metadata": {
    "collapsed": false,
    "ExecuteTime": {
     "end_time": "2024-01-29T02:49:17.469550500Z",
     "start_time": "2024-01-29T02:46:43.782161700Z"
    }
   },
   "id": "2b9992be2a73bbda",
   "execution_count": 22
  },
  {
   "cell_type": "code",
   "outputs": [],
   "source": [
    "processed_resumes.to_csv('cleanedResumes.csv', index=False)"
   ],
   "metadata": {
    "collapsed": false,
    "ExecuteTime": {
     "end_time": "2024-01-29T02:49:17.874450Z",
     "start_time": "2024-01-29T02:49:17.454908900Z"
    }
   },
   "id": "946f8843a92a7673",
   "execution_count": 23
  },
  {
   "cell_type": "code",
   "outputs": [
    {
     "name": "stdout",
     "output_type": "stream",
     "text": [
      "Category\n",
      "Java Developer               839\n",
      "Testing                      699\n",
      "DevOps Engineer              549\n",
      "Python Developer             479\n",
      "Web Designing                449\n",
      "HR                           439\n",
      "Hadoop                       419\n",
      "Blockchain                   399\n",
      "ETL Developer                399\n",
      "Operations Manager           399\n",
      "Data Science                 399\n",
      "Sales                        399\n",
      "Mechanical Engineer          399\n",
      "Arts                         359\n",
      "Database                     329\n",
      "Electrical Engineering       299\n",
      "Health and fitness           299\n",
      "PMO                          299\n",
      "Business Analyst             279\n",
      "DotNet Developer             279\n",
      "Automation Testing           259\n",
      "Network Security Engineer    249\n",
      "SAP Developer                239\n",
      "Civil Engineer               239\n",
      "Advocate                     199\n",
      "Name: count, dtype: int64\n"
     ]
    }
   ],
   "source": [
    "print(processed_resumes['Category'].value_counts())"
   ],
   "metadata": {
    "collapsed": false,
    "ExecuteTime": {
     "end_time": "2024-01-29T02:49:17.894086400Z",
     "start_time": "2024-01-29T02:49:17.878025600Z"
    }
   },
   "id": "57e7cd8148599e83",
   "execution_count": 24
  },
  {
   "cell_type": "code",
   "outputs": [
    {
     "data": {
      "text/plain": "              Category                                             Resume\n0         Data Science  qwtnrvduof education detail may 2013 to may 20...\n1         Data Science  qwtnrvduof area of interest deep learn control...\n2         Data Science  skill r python sap hana tableau sap hana sql s...\n3         Data Science  education detail mca ymcaust faridabad haryana...\n4         Data Science  skill c basic iot python matlab data science m...\n...                ...                                                ...\n873            Testing  skill set o window xp 7 8 8bntgbqlmkk1 10 data...\n874            Testing  good logical and analytical skill positive att...\n878            Testing  personal skill quick learner eagerness to lear...\n1540   DevOps Engineer  core skill project program management agile sc...\n7135  Business Analyst  education detail february 2006 to february 200...\n\n[188 rows x 2 columns]",
      "text/html": "<div>\n<style scoped>\n    .dataframe tbody tr th:only-of-type {\n        vertical-align: middle;\n    }\n\n    .dataframe tbody tr th {\n        vertical-align: top;\n    }\n\n    .dataframe thead th {\n        text-align: right;\n    }\n</style>\n<table border=\"1\" class=\"dataframe\">\n  <thead>\n    <tr style=\"text-align: right;\">\n      <th></th>\n      <th>Category</th>\n      <th>Resume</th>\n    </tr>\n  </thead>\n  <tbody>\n    <tr>\n      <th>0</th>\n      <td>Data Science</td>\n      <td>qwtnrvduof education detail may 2013 to may 20...</td>\n    </tr>\n    <tr>\n      <th>1</th>\n      <td>Data Science</td>\n      <td>qwtnrvduof area of interest deep learn control...</td>\n    </tr>\n    <tr>\n      <th>2</th>\n      <td>Data Science</td>\n      <td>skill r python sap hana tableau sap hana sql s...</td>\n    </tr>\n    <tr>\n      <th>3</th>\n      <td>Data Science</td>\n      <td>education detail mca ymcaust faridabad haryana...</td>\n    </tr>\n    <tr>\n      <th>4</th>\n      <td>Data Science</td>\n      <td>skill c basic iot python matlab data science m...</td>\n    </tr>\n    <tr>\n      <th>...</th>\n      <td>...</td>\n      <td>...</td>\n    </tr>\n    <tr>\n      <th>873</th>\n      <td>Testing</td>\n      <td>skill set o window xp 7 8 8bntgbqlmkk1 10 data...</td>\n    </tr>\n    <tr>\n      <th>874</th>\n      <td>Testing</td>\n      <td>good logical and analytical skill positive att...</td>\n    </tr>\n    <tr>\n      <th>878</th>\n      <td>Testing</td>\n      <td>personal skill quick learner eagerness to lear...</td>\n    </tr>\n    <tr>\n      <th>1540</th>\n      <td>DevOps Engineer</td>\n      <td>core skill project program management agile sc...</td>\n    </tr>\n    <tr>\n      <th>7135</th>\n      <td>Business Analyst</td>\n      <td>education detail february 2006 to february 200...</td>\n    </tr>\n  </tbody>\n</table>\n<p>188 rows × 2 columns</p>\n</div>"
     },
     "execution_count": 25,
     "metadata": {},
     "output_type": "execute_result"
    }
   ],
   "source": [
    "processed_resumes"
   ],
   "metadata": {
    "collapsed": false,
    "ExecuteTime": {
     "end_time": "2024-01-29T01:42:57.102900200Z",
     "start_time": "2024-01-29T01:42:57.053369200Z"
    }
   },
   "id": "41d01493dffd013f",
   "execution_count": 25
  },
  {
   "cell_type": "markdown",
   "source": [
    "# OUT OF CODE"
   ],
   "metadata": {
    "collapsed": false
   },
   "id": "a537f1023eff8b2f"
  },
  {
   "cell_type": "code",
   "outputs": [],
   "source": [
    "from nltk.corpus import wordnet as wn"
   ],
   "metadata": {
    "collapsed": false,
    "ExecuteTime": {
     "end_time": "2024-01-28T17:55:29.978392800Z",
     "start_time": "2024-01-28T17:55:29.967015600Z"
    }
   },
   "id": "862ed469acede438",
   "execution_count": 49
  },
  {
   "cell_type": "code",
   "outputs": [
    {
     "data": {
      "text/plain": "[]"
     },
     "execution_count": 50,
     "metadata": {},
     "output_type": "execute_result"
    }
   ],
   "source": [
    "wn.synsets('prophetiqmadshiyn')"
   ],
   "metadata": {
    "collapsed": false,
    "ExecuteTime": {
     "end_time": "2024-01-28T17:55:29.979392700Z",
     "start_time": "2024-01-28T17:55:29.970473800Z"
    }
   },
   "id": "9dede2365cd53679",
   "execution_count": 50
  },
  {
   "cell_type": "code",
   "outputs": [
    {
     "ename": "NameError",
     "evalue": "name 'sample_lemmas' is not defined",
     "output_type": "error",
     "traceback": [
      "\u001B[1;31m---------------------------------------------------------------------------\u001B[0m",
      "\u001B[1;31mNameError\u001B[0m                                 Traceback (most recent call last)",
      "Cell \u001B[1;32mIn[51], line 1\u001B[0m\n\u001B[1;32m----> 1\u001B[0m sample_lemmas\n",
      "\u001B[1;31mNameError\u001B[0m: name 'sample_lemmas' is not defined"
     ]
    }
   ],
   "source": [
    "sample_lemmas"
   ],
   "metadata": {
    "collapsed": false,
    "ExecuteTime": {
     "end_time": "2024-01-28T17:55:30.198695600Z",
     "start_time": "2024-01-28T17:55:29.974393700Z"
    }
   },
   "id": "9de6d1d2cb80beb",
   "execution_count": 51
  },
  {
   "cell_type": "code",
   "outputs": [],
   "source": [
    "lemmatizer.lemmatize('deployed', 'v')"
   ],
   "metadata": {
    "collapsed": false,
    "ExecuteTime": {
     "end_time": "2024-01-28T17:55:30.204697100Z",
     "start_time": "2024-01-28T17:55:30.199695600Z"
    }
   },
   "id": "973dcc9763ee3aec",
   "execution_count": null
  },
  {
   "cell_type": "code",
   "outputs": [],
   "source": [
    "sample_tag"
   ],
   "metadata": {
    "collapsed": false,
    "ExecuteTime": {
     "start_time": "2024-01-28T17:55:30.200694800Z"
    }
   },
   "id": "de200abb162432",
   "execution_count": null
  },
  {
   "cell_type": "code",
   "outputs": [],
   "source": [
    "# Watch Cell\n",
    "# print(clean_raw_text(sample_res))\n",
    "# clean_raw_text(sample_res)\n",
    "# nltk.corpus.words.raw().split('\\n')\n",
    "# np.isin(['detail'], nltk.corpus.words.raw().split('\\n'))]\n",
    "def x():\n",
    "    x_dict = nltk.corpus.words.raw().split('\\n')\n",
    "    x_list = [levenshteinDistance('sklearn', word) for word in x_dict]\n",
    "    \n",
    "    id = x_list.index(min(x_list))\n",
    "    print(id)\n",
    "    print(min(x_list))\n",
    "    print(nltk.corpus.words.raw().split('\\n')[id])\n",
    "    \n",
    "x()\n",
    "\n",
    "# lemmatizer.lemmatize('extracting')"
   ],
   "metadata": {
    "collapsed": false,
    "ExecuteTime": {
     "start_time": "2024-01-28T17:55:30.201698100Z"
    }
   },
   "id": "d3a07f1ebda10c20",
   "execution_count": null
  },
  {
   "cell_type": "code",
   "outputs": [],
   "source": [
    "from nltk.metrics.distance import edit_distance as test\n",
    "test('aws', 'reductionqunsobcudt', substitution_cost=1)"
   ],
   "metadata": {
    "collapsed": false,
    "ExecuteTime": {
     "start_time": "2024-01-28T17:55:30.202698100Z"
    }
   },
   "id": "63d64421478deef8",
   "execution_count": null
  },
  {
   "cell_type": "code",
   "outputs": [],
   "source": [],
   "metadata": {
    "collapsed": false,
    "ExecuteTime": {
     "start_time": "2024-01-28T17:55:30.202698100Z"
    }
   },
   "id": "be3c47f12dd2ff6a",
   "execution_count": null
  }
 ],
 "metadata": {
  "kernelspec": {
   "name": "python3",
   "language": "python",
   "display_name": "Python 3 (ipykernel)"
  },
  "language_info": {
   "codemirror_mode": {
    "name": "ipython",
    "version": 2
   },
   "file_extension": ".py",
   "mimetype": "text/x-python",
   "name": "python",
   "nbconvert_exporter": "python",
   "pygments_lexer": "ipython2",
   "version": "2.7.6"
  }
 },
 "nbformat": 4,
 "nbformat_minor": 5
}
