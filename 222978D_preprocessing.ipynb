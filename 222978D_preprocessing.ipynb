{
 "cells": [
  {
   "cell_type": "code",
   "execution_count": 1,
   "id": "initial_id",
   "metadata": {
    "collapsed": true,
    "ExecuteTime": {
     "end_time": "2024-01-24T14:30:48.515890400Z",
     "start_time": "2024-01-24T14:30:48.166517Z"
    }
   },
   "outputs": [
    {
     "name": "stderr",
     "output_type": "stream",
     "text": [
      "C:\\Users\\JS\\AppData\\Local\\Temp\\ipykernel_8060\\234671977.py:2: DeprecationWarning: \n",
      "Pyarrow will become a required dependency of pandas in the next major release of pandas (pandas 3.0),\n",
      "(to allow more performant data types, such as the Arrow string type, and better interoperability with other libraries)\n",
      "but was not found to be installed on your system.\n",
      "If this would cause problems for you,\n",
      "please provide us feedback at https://github.com/pandas-dev/pandas/issues/54466\n",
      "        \n",
      "  import pandas as pd\n"
     ]
    }
   ],
   "source": [
    "import numpy as np\n",
    "import pandas as pd\n",
    "import re\n",
    "import nltk\n",
    "import os"
   ]
  },
  {
   "cell_type": "code",
   "outputs": [
    {
     "name": "stderr",
     "output_type": "stream",
     "text": [
      "[nltk_data] Downloading package averaged_perceptron_tagger to\n",
      "[nltk_data]     C:\\Users\\JS\\AppData\\Roaming\\nltk_data...\n",
      "[nltk_data]   Package averaged_perceptron_tagger is already up-to-\n",
      "[nltk_data]       date!\n",
      "[nltk_data] Downloading package maxent_ne_chunker to\n",
      "[nltk_data]     C:\\Users\\JS\\AppData\\Roaming\\nltk_data...\n",
      "[nltk_data]   Package maxent_ne_chunker is already up-to-date!\n",
      "[nltk_data] Downloading package words to\n",
      "[nltk_data]     C:\\Users\\JS\\AppData\\Roaming\\nltk_data...\n",
      "[nltk_data]   Package words is already up-to-date!\n"
     ]
    },
    {
     "data": {
      "text/plain": "True"
     },
     "execution_count": 2,
     "metadata": {},
     "output_type": "execute_result"
    }
   ],
   "source": [
    "nltk.download('averaged_perceptron_tagger')\n",
    "nltk.download('maxent_ne_chunker')\n",
    "nltk.download('words')"
   ],
   "metadata": {
    "collapsed": false,
    "ExecuteTime": {
     "end_time": "2024-01-24T14:30:48.585110700Z",
     "start_time": "2024-01-24T14:30:48.514890600Z"
    }
   },
   "id": "26cc9ac6ac95dcab",
   "execution_count": 2
  },
  {
   "cell_type": "code",
   "outputs": [
    {
     "name": "stderr",
     "output_type": "stream",
     "text": [
      "[nltk_data] Downloading package averaged_perceptron_tagger to\n",
      "[nltk_data]     C:\\Users\\JS\\AppData\\Roaming\\nltk_data...\n",
      "[nltk_data]   Package averaged_perceptron_tagger is already up-to-\n",
      "[nltk_data]       date!\n",
      "[nltk_data] Downloading package maxent_ne_chunker to\n",
      "[nltk_data]     C:\\Users\\JS\\AppData\\Roaming\\nltk_data...\n",
      "[nltk_data]   Package maxent_ne_chunker is already up-to-date!\n",
      "[nltk_data] Downloading package words to\n",
      "[nltk_data]     C:\\Users\\JS\\AppData\\Roaming\\nltk_data...\n",
      "[nltk_data]   Package words is already up-to-date!\n"
     ]
    }
   ],
   "source": [
    "assert nltk.download('averaged_perceptron_tagger')\n",
    "assert nltk.download('maxent_ne_chunker')\n",
    "assert nltk.download('words')"
   ],
   "metadata": {
    "collapsed": false,
    "ExecuteTime": {
     "end_time": "2024-01-24T14:30:48.586116500Z",
     "start_time": "2024-01-24T14:30:48.583530200Z"
    }
   },
   "id": "3a059205ef83d3a4",
   "execution_count": 3
  },
  {
   "cell_type": "code",
   "outputs": [],
   "source": [
    "VAR = {\n",
    "    'data_path': os.path.join('UpdatedResumeDataSet_T1_7.csv')\n",
    "}"
   ],
   "metadata": {
    "collapsed": false,
    "ExecuteTime": {
     "end_time": "2024-01-24T14:30:48.589199100Z",
     "start_time": "2024-01-24T14:30:48.587115Z"
    }
   },
   "id": "c77f0d91710e6b6e",
   "execution_count": 4
  },
  {
   "cell_type": "code",
   "outputs": [],
   "source": [
    "res_data = pd.read_csv(VAR['data_path'])"
   ],
   "metadata": {
    "collapsed": false,
    "ExecuteTime": {
     "end_time": "2024-01-24T14:30:48.684873900Z",
     "start_time": "2024-01-24T14:30:48.590200300Z"
    }
   },
   "id": "2fbbfd49f104e2fe",
   "execution_count": 5
  },
  {
   "cell_type": "code",
   "outputs": [
    {
     "name": "stdout",
     "output_type": "stream",
     "text": [
      "<class 'pandas.core.frame.DataFrame'>\n",
      "RangeIndex: 9595 entries, 0 to 9594\n",
      "Data columns (total 2 columns):\n",
      " #   Column    Non-Null Count  Dtype \n",
      "---  ------    --------------  ----- \n",
      " 0   Category  9595 non-null   object\n",
      " 1   Resume    9595 non-null   object\n",
      "dtypes: object(2)\n",
      "memory usage: 150.1+ KB\n"
     ]
    }
   ],
   "source": [
    "res_data.info()"
   ],
   "metadata": {
    "collapsed": false,
    "ExecuteTime": {
     "end_time": "2024-01-24T14:30:48.693180300Z",
     "start_time": "2024-01-24T14:30:48.686875300Z"
    }
   },
   "id": "8ccc3c16c91aeae7",
   "execution_count": 6
  },
  {
   "cell_type": "code",
   "outputs": [
    {
     "data": {
      "text/plain": "       Category                                             Resume\n0  Data Science  qwtnrvduof Education Details \\nMay 2013 to May...\n1  Data Science  qwtnrvduof Areas of Interest Deep Learning, Co...\n2  Data Science  Skills â¢ R â¢ Python â¢ SAP HANA â¢ Table...\n3  Data Science  Education Details \\r\\n MCA   YMCAUST,  Faridab...\n4  Data Science  SKILLS C Basics, IOT, Python, MATLAB, Data Sci...",
      "text/html": "<div>\n<style scoped>\n    .dataframe tbody tr th:only-of-type {\n        vertical-align: middle;\n    }\n\n    .dataframe tbody tr th {\n        vertical-align: top;\n    }\n\n    .dataframe thead th {\n        text-align: right;\n    }\n</style>\n<table border=\"1\" class=\"dataframe\">\n  <thead>\n    <tr style=\"text-align: right;\">\n      <th></th>\n      <th>Category</th>\n      <th>Resume</th>\n    </tr>\n  </thead>\n  <tbody>\n    <tr>\n      <th>0</th>\n      <td>Data Science</td>\n      <td>qwtnrvduof Education Details \\nMay 2013 to May...</td>\n    </tr>\n    <tr>\n      <th>1</th>\n      <td>Data Science</td>\n      <td>qwtnrvduof Areas of Interest Deep Learning, Co...</td>\n    </tr>\n    <tr>\n      <th>2</th>\n      <td>Data Science</td>\n      <td>Skills â¢ R â¢ Python â¢ SAP HANA â¢ Table...</td>\n    </tr>\n    <tr>\n      <th>3</th>\n      <td>Data Science</td>\n      <td>Education Details \\r\\n MCA   YMCAUST,  Faridab...</td>\n    </tr>\n    <tr>\n      <th>4</th>\n      <td>Data Science</td>\n      <td>SKILLS C Basics, IOT, Python, MATLAB, Data Sci...</td>\n    </tr>\n  </tbody>\n</table>\n</div>"
     },
     "execution_count": 7,
     "metadata": {},
     "output_type": "execute_result"
    }
   ],
   "source": [
    "res_data.head(5)"
   ],
   "metadata": {
    "collapsed": false,
    "ExecuteTime": {
     "end_time": "2024-01-24T14:30:48.698733Z",
     "start_time": "2024-01-24T14:30:48.692180900Z"
    }
   },
   "id": "216fb33509475e3",
   "execution_count": 7
  },
  {
   "cell_type": "markdown",
   "source": [
    "### Explore Resume Text"
   ],
   "metadata": {
    "collapsed": false
   },
   "id": "41bf6096151b672"
  },
  {
   "cell_type": "code",
   "outputs": [
    {
     "name": "stdout",
     "output_type": "stream",
     "text": [
      "qwtnrvduof Education Details \n",
      "May 2013 to May 2017 BbNTGBqLmkKE   UIT-RGPV\n",
      "Data Scientist \n",
      "\n",
      "Data Scientist - Matelabs\n",
      "Skill Details \n",
      "Python- Exprience - Less than 1 year months\n",
      "Statsmodels- Exprience - 12 months\n",
      "AWS- Exprience - Less than 1 year months\n",
      "Machine learning- Exprience - Less than 1 year months\n",
      "Sklearn- Exprience - Less than 1 year months\n",
      "Scipy- Exprience - Less than 1 year months\n",
      "Keras- Exprience - Less than 1 year monthsCompany Details \n",
      "company - Matelabs\n",
      "description - ML Platform for business professionals, dummies and enthusiastsckeKJOFvWQ\n",
      "60/A Koramangala 5th block,\n",
      "Achievements/Tasks behind sukh sagar, Bengaluru,\n",
      "India                               Developed and deployed auto preprocessing steps of machine learning mainly missing value\n",
      "treatment, outlier detection, encoding, scaling, feature selection and dimensionality reductionqunsOBcUdT\n",
      "Deployed automated classification and regression modelRYNOolXhuV\n",
      "linkedinSAJhwmUxoOcom/in/aditya-rathore-\n",
      "b4600b146                           Reasearch and deployed the time series forecasting model ARIMA, SARIMAX, Holt-winter and\n",
      "ProphetiQmADshIYN\n",
      "Worked on meta-feature extracting problemisZoGErzLF\n",
      "githubBRBEGnCeAecom/rathorology\n",
      "Implemented a state of the art research paper on outlier detection for mixed attributes.\n",
      "company - Matelabs\n",
      "description - \n"
     ]
    }
   ],
   "source": [
    "sample_res = res_data['Resume'][0]\n",
    "print(sample_res)"
   ],
   "metadata": {
    "collapsed": false,
    "ExecuteTime": {
     "end_time": "2024-01-24T14:30:48.701843100Z",
     "start_time": "2024-01-24T14:30:48.698733Z"
    }
   },
   "id": "70ae4ab9b43dc3c5",
   "execution_count": 8
  },
  {
   "cell_type": "markdown",
   "source": [
    "Initial Review:\n",
    "Some words are seemingly gibberish and consists of a sequence of random characters\n",
    "\n",
    "These words should be removed. However, care must be taken to ensure that other important text such as links are not classified as gibberish "
   ],
   "metadata": {
    "collapsed": false
   },
   "id": "6878125ef3d6a821"
  },
  {
   "cell_type": "code",
   "outputs": [
    {
     "data": {
      "text/plain": "['qwtnrvduof',\n 'Education',\n 'Details',\n 'May',\n '2013',\n 'to',\n 'May',\n '2017',\n 'BbNTGBqLmkKE',\n 'UIT-RGPV']"
     },
     "execution_count": 9,
     "metadata": {},
     "output_type": "execute_result"
    }
   ],
   "source": [
    "sample_tokens = nltk.tokenize.word_tokenize(sample_res)\n",
    "sample_tokens[:10]"
   ],
   "metadata": {
    "collapsed": false,
    "ExecuteTime": {
     "end_time": "2024-01-24T14:30:48.726604400Z",
     "start_time": "2024-01-24T14:30:48.701843100Z"
    }
   },
   "id": "d96780dd31e5eeee",
   "execution_count": 9
  },
  {
   "cell_type": "code",
   "outputs": [
    {
     "data": {
      "text/plain": "[('qwtnrvduof', 'JJ'),\n ('Education', 'NNP'),\n ('Details', 'NNP'),\n ('May', 'NNP'),\n ('2013', 'CD'),\n ('to', 'TO'),\n ('May', 'NNP'),\n ('2017', 'CD'),\n ('BbNTGBqLmkKE', 'NNP'),\n ('UIT-RGPV', 'NNP')]"
     },
     "execution_count": 10,
     "metadata": {},
     "output_type": "execute_result"
    }
   ],
   "source": [
    "sample_tag = nltk.tag.pos_tag(sample_tokens)\n",
    "sample_tag[:10]"
   ],
   "metadata": {
    "collapsed": false,
    "ExecuteTime": {
     "end_time": "2024-01-24T14:30:48.788206500Z",
     "start_time": "2024-01-24T14:30:48.710097600Z"
    }
   },
   "id": "9a3d833cd07152d7",
   "execution_count": 10
  },
  {
   "cell_type": "code",
   "outputs": [
    {
     "name": "stdout",
     "output_type": "stream",
     "text": [
      "word_token: Details; category: PERSON\n",
      "word_token: BbNTGBqLmkKE; category: ORGANIZATION\n",
      "word_token: Scientist; category: ORGANIZATION\n",
      "word_token: MatelabsSkillDetails; category: PERSON\n",
      "word_token: Exprience; category: ORGANIZATION\n",
      "word_token: Machine; category: PERSON\n",
      "word_token: Exprience; category: ORGANIZATION\n",
      "word_token: monthsCompanyDetails; category: ORGANIZATION\n",
      "word_token: Matelabs; category: GPE\n",
      "word_token: MLPlatform; category: ORGANIZATION\n",
      "word_token: Bengaluru; category: PERSON\n",
      "word_token: India; category: GPE\n",
      "word_token: Deployed; category: PERSON\n",
      "word_token: ARIMA; category: ORGANIZATION\n",
      "word_token: SARIMAX; category: ORGANIZATION\n",
      "word_token: ProphetiQmADshIYN; category: ORGANIZATION\n",
      "word_token: problemisZoGErzLF; category: ORGANIZATION\n",
      "word_token: Matelabs; category: GPE\n"
     ]
    }
   ],
   "source": [
    "sample_ner = nltk.ne_chunk(sample_tag)\n",
    "\n",
    "sample_ner_categories = set()\n",
    "\n",
    "for chunk in sample_ner:\n",
    "    if isinstance(chunk, nltk.tree.Tree):\n",
    "        sample_label = chunk.label()\n",
    "        sample_token = ''.join(word for word, tag in chunk.leaves())\n",
    "        print(f'word_token: {sample_token}; category: {sample_label}')\n",
    "        sample_ner_categories.add(sample_label)"
   ],
   "metadata": {
    "collapsed": false,
    "ExecuteTime": {
     "end_time": "2024-01-24T14:30:48.850816800Z",
     "start_time": "2024-01-24T14:30:48.789206500Z"
    }
   },
   "id": "5cdcf690cbb4efb2",
   "execution_count": 11
  },
  {
   "cell_type": "code",
   "outputs": [],
   "source": [
    "def clean_links(potentialLinks: list):\n",
    "    \n",
    "    '''\n",
    "    Assumption: Potential link will always have at the minimum a .com\n",
    "    '''\n",
    "    \n",
    "    assert isinstance(potentialLinks, list)\n",
    "    \n",
    "    http_exist = False\n",
    "    www_exist = False\n",
    "    com_exist = False\n",
    "    \n",
    "    if len(potentialLinks) < 1:\n",
    "        return []\n",
    "    \n",
    "    ret_list = []\n",
    "    \n",
    "    for link in potentialLinks:\n",
    "        \n",
    "        http_match = re.search(r'(https?)(:)?(\\/){0,2}', link)\n",
    "        www_match = re.search(r'(www)(\\.)?', link)\n",
    "        com_match = re.search(r'(\\.)?(com)', link)\n",
    "        \n",
    "        #http\n",
    "        if http_match != None:\n",
    "            http_exist = True\n",
    "        \n",
    "        #www\n",
    "        if www_match != None:\n",
    "            www_exist = True\n",
    "        \n",
    "        #com\n",
    "        if com_match != None:\n",
    "            com_exist = True\n",
    "            \n",
    "        if (com_exist) or (com_exist and www_exist) or (com_exist and www_exist and http_exist):\n",
    "            link = re.sub(r'(https?)(:)?(\\/){0,2}', 'https://', link)\n",
    "            link = re.sub(r'(www)(\\.)?', 'www.', link)\n",
    "            link = re.sub(r'(\\.)?(com)', '.com', link)\n",
    "            \n",
    "            ret_list.append(link)\n",
    "        else:\n",
    "            #Not valid link\n",
    "            ret_list.append('')\n",
    "            \n",
    "    return ret_list"
   ],
   "metadata": {
    "collapsed": false,
    "ExecuteTime": {
     "end_time": "2024-01-24T15:34:28.482523300Z",
     "start_time": "2024-01-24T15:34:28.478014500Z"
    }
   },
   "id": "cce23585ea4f68f3",
   "execution_count": 22
  },
  {
   "cell_type": "code",
   "outputs": [],
   "source": [
    "def clean_text(text):\n",
    "    \n",
    "    if isinstance(text, list):\n",
    "        text = np.array(text)\n",
    "    elif isinstance(text, np.ndarray):\n",
    "        pass\n",
    "    else:\n",
    "        raise TypeError('Not a list or numpy array')\n",
    "    \n",
    "    links = re.findall(\n",
    "        r'^(?:(?:https?:?\\/\\/{1,2})?w{1,3}\\.?)?[a-zA-z0-9]{1,2048}\\.?[a-zA-Z0-9]{1,6}\\b[/\\-a-zA-Z0-9]*\\w', text\n",
    "    ) \n",
    "    '''\n",
    "    / will flag a sequence of characters as potential links\n",
    "    \n",
    "    Optional criteions: \n",
    "    http(s)\n",
    "    //\n",
    "    www & .\n",
    "    . & com\n",
    "    '''\n",
    "    \n",
    "    \n",
    "    \n",
    "    links_bool = np.isin(text, links)\n",
    "    \n",
    "    dictionary = nltk.corpus.words.raw().split('\\n')\n",
    "    \n",
    "    \n",
    "    "
   ],
   "metadata": {
    "collapsed": false,
    "ExecuteTime": {
     "end_time": "2024-01-24T14:30:48.853750200Z",
     "start_time": "2024-01-24T14:30:48.850816800Z"
    }
   },
   "id": "efc57f3090db2021",
   "execution_count": 12
  },
  {
   "cell_type": "code",
   "outputs": [
    {
     "data": {
      "text/plain": "['linkedinSAJhwmUxoO.com/in/aditya-rathore-b4600b146']"
     },
     "execution_count": 23,
     "metadata": {},
     "output_type": "execute_result"
    }
   ],
   "source": [
    "# Watch Cell\n",
    "clean_links(['linkedinSAJhwmUxoOcom/in/aditya-rathore-b4600b146'])"
   ],
   "metadata": {
    "collapsed": false,
    "ExecuteTime": {
     "end_time": "2024-01-24T15:34:30.587417400Z",
     "start_time": "2024-01-24T15:34:30.585491400Z"
    }
   },
   "id": "314022b20fb8bc60",
   "execution_count": 23
  },
  {
   "cell_type": "code",
   "outputs": [],
   "source": [],
   "metadata": {
    "collapsed": false
   },
   "id": "973dcc9763ee3aec"
  }
 ],
 "metadata": {
  "kernelspec": {
   "name": "python3",
   "language": "python",
   "display_name": "Python 3 (ipykernel)"
  },
  "language_info": {
   "codemirror_mode": {
    "name": "ipython",
    "version": 2
   },
   "file_extension": ".py",
   "mimetype": "text/x-python",
   "name": "python",
   "nbconvert_exporter": "python",
   "pygments_lexer": "ipython2",
   "version": "2.7.6"
  }
 },
 "nbformat": 4,
 "nbformat_minor": 5
}
