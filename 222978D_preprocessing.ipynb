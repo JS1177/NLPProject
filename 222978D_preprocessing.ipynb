{
 "cells": [
  {
   "cell_type": "code",
   "execution_count": 1,
   "id": "initial_id",
   "metadata": {
    "collapsed": true,
    "ExecuteTime": {
     "end_time": "2024-01-26T16:30:51.482309400Z",
     "start_time": "2024-01-26T16:30:51.180374100Z"
    }
   },
   "outputs": [
    {
     "name": "stderr",
     "output_type": "stream",
     "text": [
      "C:\\Users\\JS\\AppData\\Local\\Temp\\ipykernel_42040\\3151377594.py:2: DeprecationWarning: \n",
      "Pyarrow will become a required dependency of pandas in the next major release of pandas (pandas 3.0),\n",
      "(to allow more performant data types, such as the Arrow string type, and better interoperability with other libraries)\n",
      "but was not found to be installed on your system.\n",
      "If this would cause problems for you,\n",
      "please provide us feedback at https://github.com/pandas-dev/pandas/issues/54466\n",
      "        \n",
      "  import pandas as pd\n"
     ]
    }
   ],
   "source": [
    "import numpy as np\n",
    "import pandas as pd\n",
    "import re\n",
    "import nltk\n",
    "import os\n",
    "from nltk.stem import WordNetLemmatizer\n",
    "from nltk.metrics.distance import edit_distance as levenshteinDistance"
   ]
  },
  {
   "cell_type": "code",
   "outputs": [
    {
     "name": "stderr",
     "output_type": "stream",
     "text": [
      "[nltk_data] Downloading package averaged_perceptron_tagger to\n",
      "[nltk_data]     C:\\Users\\JS\\AppData\\Roaming\\nltk_data...\n",
      "[nltk_data]   Package averaged_perceptron_tagger is already up-to-\n",
      "[nltk_data]       date!\n",
      "[nltk_data] Downloading package maxent_ne_chunker to\n",
      "[nltk_data]     C:\\Users\\JS\\AppData\\Roaming\\nltk_data...\n",
      "[nltk_data]   Package maxent_ne_chunker is already up-to-date!\n",
      "[nltk_data] Downloading package words to\n",
      "[nltk_data]     C:\\Users\\JS\\AppData\\Roaming\\nltk_data...\n",
      "[nltk_data]   Package words is already up-to-date!\n",
      "[nltk_data] Downloading package wordnet to\n",
      "[nltk_data]     C:\\Users\\JS\\AppData\\Roaming\\nltk_data...\n",
      "[nltk_data]   Package wordnet is already up-to-date!\n"
     ]
    },
    {
     "data": {
      "text/plain": "True"
     },
     "execution_count": 2,
     "metadata": {},
     "output_type": "execute_result"
    }
   ],
   "source": [
    "nltk.download('averaged_perceptron_tagger')\n",
    "nltk.download('maxent_ne_chunker')\n",
    "nltk.download('words')\n",
    "nltk.download('wordnet')"
   ],
   "metadata": {
    "collapsed": false,
    "ExecuteTime": {
     "end_time": "2024-01-26T16:30:51.557408Z",
     "start_time": "2024-01-26T16:30:51.483309600Z"
    }
   },
   "id": "26cc9ac6ac95dcab",
   "execution_count": 2
  },
  {
   "cell_type": "code",
   "outputs": [],
   "source": [
    "VAR = {\n",
    "    'data_path': os.path.join('UpdatedResumeDataSet_T1_7.csv'),\n",
    "}"
   ],
   "metadata": {
    "collapsed": false,
    "ExecuteTime": {
     "end_time": "2024-01-26T16:51:28.641526300Z",
     "start_time": "2024-01-26T16:51:28.635015500Z"
    }
   },
   "id": "c77f0d91710e6b6e",
   "execution_count": 40
  },
  {
   "cell_type": "code",
   "outputs": [],
   "source": [
    "res_data = pd.read_csv(VAR['data_path'])"
   ],
   "metadata": {
    "collapsed": false,
    "ExecuteTime": {
     "end_time": "2024-01-26T16:30:51.650654Z",
     "start_time": "2024-01-26T16:30:51.561184700Z"
    }
   },
   "id": "2fbbfd49f104e2fe",
   "execution_count": 4
  },
  {
   "cell_type": "code",
   "outputs": [
    {
     "name": "stdout",
     "output_type": "stream",
     "text": [
      "<class 'pandas.core.frame.DataFrame'>\n",
      "RangeIndex: 9595 entries, 0 to 9594\n",
      "Data columns (total 2 columns):\n",
      " #   Column    Non-Null Count  Dtype \n",
      "---  ------    --------------  ----- \n",
      " 0   Category  9595 non-null   object\n",
      " 1   Resume    9595 non-null   object\n",
      "dtypes: object(2)\n",
      "memory usage: 150.1+ KB\n"
     ]
    }
   ],
   "source": [
    "res_data.info()"
   ],
   "metadata": {
    "collapsed": false,
    "ExecuteTime": {
     "end_time": "2024-01-26T16:30:51.656219300Z",
     "start_time": "2024-01-26T16:30:51.651654500Z"
    }
   },
   "id": "8ccc3c16c91aeae7",
   "execution_count": 5
  },
  {
   "cell_type": "code",
   "outputs": [
    {
     "data": {
      "text/plain": "       Category                                             Resume\n0  Data Science  qwtnrvduof Education Details \\nMay 2013 to May...\n1  Data Science  qwtnrvduof Areas of Interest Deep Learning, Co...\n2  Data Science  Skills â¢ R â¢ Python â¢ SAP HANA â¢ Table...\n3  Data Science  Education Details \\r\\n MCA   YMCAUST,  Faridab...\n4  Data Science  SKILLS C Basics, IOT, Python, MATLAB, Data Sci...",
      "text/html": "<div>\n<style scoped>\n    .dataframe tbody tr th:only-of-type {\n        vertical-align: middle;\n    }\n\n    .dataframe tbody tr th {\n        vertical-align: top;\n    }\n\n    .dataframe thead th {\n        text-align: right;\n    }\n</style>\n<table border=\"1\" class=\"dataframe\">\n  <thead>\n    <tr style=\"text-align: right;\">\n      <th></th>\n      <th>Category</th>\n      <th>Resume</th>\n    </tr>\n  </thead>\n  <tbody>\n    <tr>\n      <th>0</th>\n      <td>Data Science</td>\n      <td>qwtnrvduof Education Details \\nMay 2013 to May...</td>\n    </tr>\n    <tr>\n      <th>1</th>\n      <td>Data Science</td>\n      <td>qwtnrvduof Areas of Interest Deep Learning, Co...</td>\n    </tr>\n    <tr>\n      <th>2</th>\n      <td>Data Science</td>\n      <td>Skills â¢ R â¢ Python â¢ SAP HANA â¢ Table...</td>\n    </tr>\n    <tr>\n      <th>3</th>\n      <td>Data Science</td>\n      <td>Education Details \\r\\n MCA   YMCAUST,  Faridab...</td>\n    </tr>\n    <tr>\n      <th>4</th>\n      <td>Data Science</td>\n      <td>SKILLS C Basics, IOT, Python, MATLAB, Data Sci...</td>\n    </tr>\n  </tbody>\n</table>\n</div>"
     },
     "execution_count": 6,
     "metadata": {},
     "output_type": "execute_result"
    }
   ],
   "source": [
    "res_data.head(5)"
   ],
   "metadata": {
    "collapsed": false,
    "ExecuteTime": {
     "end_time": "2024-01-26T16:30:51.664675200Z",
     "start_time": "2024-01-26T16:30:51.657219300Z"
    }
   },
   "id": "216fb33509475e3",
   "execution_count": 6
  },
  {
   "cell_type": "markdown",
   "source": [
    "### Explore Resume Text"
   ],
   "metadata": {
    "collapsed": false
   },
   "id": "41bf6096151b672"
  },
  {
   "cell_type": "code",
   "outputs": [
    {
     "name": "stdout",
     "output_type": "stream",
     "text": [
      "qwtnrvduof Education Details \n",
      "May 2013 to May 2017 BbNTGBqLmkKE   UIT-RGPV\n",
      "Data Scientist \n",
      "\n",
      "Data Scientist - Matelabs\n",
      "Skill Details \n",
      "Python- Exprience - Less than 1 year months\n",
      "Statsmodels- Exprience - 12 months\n",
      "AWS- Exprience - Less than 1 year months\n",
      "Machine learning- Exprience - Less than 1 year months\n",
      "Sklearn- Exprience - Less than 1 year months\n",
      "Scipy- Exprience - Less than 1 year months\n",
      "Keras- Exprience - Less than 1 year monthsCompany Details \n",
      "company - Matelabs\n",
      "description - ML Platform for business professionals, dummies and enthusiastsckeKJOFvWQ\n",
      "60/A Koramangala 5th block,\n",
      "Achievements/Tasks behind sukh sagar, Bengaluru,\n",
      "India                               Developed and deployed auto preprocessing steps of machine learning mainly missing value\n",
      "treatment, outlier detection, encoding, scaling, feature selection and dimensionality reductionqunsOBcUdT\n",
      "Deployed automated classification and regression modelRYNOolXhuV\n",
      "linkedinSAJhwmUxoOcom/in/aditya-rathore-\n",
      "b4600b146                           Reasearch and deployed the time series forecasting model ARIMA, SARIMAX, Holt-winter and\n",
      "ProphetiQmADshIYN\n",
      "Worked on meta-feature extracting problemisZoGErzLF\n",
      "githubBRBEGnCeAecom/rathorology\n",
      "Implemented a state of the art research paper on outlier detection for mixed attributes.\n",
      "company - Matelabs\n",
      "description - \n"
     ]
    }
   ],
   "source": [
    "sample_res = res_data['Resume'][0]\n",
    "print(sample_res)"
   ],
   "metadata": {
    "collapsed": false,
    "ExecuteTime": {
     "end_time": "2024-01-26T16:59:08.031827Z",
     "start_time": "2024-01-26T16:59:08.024321400Z"
    }
   },
   "id": "70ae4ab9b43dc3c5",
   "execution_count": 62
  },
  {
   "cell_type": "markdown",
   "source": [
    "Initial Review:\n",
    "Some words are seemingly gibberish and consists of a sequence of random characters\n",
    "\n",
    "These words should be removed. However, care must be taken to ensure that other important text such as links are not classified as gibberish\n",
    "\n",
    "List of issues:\n",
    "Broken links (Solved)\n",
    "Long whitespaces (Solved)\n",
    "Combined words without clear separators https://github.com/grantjenks/python-wordsegment"
   ],
   "metadata": {
    "collapsed": false
   },
   "id": "6878125ef3d6a821"
  },
  {
   "cell_type": "code",
   "outputs": [
    {
     "data": {
      "text/plain": "'qwtnrvduof Education Details \\nMay 2013 to May 2017 BbNTGBqLmkKE   UIT-RGPV\\nData Scientist \\n\\nData Scientist - Matelabs\\nSkill Details \\nPython- Exprience - Less than 1 year months\\nStatsmodels- Exprience - 12 months\\nAWS- Exprience - Less than 1 year months\\nMachine learning- Exprience - Less than 1 year months\\nSklearn- Exprience - Less than 1 year months\\nScipy- Exprience - Less than 1 year months\\nKeras- Exprience - Less than 1 year monthsCompany Details \\ncompany - Matelabs\\ndescription - ML Platform for business professionals, dummies and enthusiastsckeKJOFvWQ\\n60/A Koramangala 5th block,\\nAchievements/Tasks behind sukh sagar, Bengaluru,\\nIndia                               Developed and deployed auto preprocessing steps of machine learning mainly missing value\\ntreatment, outlier detection, encoding, scaling, feature selection and dimensionality reductionqunsOBcUdT\\nDeployed automated classification and regression modelRYNOolXhuV\\nlinkedinSAJhwmUxoOcom/in/aditya-rathore-\\nb4600b146                           Reasearch and deployed the time series forecasting model ARIMA, SARIMAX, Holt-winter and\\nProphetiQmADshIYN\\nWorked on meta-feature extracting problemisZoGErzLF\\ngithubBRBEGnCeAecom/rathorology\\nImplemented a state of the art research paper on outlier detection for mixed attributes.\\ncompany - Matelabs\\ndescription - '"
     },
     "execution_count": 63,
     "metadata": {},
     "output_type": "execute_result"
    }
   ],
   "source": [
    "sample_res"
   ],
   "metadata": {
    "collapsed": false,
    "ExecuteTime": {
     "end_time": "2024-01-26T16:59:13.189786800Z",
     "start_time": "2024-01-26T16:59:13.185870400Z"
    }
   },
   "id": "43c9663538e6da95",
   "execution_count": 63
  },
  {
   "cell_type": "code",
   "outputs": [],
   "source": [
    "def clean_links(potentialLinks: list):\n",
    "    \n",
    "    '''\n",
    "    Assumption: Potential link will always have at the minimum a .com\n",
    "    \n",
    "    Checks validity of link and returns cleaned link string\n",
    "    '''\n",
    "    \n",
    "    assert isinstance(potentialLinks, list)\n",
    "    \n",
    "    http_exist = False\n",
    "    www_exist = False\n",
    "    com_exist = False\n",
    "    \n",
    "    if len(potentialLinks) < 1:\n",
    "        return []\n",
    "    \n",
    "    ret_list = []\n",
    "    \n",
    "    for link in potentialLinks:\n",
    "        \n",
    "        http_match = re.search(r'(https?)(:)?(\\/){0,2}', link)\n",
    "        www_match = re.search(r'(www)(\\.)?', link)\n",
    "        com_match = re.search(r'(\\.)?(com)', link)\n",
    "        \n",
    "        #http\n",
    "        if http_match != None:\n",
    "            http_exist = True\n",
    "        \n",
    "        #www\n",
    "        if www_match != None:\n",
    "            www_exist = True\n",
    "        \n",
    "        #com\n",
    "        if com_match != None:\n",
    "            com_exist = True\n",
    "            \n",
    "        if (com_exist) or (com_exist and www_exist) or (com_exist and www_exist and http_exist):\n",
    "            link = re.sub(r'(https?)(:)?(\\/){0,2}', 'https://', link)\n",
    "            link = re.sub(r'(www)(\\.)?', 'www.', link)\n",
    "            link = re.sub(r'(\\.)?(com)', '.com', link)\n",
    "            \n",
    "            ret_list.append(link)\n",
    "        else:\n",
    "            #Not valid link\n",
    "            ret_list.append(False)\n",
    "            \n",
    "    return ret_list"
   ],
   "metadata": {
    "collapsed": false,
    "ExecuteTime": {
     "end_time": "2024-01-26T16:59:13.470892600Z",
     "start_time": "2024-01-26T16:59:13.469384600Z"
    }
   },
   "id": "cce23585ea4f68f3",
   "execution_count": 64
  },
  {
   "cell_type": "code",
   "outputs": [
    {
     "data": {
      "text/plain": "'qwtnrvduof education details may 2013 to may 2017 bbntgbqlmkke uit rgpv data scientist data scientist matelabs skill details python exprience less than 1 year months statsmodels exprience 12 months aws exprience less than 1 year months machine learning exprience less than 1 year months sklearn exprience less than 1 year months scipy exprience less than 1 year months keras exprience less than 1 year monthscompany details company matelabs description ml platform for business professionals dummies and enthusiastsckekjofvwq 60 a koramangala 5th block achievements tasks behind sukh sagar bengaluru india developed and deployed auto preprocessing steps of machine learning mainly missing value treatment outlier detection encoding scaling feature selection and dimensionality reductionqunsobcudt deployed automated classification and regression modelrynoolxhuv linkedinsajhwmuxoo com in aditya rathore b4600b146 reasearch and deployed the time series forecasting model arima sarimax holt winter and prophetiqmadshiyn worked on meta feature extracting problemiszogerzlf githubbrbegnceae com rathorology implemented a state of the art research paper on outlier detection for mixed attributes company matelabs description '"
     },
     "execution_count": 65,
     "metadata": {},
     "output_type": "execute_result"
    }
   ],
   "source": [
    "def clean_raw_text(text: str):\n",
    "    \n",
    "    # Clean links section\n",
    "    potential_links = re.findall(\n",
    "        r'(?:(?:https?:?\\/\\/{1,2})?w{1,3}\\.?)?[a-zA-z0-9]{1,2048}\\.?[a-zA-Z0-9]{1,6}\\b[/\\-a-zA-Z0-9]*\\w', text\n",
    "    ) \n",
    "    '''\n",
    "    / will flag a sequence of characters as potential links\n",
    "    \n",
    "    Optional criteions: \n",
    "    http(s)\n",
    "    //\n",
    "    www & .\n",
    "    . & com\n",
    "    '''\n",
    "    \n",
    "    finalized_links = clean_links(potential_links)\n",
    "\n",
    "    for potential_link, finalized_link in zip(potential_links, finalized_links):\n",
    "        if finalized_link == False:\n",
    "            continue\n",
    "        else:\n",
    "            text = re.sub(potential_link, finalized_link, text)\n",
    "    \n",
    "    #Clean non-characters\n",
    "    text = re.sub(r'[^a-zA-Z0-9]', r' ', text)\n",
    "    \n",
    "    #Normalize text\n",
    "    text = text.lower()\n",
    "\n",
    "    #Clean whitespace section\n",
    "    text = re.sub(r'[ ]{1,}', r' ', text)\n",
    "    \n",
    "    return text\n",
    "\n",
    "clean_raw_text(sample_res)"
   ],
   "metadata": {
    "collapsed": false,
    "ExecuteTime": {
     "end_time": "2024-01-26T16:59:13.786505900Z",
     "start_time": "2024-01-26T16:59:13.781650700Z"
    }
   },
   "id": "efc57f3090db2021",
   "execution_count": 65
  },
  {
   "cell_type": "code",
   "outputs": [
    {
     "name": "stdout",
     "output_type": "stream",
     "text": [
      "['iabac' '1' 'solutionsbntgbqlmkk' 'fahed' 'robotics' 'etcckekjofvwq'\n",
      " 'solutionsqunsobcudteducation' '2017' 'brynoolxhuv' 'mohali' 'punjab'\n",
      " 'indo' 'datamites' 'exprience' '13' 'exprience' '24' 'exprience' '24'\n",
      " 'exprience' '24' 'exprience' '24' 'exprience' '24' 'monthscompany'\n",
      " 'datamites' 'toolssajhwmuxoo' 'extracting' 'dataiqmadshiyn' 'processing'\n",
      " 'pythoniszogerzlf' 'visualizationbrbegnceae' 'pvt' 'ltd' 'processing'\n",
      " 'analyzed']\n"
     ]
    }
   ],
   "source": [
    "def clean_structured_text(text: list | np.ndarray):\n",
    "    \n",
    "    #TODO There may be no point to cleaning mistyped random words > Intefere with keywords > Model may have to simply learn the noise\n",
    "\n",
    "    if isinstance(text, list):\n",
    "        text = np.array(text)\n",
    "    elif isinstance(text, np.ndarray):\n",
    "        pass\n",
    "    else:\n",
    "        raise TypeError('Not a list or numpy array')\n",
    "    \n",
    "    english_dictionary = nltk.corpus.words.raw().split('\\n')\n",
    "    english_dictionary = [word.lower() for word in english_dictionary] # normalize to lowercase\n",
    "    \n",
    "    word_in_dict_bool = np.isin(text, english_dictionary)\n",
    "    \n",
    "    word_not_in_dict_bool = np.invert(word_in_dict_bool)\n",
    "    \n",
    "    \n",
    "    \n",
    "    words_in_dict = text[word_not_in_dict_bool]\n",
    "    \n",
    "    print(words_in_dict)\n",
    "\n",
    "clean_structured_text(sample_lemmas)"
   ],
   "metadata": {
    "collapsed": false,
    "ExecuteTime": {
     "end_time": "2024-01-26T16:59:14.213638700Z",
     "start_time": "2024-01-26T16:59:14.113469800Z"
    }
   },
   "id": "d48354035fc76fb",
   "execution_count": 66
  },
  {
   "cell_type": "code",
   "outputs": [],
   "source": [
    "def wordnet_tag_format(tag: str):\n",
    "    if tag.startswith('N'):\n",
    "        return 'n'\n",
    "    if tag.startswith('V'):\n",
    "        return 'v'\n",
    "    if tag.startswith('A'):\n",
    "        return 'a'\n",
    "    if tag.startswith('R'):\n",
    "        return 'r'\n",
    "    \n",
    "    return 'n' #Ensure lemmatize function can run"
   ],
   "metadata": {
    "collapsed": false,
    "ExecuteTime": {
     "end_time": "2024-01-26T16:59:15.020870900Z",
     "start_time": "2024-01-26T16:59:15.018362400Z"
    }
   },
   "id": "60254b9a74b9fe2c",
   "execution_count": 67
  },
  {
   "cell_type": "code",
   "outputs": [],
   "source": [
    "def extract_lemmas(tagged_tokens: list[tuple], lemmatizer):\n",
    "    lemmas = [lemmatizer.lemmatize(token[0], wordnet_tag_format(token[1])) for token in tagged_tokens]\n",
    "    \n",
    "    return lemmas"
   ],
   "metadata": {
    "collapsed": false,
    "ExecuteTime": {
     "end_time": "2024-01-26T16:59:15.322139200Z",
     "start_time": "2024-01-26T16:59:15.319632600Z"
    }
   },
   "id": "bab679f05de30967",
   "execution_count": 68
  },
  {
   "cell_type": "code",
   "outputs": [
    {
     "data": {
      "text/plain": "['qwtnrvduof',\n 'education',\n 'details',\n 'may',\n '2013',\n 'to',\n 'may',\n '2017',\n 'bbntgbqlmkke',\n 'uit']"
     },
     "execution_count": 69,
     "metadata": {},
     "output_type": "execute_result"
    }
   ],
   "source": [
    "sample_tokens = nltk.tokenize.word_tokenize(clean_raw_text(sample_res))\n",
    "sample_tokens[:10]"
   ],
   "metadata": {
    "collapsed": false,
    "ExecuteTime": {
     "end_time": "2024-01-26T16:59:16.431654300Z",
     "start_time": "2024-01-26T16:59:16.428797900Z"
    }
   },
   "id": "4127f74c5ad8538b",
   "execution_count": 69
  },
  {
   "cell_type": "code",
   "outputs": [
    {
     "data": {
      "text/plain": "[('qwtnrvduof', 'JJ'),\n ('education', 'NN'),\n ('details', 'NNS'),\n ('may', 'MD'),\n ('2013', 'CD'),\n ('to', 'TO'),\n ('may', 'MD'),\n ('2017', 'VB'),\n ('bbntgbqlmkke', 'NN'),\n ('uit', 'NN')]"
     },
     "execution_count": 70,
     "metadata": {},
     "output_type": "execute_result"
    }
   ],
   "source": [
    "sample_tag = nltk.tag.pos_tag(sample_tokens)\n",
    "sample_tag[:10]\n",
    "\n",
    "#https://www.ling.upenn.edu/courses/Fall_2003/ling001/penn_treebank_pos.html"
   ],
   "metadata": {
    "collapsed": false,
    "ExecuteTime": {
     "end_time": "2024-01-26T16:59:17.127318700Z",
     "start_time": "2024-01-26T16:59:17.120818800Z"
    }
   },
   "id": "c9cc5010d386cfb5",
   "execution_count": 70
  },
  {
   "cell_type": "code",
   "outputs": [],
   "source": [
    "sample_ner = nltk.ne_chunk(sample_tag)\n",
    "\n",
    "sample_ner_categories = set()\n",
    "\n",
    "for chunk in sample_ner:\n",
    "    if isinstance(chunk, nltk.tree.Tree):\n",
    "        sample_label = chunk.label()\n",
    "        sample_token = ''.join(word for word, tag in chunk.leaves())\n",
    "        print(f'word_token: {sample_token}; category: {sample_label}')\n",
    "        sample_ner_categories.add(sample_label)"
   ],
   "metadata": {
    "collapsed": false,
    "ExecuteTime": {
     "end_time": "2024-01-26T16:59:17.731702200Z",
     "start_time": "2024-01-26T16:59:17.713545200Z"
    }
   },
   "id": "4f676abbc229b7cc",
   "execution_count": 71
  },
  {
   "cell_type": "markdown",
   "source": [
    "# OUT OF CODE"
   ],
   "metadata": {
    "collapsed": false
   },
   "id": "a537f1023eff8b2f"
  },
  {
   "cell_type": "code",
   "outputs": [],
   "source": [
    "lemmatizer = WordNetLemmatizer()"
   ],
   "metadata": {
    "collapsed": false,
    "ExecuteTime": {
     "end_time": "2024-01-26T16:58:26.648410200Z",
     "start_time": "2024-01-26T16:58:26.645903600Z"
    }
   },
   "id": "69c6e6d2fb24a59a",
   "execution_count": 58
  },
  {
   "cell_type": "code",
   "outputs": [
    {
     "data": {
      "text/plain": "['skill',\n 'python',\n 'tableau',\n 'data',\n 'visualization',\n 'r',\n 'studio',\n 'machine',\n 'learn',\n 'statistic',\n 'iabac',\n 'certify',\n 'data',\n 'scientist',\n 'with',\n 'versatile',\n 'experience',\n 'over',\n '1',\n 'year',\n 'in',\n 'manage',\n 'business',\n 'data',\n 'science',\n 'consulting',\n 'and',\n 'lead',\n 'innovation',\n 'project',\n 'bring',\n 'business',\n 'idea',\n 'to',\n 'work',\n 'real',\n 'world',\n 'solutionsbntgbqlmkk',\n 'be',\n 'a',\n 'strong',\n 'advocator',\n 'of',\n 'augment',\n 'era',\n 'where',\n 'human',\n 'capability',\n 'be',\n 'enhance',\n 'by',\n 'machine',\n 'fahed',\n 'be',\n 'passionate',\n 'about',\n 'bring',\n 'business',\n 'concept',\n 'in',\n 'area',\n 'of',\n 'machine',\n 'learn',\n 'ai',\n 'robotics',\n 'etcckekjofvwq',\n 'to',\n 'real',\n 'life',\n 'solutionsqunsobcudteducation',\n 'detail',\n 'january',\n '2017',\n 'brynoolxhuv',\n 'tech',\n 'computer',\n 'science',\n 'engineering',\n 'mohali',\n 'punjab',\n 'indo',\n 'global',\n 'college',\n 'of',\n 'engineering',\n 'data',\n 'science',\n 'consultant',\n 'data',\n 'science',\n 'consultant',\n 'datamites',\n 'skill',\n 'detail',\n 'machine',\n 'learn',\n 'exprience',\n '13',\n 'month',\n 'python',\n 'exprience',\n '24',\n 'month',\n 'solution',\n 'exprience',\n '24',\n 'month',\n 'data',\n 'science',\n 'exprience',\n '24',\n 'month',\n 'data',\n 'visualization',\n 'exprience',\n '24',\n 'month',\n 'tableau',\n 'exprience',\n '24',\n 'monthscompany',\n 'detail',\n 'company',\n 'datamites',\n 'description',\n 'analyze',\n 'and',\n 'process',\n 'complex',\n 'data',\n 'set',\n 'use',\n 'advanced',\n 'query',\n 'visualization',\n 'and',\n 'analytics',\n 'toolssajhwmuxoo',\n 'responsible',\n 'for',\n 'load',\n 'extracting',\n 'and',\n 'validation',\n 'of',\n 'client',\n 'dataiqmadshiyn',\n 'work',\n 'on',\n 'manipulate',\n 'clean',\n 'processing',\n 'data',\n 'use',\n 'pythoniszogerzlf',\n 'use',\n 'tableau',\n 'for',\n 'data',\n 'visualizationbrbegnceae',\n 'company',\n 'heretic',\n 'solution',\n 'pvt',\n 'ltd',\n 'description',\n 'work',\n 'closely',\n 'with',\n 'business',\n 'to',\n 'identify',\n 'issue',\n 'and',\n 'use',\n 'data',\n 'to',\n 'propose',\n 'solution',\n 'for',\n 'effective',\n 'decision',\n 'make',\n 'manipulate',\n 'cleanse',\n 'processing',\n 'data',\n 'use',\n 'python',\n 'excel',\n 'and',\n 'r',\n 'analyzed',\n 'raw',\n 'data',\n 'draw',\n 'conclusion',\n 'develop',\n 'recommendation',\n 'use',\n 'machine',\n 'learning',\n 'tool',\n 'and',\n 'statistical',\n 'technique',\n 'to',\n 'produce',\n 'solution',\n 'to',\n 'problem']"
     },
     "execution_count": 59,
     "metadata": {},
     "output_type": "execute_result"
    }
   ],
   "source": [
    "sample_lemmas = extract_lemmas(sample_tag, lemmatizer)\n",
    "sample_lemmas"
   ],
   "metadata": {
    "collapsed": false,
    "ExecuteTime": {
     "end_time": "2024-01-26T16:58:27.083688900Z",
     "start_time": "2024-01-26T16:58:27.081215500Z"
    }
   },
   "id": "2cba44822aae194d",
   "execution_count": 59
  },
  {
   "cell_type": "code",
   "outputs": [
    {
     "data": {
      "text/plain": "['skill',\n 'python',\n 'tableau',\n 'data',\n 'visualization',\n 'r',\n 'studio',\n 'machine',\n 'learn',\n 'statistic',\n 'iabac',\n 'certify',\n 'data',\n 'scientist',\n 'with',\n 'versatile',\n 'experience',\n 'over',\n '1',\n 'year',\n 'in',\n 'manage',\n 'business',\n 'data',\n 'science',\n 'consulting',\n 'and',\n 'lead',\n 'innovation',\n 'project',\n 'bring',\n 'business',\n 'idea',\n 'to',\n 'work',\n 'real',\n 'world',\n 'solutionsbntgbqlmkk',\n 'be',\n 'a',\n 'strong',\n 'advocator',\n 'of',\n 'augment',\n 'era',\n 'where',\n 'human',\n 'capability',\n 'be',\n 'enhance',\n 'by',\n 'machine',\n 'fahed',\n 'be',\n 'passionate',\n 'about',\n 'bring',\n 'business',\n 'concept',\n 'in',\n 'area',\n 'of',\n 'machine',\n 'learn',\n 'ai',\n 'robotics',\n 'etcckekjofvwq',\n 'to',\n 'real',\n 'life',\n 'solutionsqunsobcudteducation',\n 'detail',\n 'january',\n '2017',\n 'brynoolxhuv',\n 'tech',\n 'computer',\n 'science',\n 'engineering',\n 'mohali',\n 'punjab',\n 'indo',\n 'global',\n 'college',\n 'of',\n 'engineering',\n 'data',\n 'science',\n 'consultant',\n 'data',\n 'science',\n 'consultant',\n 'datamites',\n 'skill',\n 'detail',\n 'machine',\n 'learn',\n 'exprience',\n '13',\n 'month',\n 'python',\n 'exprience',\n '24',\n 'month',\n 'solution',\n 'exprience',\n '24',\n 'month',\n 'data',\n 'science',\n 'exprience',\n '24',\n 'month',\n 'data',\n 'visualization',\n 'exprience',\n '24',\n 'month',\n 'tableau',\n 'exprience',\n '24',\n 'monthscompany',\n 'detail',\n 'company',\n 'datamites',\n 'description',\n 'analyze',\n 'and',\n 'process',\n 'complex',\n 'data',\n 'set',\n 'use',\n 'advanced',\n 'query',\n 'visualization',\n 'and',\n 'analytics',\n 'toolssajhwmuxoo',\n 'responsible',\n 'for',\n 'load',\n 'extracting',\n 'and',\n 'validation',\n 'of',\n 'client',\n 'dataiqmadshiyn',\n 'work',\n 'on',\n 'manipulate',\n 'clean',\n 'processing',\n 'data',\n 'use',\n 'pythoniszogerzlf',\n 'use',\n 'tableau',\n 'for',\n 'data',\n 'visualizationbrbegnceae',\n 'company',\n 'heretic',\n 'solution',\n 'pvt',\n 'ltd',\n 'description',\n 'work',\n 'closely',\n 'with',\n 'business',\n 'to',\n 'identify',\n 'issue',\n 'and',\n 'use',\n 'data',\n 'to',\n 'propose',\n 'solution',\n 'for',\n 'effective',\n 'decision',\n 'make',\n 'manipulate',\n 'cleanse',\n 'processing',\n 'data',\n 'use',\n 'python',\n 'excel',\n 'and',\n 'r',\n 'analyzed',\n 'raw',\n 'data',\n 'draw',\n 'conclusion',\n 'develop',\n 'recommendation',\n 'use',\n 'machine',\n 'learning',\n 'tool',\n 'and',\n 'statistical',\n 'technique',\n 'to',\n 'produce',\n 'solution',\n 'to',\n 'problem']"
     },
     "execution_count": 60,
     "metadata": {},
     "output_type": "execute_result"
    }
   ],
   "source": [
    "sample_lemmas"
   ],
   "metadata": {
    "collapsed": false,
    "ExecuteTime": {
     "end_time": "2024-01-26T16:58:28.792388900Z",
     "start_time": "2024-01-26T16:58:28.789268900Z"
    }
   },
   "id": "9de6d1d2cb80beb",
   "execution_count": 60
  },
  {
   "cell_type": "code",
   "outputs": [
    {
     "data": {
      "text/plain": "'deploy'"
     },
     "execution_count": 19,
     "metadata": {},
     "output_type": "execute_result"
    }
   ],
   "source": [
    "lemmatizer.lemmatize('deployed', 'v')"
   ],
   "metadata": {
    "collapsed": false,
    "ExecuteTime": {
     "end_time": "2024-01-26T16:30:52.425416100Z",
     "start_time": "2024-01-26T16:30:52.422538300Z"
    }
   },
   "id": "973dcc9763ee3aec",
   "execution_count": 19
  },
  {
   "cell_type": "code",
   "outputs": [
    {
     "data": {
      "text/plain": "[('qwtnrvduof', 'JJ'),\n ('education', 'NN'),\n ('details', 'NNS'),\n ('may', 'MD'),\n ('2013', 'CD'),\n ('to', 'TO'),\n ('may', 'MD'),\n ('2017', 'VB'),\n ('bbntgbqlmkke', 'NN'),\n ('uit', 'NN'),\n ('rgpv', 'NN'),\n ('data', 'NNS'),\n ('scientist', 'NN'),\n ('data', 'NNS'),\n ('scientist', 'NN'),\n ('matelabs', 'NN'),\n ('skill', 'NN'),\n ('details', 'NNS'),\n ('python', 'VBP'),\n ('exprience', 'NN'),\n ('less', 'JJR'),\n ('than', 'IN'),\n ('1', 'CD'),\n ('year', 'NN'),\n ('months', 'NNS'),\n ('statsmodels', 'NNS'),\n ('exprience', 'RB'),\n ('12', 'CD'),\n ('months', 'NNS'),\n ('aws', 'JJ'),\n ('exprience', 'NN'),\n ('less', 'JJR'),\n ('than', 'IN'),\n ('1', 'CD'),\n ('year', 'NN'),\n ('months', 'NNS'),\n ('machine', 'NN'),\n ('learning', 'VBG'),\n ('exprience', 'NN'),\n ('less', 'JJR'),\n ('than', 'IN'),\n ('1', 'CD'),\n ('year', 'NN'),\n ('months', 'NNS'),\n ('sklearn', 'VBP'),\n ('exprience', 'NN'),\n ('less', 'JJR'),\n ('than', 'IN'),\n ('1', 'CD'),\n ('year', 'NN'),\n ('months', 'NNS'),\n ('scipy', 'VBP'),\n ('exprience', 'NN'),\n ('less', 'JJR'),\n ('than', 'IN'),\n ('1', 'CD'),\n ('year', 'NN'),\n ('months', 'NNS'),\n ('keras', 'VBD'),\n ('exprience', 'RB'),\n ('less', 'JJR'),\n ('than', 'IN'),\n ('1', 'CD'),\n ('year', 'NN'),\n ('monthscompany', 'NN'),\n ('details', 'NNS'),\n ('company', 'NN'),\n ('matelabs', 'VBZ'),\n ('description', 'NN'),\n ('ml', 'NN'),\n ('platform', 'NN'),\n ('for', 'IN'),\n ('business', 'NN'),\n ('professionals', 'NNS'),\n ('dummies', 'NNS'),\n ('and', 'CC'),\n ('enthusiastsckekjofvwq', '$'),\n ('60', 'CD'),\n ('a', 'DT'),\n ('koramangala', 'NN'),\n ('5th', 'CD'),\n ('block', 'NN'),\n ('achievements', 'NNS'),\n ('tasks', 'NNS'),\n ('behind', 'IN'),\n ('sukh', 'JJ'),\n ('sagar', 'NN'),\n ('bengaluru', 'NN'),\n ('india', 'NN'),\n ('developed', 'VBD'),\n ('and', 'CC'),\n ('deployed', 'JJ'),\n ('auto', 'NN'),\n ('preprocessing', 'VBG'),\n ('steps', 'NNS'),\n ('of', 'IN'),\n ('machine', 'NN'),\n ('learning', 'VBG'),\n ('mainly', 'RB'),\n ('missing', 'VBG'),\n ('value', 'NN'),\n ('treatment', 'NN'),\n ('outlier', 'JJR'),\n ('detection', 'NN'),\n ('encoding', 'VBG'),\n ('scaling', 'JJ'),\n ('feature', 'NN'),\n ('selection', 'NN'),\n ('and', 'CC'),\n ('dimensionality', 'NN'),\n ('reductionqunsobcudt', 'VBP'),\n ('deployed', 'VBN'),\n ('automated', 'VBN'),\n ('classification', 'NN'),\n ('and', 'CC'),\n ('regression', 'NN'),\n ('modelrynoolxhuv', 'NN'),\n ('linkedinsajhwmuxoo', 'NN'),\n ('com', 'NN'),\n ('in', 'IN'),\n ('aditya', 'NN'),\n ('rathore', 'NN'),\n ('b4600b146', 'NN'),\n ('reasearch', 'NN'),\n ('and', 'CC'),\n ('deployed', 'VBD'),\n ('the', 'DT'),\n ('time', 'NN'),\n ('series', 'NN'),\n ('forecasting', 'VBG'),\n ('model', 'NN'),\n ('arima', 'NN'),\n ('sarimax', 'NN'),\n ('holt', 'NN'),\n ('winter', 'NN'),\n ('and', 'CC'),\n ('prophetiqmadshiyn', 'NN'),\n ('worked', 'VBN'),\n ('on', 'IN'),\n ('meta', 'NN'),\n ('feature', 'NN'),\n ('extracting', 'VBG'),\n ('problemiszogerzlf', 'JJ'),\n ('githubbrbegnceae', 'NN'),\n ('com', 'NN'),\n ('rathorology', 'NN'),\n ('implemented', 'VBD'),\n ('a', 'DT'),\n ('state', 'NN'),\n ('of', 'IN'),\n ('the', 'DT'),\n ('art', 'NN'),\n ('research', 'NN'),\n ('paper', 'NN'),\n ('on', 'IN'),\n ('outlier', 'JJR'),\n ('detection', 'NN'),\n ('for', 'IN'),\n ('mixed', 'JJ'),\n ('attributes', 'NNS'),\n ('company', 'NN'),\n ('matelabs', 'VBZ'),\n ('description', 'NN')]"
     },
     "execution_count": 20,
     "metadata": {},
     "output_type": "execute_result"
    }
   ],
   "source": [
    "sample_tag"
   ],
   "metadata": {
    "collapsed": false,
    "ExecuteTime": {
     "end_time": "2024-01-26T16:30:52.434751900Z",
     "start_time": "2024-01-26T16:30:52.425416100Z"
    }
   },
   "id": "de200abb162432",
   "execution_count": 20
  },
  {
   "cell_type": "code",
   "outputs": [
    {
     "name": "stdout",
     "output_type": "stream",
     "text": [
      "105091\n",
      "2\n",
      "learn\n"
     ]
    }
   ],
   "source": [
    "# Watch Cell\n",
    "# print(clean_raw_text(sample_res))\n",
    "# clean_raw_text(sample_res)\n",
    "# nltk.corpus.words.raw().split('\\n')\n",
    "# np.isin(['detail'], nltk.corpus.words.raw().split('\\n'))]\n",
    "def x():\n",
    "    x_dict = nltk.corpus.words.raw().split('\\n')\n",
    "    x_list = [levenshteinDistance('sklearn', word) for word in x_dict]\n",
    "    \n",
    "    id = x_list.index(min(x_list))\n",
    "    print(id)\n",
    "    print(min(x_list))\n",
    "    print(nltk.corpus.words.raw().split('\\n')[id])\n",
    "    \n",
    "x()\n",
    "\n",
    "# lemmatizer.lemmatize('extracting')"
   ],
   "metadata": {
    "collapsed": false,
    "ExecuteTime": {
     "end_time": "2024-01-26T16:30:59.414737300Z",
     "start_time": "2024-01-26T16:30:52.432243800Z"
    }
   },
   "id": "d3a07f1ebda10c20",
   "execution_count": 21
  },
  {
   "cell_type": "code",
   "outputs": [
    {
     "data": {
      "text/plain": "18"
     },
     "execution_count": 22,
     "metadata": {},
     "output_type": "execute_result"
    }
   ],
   "source": [
    "from nltk.metrics.distance import edit_distance as test\n",
    "test('aws', 'reductionqunsobcudt', substitution_cost=1)"
   ],
   "metadata": {
    "collapsed": false,
    "ExecuteTime": {
     "end_time": "2024-01-26T16:30:59.416246200Z",
     "start_time": "2024-01-26T16:30:59.413208300Z"
    }
   },
   "id": "63d64421478deef8",
   "execution_count": 22
  },
  {
   "cell_type": "code",
   "outputs": [],
   "source": [],
   "metadata": {
    "collapsed": false,
    "ExecuteTime": {
     "end_time": "2024-01-26T16:30:59.419574500Z",
     "start_time": "2024-01-26T16:30:59.417571100Z"
    }
   },
   "id": "be3c47f12dd2ff6a",
   "execution_count": 22
  }
 ],
 "metadata": {
  "kernelspec": {
   "name": "python3",
   "language": "python",
   "display_name": "Python 3 (ipykernel)"
  },
  "language_info": {
   "codemirror_mode": {
    "name": "ipython",
    "version": 2
   },
   "file_extension": ".py",
   "mimetype": "text/x-python",
   "name": "python",
   "nbconvert_exporter": "python",
   "pygments_lexer": "ipython2",
   "version": "2.7.6"
  }
 },
 "nbformat": 4,
 "nbformat_minor": 5
}
