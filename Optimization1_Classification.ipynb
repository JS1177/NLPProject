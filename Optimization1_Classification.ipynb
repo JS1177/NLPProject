{
 "cells": [
  {
   "cell_type": "code",
   "outputs": [],
   "source": [
    "from sklearn.model_selection import train_test_split, GridSearchCV\n",
    "from sklearn.naive_bayes import BernoulliNB\n",
    "from sklearn.metrics import accuracy_score, precision_score, recall_score, f1_score\n",
    "from sklearn.preprocessing import LabelEncoder\n",
    "from sklearn.feature_extraction.text import TfidfVectorizer\n",
    "from sklearn.pipeline import Pipeline"
   ],
   "metadata": {
    "collapsed": false,
    "ExecuteTime": {
     "end_time": "2024-02-17T11:36:42.209266700Z",
     "start_time": "2024-02-17T11:36:42.204757900Z"
    }
   },
   "id": "a6e34f9ecb1e3341",
   "execution_count": 130
  },
  {
   "cell_type": "code",
   "execution_count": 131,
   "id": "initial_id",
   "metadata": {
    "collapsed": true,
    "ExecuteTime": {
     "end_time": "2024-02-17T11:36:49.644105800Z",
     "start_time": "2024-02-17T11:36:42.212264700Z"
    }
   },
   "outputs": [],
   "source": [
    "from preprocessing_NLP import pipeline\n",
    "\n",
    "resume_df = pipeline('UpdatedResumeDataSet_T1_7.csv', feature_name='Resume')\n",
    "resume_df = resume_df.reset_index(drop=True)"
   ]
  },
  {
   "cell_type": "code",
   "outputs": [
    {
     "data": {
      "text/plain": "             Category                                             Resume\n0        Data Science  qwtnrvduof education detail may 2013 may 2017 ...\n1        Data Science  qwtnrvduof area interest deep learn control sy...\n2        Data Science  skill r python sap hana tableau sap hana sql s...\n3        Data Science  education detail mca ymcaust faridabad haryana...\n4        Data Science  skill c basic iot python matlab data science m...\n..                ...                                                ...\n183           Testing  skill set o window xp 7 8 8bntgbqlmkk1 10 data...\n184           Testing  good logical analytical skill positive attitud...\n185           Testing  personal skill quick learner eagerness learn n...\n186   DevOps Engineer  core skill project program management agile sc...\n187  Business Analyst  education detail february 2006 february 2006 t...\n\n[188 rows x 2 columns]",
      "text/html": "<div>\n<style scoped>\n    .dataframe tbody tr th:only-of-type {\n        vertical-align: middle;\n    }\n\n    .dataframe tbody tr th {\n        vertical-align: top;\n    }\n\n    .dataframe thead th {\n        text-align: right;\n    }\n</style>\n<table border=\"1\" class=\"dataframe\">\n  <thead>\n    <tr style=\"text-align: right;\">\n      <th></th>\n      <th>Category</th>\n      <th>Resume</th>\n    </tr>\n  </thead>\n  <tbody>\n    <tr>\n      <th>0</th>\n      <td>Data Science</td>\n      <td>qwtnrvduof education detail may 2013 may 2017 ...</td>\n    </tr>\n    <tr>\n      <th>1</th>\n      <td>Data Science</td>\n      <td>qwtnrvduof area interest deep learn control sy...</td>\n    </tr>\n    <tr>\n      <th>2</th>\n      <td>Data Science</td>\n      <td>skill r python sap hana tableau sap hana sql s...</td>\n    </tr>\n    <tr>\n      <th>3</th>\n      <td>Data Science</td>\n      <td>education detail mca ymcaust faridabad haryana...</td>\n    </tr>\n    <tr>\n      <th>4</th>\n      <td>Data Science</td>\n      <td>skill c basic iot python matlab data science m...</td>\n    </tr>\n    <tr>\n      <th>...</th>\n      <td>...</td>\n      <td>...</td>\n    </tr>\n    <tr>\n      <th>183</th>\n      <td>Testing</td>\n      <td>skill set o window xp 7 8 8bntgbqlmkk1 10 data...</td>\n    </tr>\n    <tr>\n      <th>184</th>\n      <td>Testing</td>\n      <td>good logical analytical skill positive attitud...</td>\n    </tr>\n    <tr>\n      <th>185</th>\n      <td>Testing</td>\n      <td>personal skill quick learner eagerness learn n...</td>\n    </tr>\n    <tr>\n      <th>186</th>\n      <td>DevOps Engineer</td>\n      <td>core skill project program management agile sc...</td>\n    </tr>\n    <tr>\n      <th>187</th>\n      <td>Business Analyst</td>\n      <td>education detail february 2006 february 2006 t...</td>\n    </tr>\n  </tbody>\n</table>\n<p>188 rows × 2 columns</p>\n</div>"
     },
     "execution_count": 132,
     "metadata": {},
     "output_type": "execute_result"
    }
   ],
   "source": [
    "resume_df"
   ],
   "metadata": {
    "collapsed": false,
    "ExecuteTime": {
     "end_time": "2024-02-17T11:36:49.652845600Z",
     "start_time": "2024-02-17T11:36:49.645107100Z"
    }
   },
   "id": "2598e9b9aeb00ab4",
   "execution_count": 132
  },
  {
   "cell_type": "code",
   "outputs": [],
   "source": [
    "X = resume_df['Resume']\n",
    "Y = resume_df['Category']"
   ],
   "metadata": {
    "collapsed": false,
    "ExecuteTime": {
     "end_time": "2024-02-17T11:36:49.652845600Z",
     "start_time": "2024-02-17T11:36:49.650521400Z"
    }
   },
   "id": "c0e76e0c36adaf6e",
   "execution_count": 133
  },
  {
   "cell_type": "code",
   "outputs": [],
   "source": [
    "encoder = LabelEncoder()\n",
    "tfidf_vectorizer = TfidfVectorizer()"
   ],
   "metadata": {
    "collapsed": false,
    "ExecuteTime": {
     "end_time": "2024-02-17T11:36:49.658907700Z",
     "start_time": "2024-02-17T11:36:49.653845400Z"
    }
   },
   "id": "427ccb7b83f6787c",
   "execution_count": 134
  },
  {
   "cell_type": "code",
   "outputs": [],
   "source": [
    "y = encoder.fit_transform(Y)\n",
    "x = tfidf_vectorizer.fit_transform(X)"
   ],
   "metadata": {
    "collapsed": false,
    "ExecuteTime": {
     "end_time": "2024-02-17T11:36:49.688297Z",
     "start_time": "2024-02-17T11:36:49.656907700Z"
    }
   },
   "id": "693e9f145d01dc85",
   "execution_count": 135
  },
  {
   "cell_type": "code",
   "outputs": [
    {
     "data": {
      "text/plain": "array([ 6,  6,  6,  6,  6,  6,  6,  6,  6,  6,  6,  6, 12, 12, 12, 12, 12,\n       12, 12, 12, 12, 12, 12, 12,  0,  0,  0,  0,  0,  0,  0,  0,  0,  0,\n        1,  1,  1,  1,  1,  1,  1, 24, 24, 24, 24, 24, 16, 16, 16, 16, 16,\n       22, 22, 22, 22, 22, 22, 14, 14, 14, 14, 14, 14, 14,  5,  5,  5,  5,\n        5,  5,  5, 15, 15, 15, 15, 15, 15, 15, 15, 15, 15, 15, 15, 15, 15,\n        4,  4,  4,  4,  4,  4,  4, 21, 21, 21, 21, 21, 21, 21,  2,  2,  2,\n        2,  2,  2,  2, 11, 11, 11, 11, 11, 11, 18, 18, 18, 18, 20, 20, 20,\n       20, 20, 20, 20,  8,  8,  8,  8,  8,  8,  8, 17, 17, 17, 17, 17, 17,\n       19, 19, 19, 19,  7,  7,  7,  7,  7,  7,  7,  7,  7,  7,  7, 13, 13,\n       13, 13, 13, 13, 13, 13, 10, 10, 10, 10, 10, 10,  9,  9,  9,  9,  9,\n        9,  9,  9,  3,  3,  3,  3,  3, 23, 23, 23, 23, 23, 23, 23, 23,  8,\n        4])"
     },
     "execution_count": 136,
     "metadata": {},
     "output_type": "execute_result"
    }
   ],
   "source": [
    "y"
   ],
   "metadata": {
    "collapsed": false,
    "ExecuteTime": {
     "end_time": "2024-02-17T11:36:49.689301300Z",
     "start_time": "2024-02-17T11:36:49.683138100Z"
    }
   },
   "id": "307bc67b1e7ca88a",
   "execution_count": 136
  },
  {
   "cell_type": "code",
   "outputs": [
    {
     "data": {
      "text/plain": "(188, 7106)"
     },
     "execution_count": 137,
     "metadata": {},
     "output_type": "execute_result"
    }
   ],
   "source": [
    "x.shape"
   ],
   "metadata": {
    "collapsed": false,
    "ExecuteTime": {
     "end_time": "2024-02-17T11:36:49.689301300Z",
     "start_time": "2024-02-17T11:36:49.686859Z"
    }
   },
   "id": "17a8e1060792221e",
   "execution_count": 137
  },
  {
   "cell_type": "code",
   "outputs": [],
   "source": [
    "x_train, x_test, y_train, y_test = train_test_split(\n",
    "    x, \n",
    "    y,\n",
    "    shuffle=True, \n",
    "    test_size=0.3, \n",
    "    random_state=42\n",
    ")"
   ],
   "metadata": {
    "collapsed": false,
    "ExecuteTime": {
     "end_time": "2024-02-17T11:36:49.703236400Z",
     "start_time": "2024-02-17T11:36:49.690301700Z"
    }
   },
   "id": "1a2a4e2d15214197",
   "execution_count": 138
  },
  {
   "cell_type": "code",
   "outputs": [
    {
     "data": {
      "text/plain": "(131, 7106)"
     },
     "execution_count": 139,
     "metadata": {},
     "output_type": "execute_result"
    }
   ],
   "source": [
    "x_train.shape"
   ],
   "metadata": {
    "collapsed": false,
    "ExecuteTime": {
     "end_time": "2024-02-17T11:36:49.703236400Z",
     "start_time": "2024-02-17T11:36:49.693790300Z"
    }
   },
   "id": "c7e0bc4129cf9fad",
   "execution_count": 139
  },
  {
   "cell_type": "code",
   "outputs": [],
   "source": [
    "bayes = BernoulliNB()"
   ],
   "metadata": {
    "collapsed": false,
    "ExecuteTime": {
     "end_time": "2024-02-17T11:36:49.704236100Z",
     "start_time": "2024-02-17T11:36:49.697250700Z"
    }
   },
   "id": "833c67f7a2a4850c",
   "execution_count": 140
  },
  {
   "cell_type": "code",
   "outputs": [
    {
     "data": {
      "text/plain": "BernoulliNB()",
      "text/html": "<style>#sk-container-id-7 {\n  /* Definition of color scheme common for light and dark mode */\n  --sklearn-color-text: black;\n  --sklearn-color-line: gray;\n  /* Definition of color scheme for unfitted estimators */\n  --sklearn-color-unfitted-level-0: #fff5e6;\n  --sklearn-color-unfitted-level-1: #f6e4d2;\n  --sklearn-color-unfitted-level-2: #ffe0b3;\n  --sklearn-color-unfitted-level-3: chocolate;\n  /* Definition of color scheme for fitted estimators */\n  --sklearn-color-fitted-level-0: #f0f8ff;\n  --sklearn-color-fitted-level-1: #d4ebff;\n  --sklearn-color-fitted-level-2: #b3dbfd;\n  --sklearn-color-fitted-level-3: cornflowerblue;\n\n  /* Specific color for light theme */\n  --sklearn-color-text-on-default-background: var(--sg-text-color, var(--theme-code-foreground, var(--jp-content-font-color1, black)));\n  --sklearn-color-background: var(--sg-background-color, var(--theme-background, var(--jp-layout-color0, white)));\n  --sklearn-color-border-box: var(--sg-text-color, var(--theme-code-foreground, var(--jp-content-font-color1, black)));\n  --sklearn-color-icon: #696969;\n\n  @media (prefers-color-scheme: dark) {\n    /* Redefinition of color scheme for dark theme */\n    --sklearn-color-text-on-default-background: var(--sg-text-color, var(--theme-code-foreground, var(--jp-content-font-color1, white)));\n    --sklearn-color-background: var(--sg-background-color, var(--theme-background, var(--jp-layout-color0, #111)));\n    --sklearn-color-border-box: var(--sg-text-color, var(--theme-code-foreground, var(--jp-content-font-color1, white)));\n    --sklearn-color-icon: #878787;\n  }\n}\n\n#sk-container-id-7 {\n  color: var(--sklearn-color-text);\n}\n\n#sk-container-id-7 pre {\n  padding: 0;\n}\n\n#sk-container-id-7 input.sk-hidden--visually {\n  border: 0;\n  clip: rect(1px 1px 1px 1px);\n  clip: rect(1px, 1px, 1px, 1px);\n  height: 1px;\n  margin: -1px;\n  overflow: hidden;\n  padding: 0;\n  position: absolute;\n  width: 1px;\n}\n\n#sk-container-id-7 div.sk-dashed-wrapped {\n  border: 1px dashed var(--sklearn-color-line);\n  margin: 0 0.4em 0.5em 0.4em;\n  box-sizing: border-box;\n  padding-bottom: 0.4em;\n  background-color: var(--sklearn-color-background);\n}\n\n#sk-container-id-7 div.sk-container {\n  /* jupyter's `normalize.less` sets `[hidden] { display: none; }`\n     but bootstrap.min.css set `[hidden] { display: none !important; }`\n     so we also need the `!important` here to be able to override the\n     default hidden behavior on the sphinx rendered scikit-learn.org.\n     See: https://github.com/scikit-learn/scikit-learn/issues/21755 */\n  display: inline-block !important;\n  position: relative;\n}\n\n#sk-container-id-7 div.sk-text-repr-fallback {\n  display: none;\n}\n\ndiv.sk-parallel-item,\ndiv.sk-serial,\ndiv.sk-item {\n  /* draw centered vertical line to link estimators */\n  background-image: linear-gradient(var(--sklearn-color-text-on-default-background), var(--sklearn-color-text-on-default-background));\n  background-size: 2px 100%;\n  background-repeat: no-repeat;\n  background-position: center center;\n}\n\n/* Parallel-specific style estimator block */\n\n#sk-container-id-7 div.sk-parallel-item::after {\n  content: \"\";\n  width: 100%;\n  border-bottom: 2px solid var(--sklearn-color-text-on-default-background);\n  flex-grow: 1;\n}\n\n#sk-container-id-7 div.sk-parallel {\n  display: flex;\n  align-items: stretch;\n  justify-content: center;\n  background-color: var(--sklearn-color-background);\n  position: relative;\n}\n\n#sk-container-id-7 div.sk-parallel-item {\n  display: flex;\n  flex-direction: column;\n}\n\n#sk-container-id-7 div.sk-parallel-item:first-child::after {\n  align-self: flex-end;\n  width: 50%;\n}\n\n#sk-container-id-7 div.sk-parallel-item:last-child::after {\n  align-self: flex-start;\n  width: 50%;\n}\n\n#sk-container-id-7 div.sk-parallel-item:only-child::after {\n  width: 0;\n}\n\n/* Serial-specific style estimator block */\n\n#sk-container-id-7 div.sk-serial {\n  display: flex;\n  flex-direction: column;\n  align-items: center;\n  background-color: var(--sklearn-color-background);\n  padding-right: 1em;\n  padding-left: 1em;\n}\n\n\n/* Toggleable style: style used for estimator/Pipeline/ColumnTransformer box that is\nclickable and can be expanded/collapsed.\n- Pipeline and ColumnTransformer use this feature and define the default style\n- Estimators will overwrite some part of the style using the `sk-estimator` class\n*/\n\n/* Pipeline and ColumnTransformer style (default) */\n\n#sk-container-id-7 div.sk-toggleable {\n  /* Default theme specific background. It is overwritten whether we have a\n  specific estimator or a Pipeline/ColumnTransformer */\n  background-color: var(--sklearn-color-background);\n}\n\n/* Toggleable label */\n#sk-container-id-7 label.sk-toggleable__label {\n  cursor: pointer;\n  display: block;\n  width: 100%;\n  margin-bottom: 0;\n  padding: 0.5em;\n  box-sizing: border-box;\n  text-align: center;\n}\n\n#sk-container-id-7 label.sk-toggleable__label-arrow:before {\n  /* Arrow on the left of the label */\n  content: \"▸\";\n  float: left;\n  margin-right: 0.25em;\n  color: var(--sklearn-color-icon);\n}\n\n#sk-container-id-7 label.sk-toggleable__label-arrow:hover:before {\n  color: var(--sklearn-color-text);\n}\n\n/* Toggleable content - dropdown */\n\n#sk-container-id-7 div.sk-toggleable__content {\n  max-height: 0;\n  max-width: 0;\n  overflow: hidden;\n  text-align: left;\n  /* unfitted */\n  background-color: var(--sklearn-color-unfitted-level-0);\n}\n\n#sk-container-id-7 div.sk-toggleable__content.fitted {\n  /* fitted */\n  background-color: var(--sklearn-color-fitted-level-0);\n}\n\n#sk-container-id-7 div.sk-toggleable__content pre {\n  margin: 0.2em;\n  border-radius: 0.25em;\n  color: var(--sklearn-color-text);\n  /* unfitted */\n  background-color: var(--sklearn-color-unfitted-level-0);\n}\n\n#sk-container-id-7 div.sk-toggleable__content.fitted pre {\n  /* unfitted */\n  background-color: var(--sklearn-color-fitted-level-0);\n}\n\n#sk-container-id-7 input.sk-toggleable__control:checked~div.sk-toggleable__content {\n  /* Expand drop-down */\n  max-height: 200px;\n  max-width: 100%;\n  overflow: auto;\n}\n\n#sk-container-id-7 input.sk-toggleable__control:checked~label.sk-toggleable__label-arrow:before {\n  content: \"▾\";\n}\n\n/* Pipeline/ColumnTransformer-specific style */\n\n#sk-container-id-7 div.sk-label input.sk-toggleable__control:checked~label.sk-toggleable__label {\n  color: var(--sklearn-color-text);\n  background-color: var(--sklearn-color-unfitted-level-2);\n}\n\n#sk-container-id-7 div.sk-label.fitted input.sk-toggleable__control:checked~label.sk-toggleable__label {\n  background-color: var(--sklearn-color-fitted-level-2);\n}\n\n/* Estimator-specific style */\n\n/* Colorize estimator box */\n#sk-container-id-7 div.sk-estimator input.sk-toggleable__control:checked~label.sk-toggleable__label {\n  /* unfitted */\n  background-color: var(--sklearn-color-unfitted-level-2);\n}\n\n#sk-container-id-7 div.sk-estimator.fitted input.sk-toggleable__control:checked~label.sk-toggleable__label {\n  /* fitted */\n  background-color: var(--sklearn-color-fitted-level-2);\n}\n\n#sk-container-id-7 div.sk-label label.sk-toggleable__label,\n#sk-container-id-7 div.sk-label label {\n  /* The background is the default theme color */\n  color: var(--sklearn-color-text-on-default-background);\n}\n\n/* On hover, darken the color of the background */\n#sk-container-id-7 div.sk-label:hover label.sk-toggleable__label {\n  color: var(--sklearn-color-text);\n  background-color: var(--sklearn-color-unfitted-level-2);\n}\n\n/* Label box, darken color on hover, fitted */\n#sk-container-id-7 div.sk-label.fitted:hover label.sk-toggleable__label.fitted {\n  color: var(--sklearn-color-text);\n  background-color: var(--sklearn-color-fitted-level-2);\n}\n\n/* Estimator label */\n\n#sk-container-id-7 div.sk-label label {\n  font-family: monospace;\n  font-weight: bold;\n  display: inline-block;\n  line-height: 1.2em;\n}\n\n#sk-container-id-7 div.sk-label-container {\n  text-align: center;\n}\n\n/* Estimator-specific */\n#sk-container-id-7 div.sk-estimator {\n  font-family: monospace;\n  border: 1px dotted var(--sklearn-color-border-box);\n  border-radius: 0.25em;\n  box-sizing: border-box;\n  margin-bottom: 0.5em;\n  /* unfitted */\n  background-color: var(--sklearn-color-unfitted-level-0);\n}\n\n#sk-container-id-7 div.sk-estimator.fitted {\n  /* fitted */\n  background-color: var(--sklearn-color-fitted-level-0);\n}\n\n/* on hover */\n#sk-container-id-7 div.sk-estimator:hover {\n  /* unfitted */\n  background-color: var(--sklearn-color-unfitted-level-2);\n}\n\n#sk-container-id-7 div.sk-estimator.fitted:hover {\n  /* fitted */\n  background-color: var(--sklearn-color-fitted-level-2);\n}\n\n/* Specification for estimator info (e.g. \"i\" and \"?\") */\n\n/* Common style for \"i\" and \"?\" */\n\n.sk-estimator-doc-link,\na:link.sk-estimator-doc-link,\na:visited.sk-estimator-doc-link {\n  float: right;\n  font-size: smaller;\n  line-height: 1em;\n  font-family: monospace;\n  background-color: var(--sklearn-color-background);\n  border-radius: 1em;\n  height: 1em;\n  width: 1em;\n  text-decoration: none !important;\n  margin-left: 1ex;\n  /* unfitted */\n  border: var(--sklearn-color-unfitted-level-1) 1pt solid;\n  color: var(--sklearn-color-unfitted-level-1);\n}\n\n.sk-estimator-doc-link.fitted,\na:link.sk-estimator-doc-link.fitted,\na:visited.sk-estimator-doc-link.fitted {\n  /* fitted */\n  border: var(--sklearn-color-fitted-level-1) 1pt solid;\n  color: var(--sklearn-color-fitted-level-1);\n}\n\n/* On hover */\ndiv.sk-estimator:hover .sk-estimator-doc-link:hover,\n.sk-estimator-doc-link:hover,\ndiv.sk-label-container:hover .sk-estimator-doc-link:hover,\n.sk-estimator-doc-link:hover {\n  /* unfitted */\n  background-color: var(--sklearn-color-unfitted-level-3);\n  color: var(--sklearn-color-background);\n  text-decoration: none;\n}\n\ndiv.sk-estimator.fitted:hover .sk-estimator-doc-link.fitted:hover,\n.sk-estimator-doc-link.fitted:hover,\ndiv.sk-label-container:hover .sk-estimator-doc-link.fitted:hover,\n.sk-estimator-doc-link.fitted:hover {\n  /* fitted */\n  background-color: var(--sklearn-color-fitted-level-3);\n  color: var(--sklearn-color-background);\n  text-decoration: none;\n}\n\n/* Span, style for the box shown on hovering the info icon */\n.sk-estimator-doc-link span {\n  display: none;\n  z-index: 9999;\n  position: relative;\n  font-weight: normal;\n  right: .2ex;\n  padding: .5ex;\n  margin: .5ex;\n  width: min-content;\n  min-width: 20ex;\n  max-width: 50ex;\n  color: var(--sklearn-color-text);\n  box-shadow: 2pt 2pt 4pt #999;\n  /* unfitted */\n  background: var(--sklearn-color-unfitted-level-0);\n  border: .5pt solid var(--sklearn-color-unfitted-level-3);\n}\n\n.sk-estimator-doc-link.fitted span {\n  /* fitted */\n  background: var(--sklearn-color-fitted-level-0);\n  border: var(--sklearn-color-fitted-level-3);\n}\n\n.sk-estimator-doc-link:hover span {\n  display: block;\n}\n\n/* \"?\"-specific style due to the `<a>` HTML tag */\n\n#sk-container-id-7 a.estimator_doc_link {\n  float: right;\n  font-size: 1rem;\n  line-height: 1em;\n  font-family: monospace;\n  background-color: var(--sklearn-color-background);\n  border-radius: 1rem;\n  height: 1rem;\n  width: 1rem;\n  text-decoration: none;\n  /* unfitted */\n  color: var(--sklearn-color-unfitted-level-1);\n  border: var(--sklearn-color-unfitted-level-1) 1pt solid;\n}\n\n#sk-container-id-7 a.estimator_doc_link.fitted {\n  /* fitted */\n  border: var(--sklearn-color-fitted-level-1) 1pt solid;\n  color: var(--sklearn-color-fitted-level-1);\n}\n\n/* On hover */\n#sk-container-id-7 a.estimator_doc_link:hover {\n  /* unfitted */\n  background-color: var(--sklearn-color-unfitted-level-3);\n  color: var(--sklearn-color-background);\n  text-decoration: none;\n}\n\n#sk-container-id-7 a.estimator_doc_link.fitted:hover {\n  /* fitted */\n  background-color: var(--sklearn-color-fitted-level-3);\n}\n</style><div id=\"sk-container-id-7\" class=\"sk-top-container\"><div class=\"sk-text-repr-fallback\"><pre>BernoulliNB()</pre><b>In a Jupyter environment, please rerun this cell to show the HTML representation or trust the notebook. <br />On GitHub, the HTML representation is unable to render, please try loading this page with nbviewer.org.</b></div><div class=\"sk-container\" hidden><div class=\"sk-item\"><div class=\"sk-estimator fitted sk-toggleable\"><input class=\"sk-toggleable__control sk-hidden--visually\" id=\"sk-estimator-id-7\" type=\"checkbox\" checked><label for=\"sk-estimator-id-7\" class=\"sk-toggleable__label fitted sk-toggleable__label-arrow fitted\">&nbsp;&nbsp;BernoulliNB<a class=\"sk-estimator-doc-link fitted\" rel=\"noreferrer\" target=\"_blank\" href=\"https://scikit-learn.org/1.4/modules/generated/sklearn.naive_bayes.BernoulliNB.html\">?<span>Documentation for BernoulliNB</span></a><span class=\"sk-estimator-doc-link fitted\">i<span>Fitted</span></span></label><div class=\"sk-toggleable__content fitted\"><pre>BernoulliNB()</pre></div> </div></div></div></div>"
     },
     "execution_count": 141,
     "metadata": {},
     "output_type": "execute_result"
    }
   ],
   "source": [
    "bayes.fit(x_train, y_train)"
   ],
   "metadata": {
    "collapsed": false,
    "ExecuteTime": {
     "end_time": "2024-02-17T11:36:49.729303200Z",
     "start_time": "2024-02-17T11:36:49.699237400Z"
    }
   },
   "id": "1471c49c3b98460d",
   "execution_count": 141
  },
  {
   "cell_type": "code",
   "outputs": [
    {
     "data": {
      "text/plain": "0.08771929824561403"
     },
     "execution_count": 142,
     "metadata": {},
     "output_type": "execute_result"
    }
   ],
   "source": [
    "y_pred = bayes.predict(x_test)\n",
    "accuracy_score(y_test, y_pred)"
   ],
   "metadata": {
    "collapsed": false,
    "ExecuteTime": {
     "end_time": "2024-02-17T11:36:49.729303200Z",
     "start_time": "2024-02-17T11:36:49.707131400Z"
    }
   },
   "id": "e76ab7252e47a06d",
   "execution_count": 142
  },
  {
   "cell_type": "code",
   "outputs": [],
   "source": [
    "train_pipeline = Pipeline([\n",
    "    ('vect', TfidfVectorizer()),\n",
    "    ('clf', BernoulliNB())\n",
    "])\n",
    "\n",
    "param_grid = {\n",
    "    'vect__max_features': (50, 100, 1000, 2000),\n",
    "    'vect__ngram_range': ((1, 1), (1, 2), (1,3), (1, 4), (1, 5)),\n",
    "    'vect__norm': ('l1', 'l2', None),\n",
    "}"
   ],
   "metadata": {
    "collapsed": false,
    "ExecuteTime": {
     "end_time": "2024-02-17T11:40:11.164782200Z",
     "start_time": "2024-02-17T11:40:11.162274300Z"
    }
   },
   "id": "555d277cce7d6511",
   "execution_count": 153
  },
  {
   "cell_type": "code",
   "outputs": [
    {
     "name": "stdout",
     "output_type": "stream",
     "text": [
      "Fitting 5 folds for each of 60 candidates, totalling 300 fits\n",
      "[CV 1/5] END vect__max_features=50, vect__ngram_range=(1, 1), vect__norm=l1;, score=0.211 total time=   0.0s\n",
      "[CV 2/5] END vect__max_features=50, vect__ngram_range=(1, 1), vect__norm=l1;, score=0.237 total time=   0.0s\n",
      "[CV 3/5] END vect__max_features=50, vect__ngram_range=(1, 1), vect__norm=l1;, score=0.368 total time=   0.0s\n",
      "[CV 4/5] END vect__max_features=50, vect__ngram_range=(1, 1), vect__norm=l1;, score=0.378 total time=   0.0s\n",
      "[CV 5/5] END vect__max_features=50, vect__ngram_range=(1, 1), vect__norm=l1;, score=0.351 total time=   0.0s\n",
      "[CV 1/5] END vect__max_features=50, vect__ngram_range=(1, 1), vect__norm=l2;, score=0.211 total time=   0.0s\n",
      "[CV 2/5] END vect__max_features=50, vect__ngram_range=(1, 1), vect__norm=l2;, score=0.237 total time=   0.0s\n",
      "[CV 3/5] END vect__max_features=50, vect__ngram_range=(1, 1), vect__norm=l2;, score=0.368 total time=   0.0s\n"
     ]
    },
    {
     "name": "stderr",
     "output_type": "stream",
     "text": [
      "C:\\Users\\JS\\anaconda3\\envs\\NLPProjectVenv\\Lib\\site-packages\\sklearn\\model_selection\\_split.py:737: UserWarning: The least populated class in y has only 4 members, which is less than n_splits=5.\n",
      "  warnings.warn(\n"
     ]
    },
    {
     "name": "stdout",
     "output_type": "stream",
     "text": [
      "[CV 4/5] END vect__max_features=50, vect__ngram_range=(1, 1), vect__norm=l2;, score=0.378 total time=   0.0s\n",
      "[CV 5/5] END vect__max_features=50, vect__ngram_range=(1, 1), vect__norm=l2;, score=0.351 total time=   0.0s\n",
      "[CV 1/5] END vect__max_features=50, vect__ngram_range=(1, 1), vect__norm=None;, score=0.211 total time=   0.0s\n",
      "[CV 2/5] END vect__max_features=50, vect__ngram_range=(1, 1), vect__norm=None;, score=0.237 total time=   0.0s\n",
      "[CV 3/5] END vect__max_features=50, vect__ngram_range=(1, 1), vect__norm=None;, score=0.368 total time=   0.0s\n",
      "[CV 4/5] END vect__max_features=50, vect__ngram_range=(1, 1), vect__norm=None;, score=0.378 total time=   0.0s\n",
      "[CV 5/5] END vect__max_features=50, vect__ngram_range=(1, 1), vect__norm=None;, score=0.351 total time=   0.0s\n",
      "[CV 1/5] END vect__max_features=50, vect__ngram_range=(1, 2), vect__norm=l1;, score=0.211 total time=   0.0s\n",
      "[CV 2/5] END vect__max_features=50, vect__ngram_range=(1, 2), vect__norm=l1;, score=0.211 total time=   0.0s\n",
      "[CV 3/5] END vect__max_features=50, vect__ngram_range=(1, 2), vect__norm=l1;, score=0.421 total time=   0.0s\n",
      "[CV 4/5] END vect__max_features=50, vect__ngram_range=(1, 2), vect__norm=l1;, score=0.324 total time=   0.0s\n",
      "[CV 5/5] END vect__max_features=50, vect__ngram_range=(1, 2), vect__norm=l1;, score=0.297 total time=   0.0s\n",
      "[CV 1/5] END vect__max_features=50, vect__ngram_range=(1, 2), vect__norm=l2;, score=0.211 total time=   0.0s\n",
      "[CV 2/5] END vect__max_features=50, vect__ngram_range=(1, 2), vect__norm=l2;, score=0.211 total time=   0.0s\n",
      "[CV 3/5] END vect__max_features=50, vect__ngram_range=(1, 2), vect__norm=l2;, score=0.421 total time=   0.0s\n",
      "[CV 4/5] END vect__max_features=50, vect__ngram_range=(1, 2), vect__norm=l2;, score=0.324 total time=   0.0s\n",
      "[CV 5/5] END vect__max_features=50, vect__ngram_range=(1, 2), vect__norm=l2;, score=0.297 total time=   0.0s\n",
      "[CV 1/5] END vect__max_features=50, vect__ngram_range=(1, 2), vect__norm=None;, score=0.211 total time=   0.0s\n",
      "[CV 2/5] END vect__max_features=50, vect__ngram_range=(1, 2), vect__norm=None;, score=0.211 total time=   0.0s\n",
      "[CV 3/5] END vect__max_features=50, vect__ngram_range=(1, 2), vect__norm=None;, score=0.421 total time=   0.0s\n",
      "[CV 4/5] END vect__max_features=50, vect__ngram_range=(1, 2), vect__norm=None;, score=0.324 total time=   0.0s\n",
      "[CV 5/5] END vect__max_features=50, vect__ngram_range=(1, 2), vect__norm=None;, score=0.297 total time=   0.0s\n",
      "[CV 1/5] END vect__max_features=50, vect__ngram_range=(1, 3), vect__norm=l1;, score=0.211 total time=   0.0s\n",
      "[CV 2/5] END vect__max_features=50, vect__ngram_range=(1, 3), vect__norm=l1;, score=0.211 total time=   0.0s\n",
      "[CV 3/5] END vect__max_features=50, vect__ngram_range=(1, 3), vect__norm=l1;, score=0.421 total time=   0.0s\n",
      "[CV 4/5] END vect__max_features=50, vect__ngram_range=(1, 3), vect__norm=l1;, score=0.324 total time=   0.0s\n",
      "[CV 5/5] END vect__max_features=50, vect__ngram_range=(1, 3), vect__norm=l1;, score=0.297 total time=   0.0s\n",
      "[CV 1/5] END vect__max_features=50, vect__ngram_range=(1, 3), vect__norm=l2;, score=0.211 total time=   0.0s\n",
      "[CV 2/5] END vect__max_features=50, vect__ngram_range=(1, 3), vect__norm=l2;, score=0.211 total time=   0.0s\n",
      "[CV 3/5] END vect__max_features=50, vect__ngram_range=(1, 3), vect__norm=l2;, score=0.421 total time=   0.0s\n",
      "[CV 4/5] END vect__max_features=50, vect__ngram_range=(1, 3), vect__norm=l2;, score=0.324 total time=   0.0s\n",
      "[CV 5/5] END vect__max_features=50, vect__ngram_range=(1, 3), vect__norm=l2;, score=0.297 total time=   0.0s\n",
      "[CV 1/5] END vect__max_features=50, vect__ngram_range=(1, 3), vect__norm=None;, score=0.211 total time=   0.0s\n",
      "[CV 2/5] END vect__max_features=50, vect__ngram_range=(1, 3), vect__norm=None;, score=0.211 total time=   0.0s\n",
      "[CV 3/5] END vect__max_features=50, vect__ngram_range=(1, 3), vect__norm=None;, score=0.421 total time=   0.0s\n",
      "[CV 4/5] END vect__max_features=50, vect__ngram_range=(1, 3), vect__norm=None;, score=0.324 total time=   0.0s\n",
      "[CV 5/5] END vect__max_features=50, vect__ngram_range=(1, 3), vect__norm=None;, score=0.297 total time=   0.0s\n",
      "[CV 1/5] END vect__max_features=50, vect__ngram_range=(1, 4), vect__norm=l1;, score=0.211 total time=   0.1s\n",
      "[CV 2/5] END vect__max_features=50, vect__ngram_range=(1, 4), vect__norm=l1;, score=0.211 total time=   0.0s\n",
      "[CV 3/5] END vect__max_features=50, vect__ngram_range=(1, 4), vect__norm=l1;, score=0.395 total time=   0.1s\n",
      "[CV 4/5] END vect__max_features=50, vect__ngram_range=(1, 4), vect__norm=l1;, score=0.324 total time=   0.1s\n",
      "[CV 5/5] END vect__max_features=50, vect__ngram_range=(1, 4), vect__norm=l1;, score=0.297 total time=   0.1s\n",
      "[CV 1/5] END vect__max_features=50, vect__ngram_range=(1, 4), vect__norm=l2;, score=0.211 total time=   0.1s\n",
      "[CV 2/5] END vect__max_features=50, vect__ngram_range=(1, 4), vect__norm=l2;, score=0.211 total time=   0.1s\n",
      "[CV 3/5] END vect__max_features=50, vect__ngram_range=(1, 4), vect__norm=l2;, score=0.395 total time=   0.1s\n",
      "[CV 4/5] END vect__max_features=50, vect__ngram_range=(1, 4), vect__norm=l2;, score=0.324 total time=   0.1s\n",
      "[CV 5/5] END vect__max_features=50, vect__ngram_range=(1, 4), vect__norm=l2;, score=0.297 total time=   0.1s\n",
      "[CV 1/5] END vect__max_features=50, vect__ngram_range=(1, 4), vect__norm=None;, score=0.211 total time=   0.1s\n",
      "[CV 2/5] END vect__max_features=50, vect__ngram_range=(1, 4), vect__norm=None;, score=0.211 total time=   0.0s\n",
      "[CV 3/5] END vect__max_features=50, vect__ngram_range=(1, 4), vect__norm=None;, score=0.395 total time=   0.1s\n",
      "[CV 4/5] END vect__max_features=50, vect__ngram_range=(1, 4), vect__norm=None;, score=0.324 total time=   0.1s\n",
      "[CV 5/5] END vect__max_features=50, vect__ngram_range=(1, 4), vect__norm=None;, score=0.297 total time=   0.1s\n",
      "[CV 1/5] END vect__max_features=50, vect__ngram_range=(1, 5), vect__norm=l1;, score=0.211 total time=   0.1s\n",
      "[CV 2/5] END vect__max_features=50, vect__ngram_range=(1, 5), vect__norm=l1;, score=0.211 total time=   0.1s\n",
      "[CV 3/5] END vect__max_features=50, vect__ngram_range=(1, 5), vect__norm=l1;, score=0.421 total time=   0.1s\n",
      "[CV 4/5] END vect__max_features=50, vect__ngram_range=(1, 5), vect__norm=l1;, score=0.324 total time=   0.1s\n",
      "[CV 5/5] END vect__max_features=50, vect__ngram_range=(1, 5), vect__norm=l1;, score=0.297 total time=   0.1s\n",
      "[CV 1/5] END vect__max_features=50, vect__ngram_range=(1, 5), vect__norm=l2;, score=0.211 total time=   0.1s\n",
      "[CV 2/5] END vect__max_features=50, vect__ngram_range=(1, 5), vect__norm=l2;, score=0.211 total time=   0.1s\n",
      "[CV 3/5] END vect__max_features=50, vect__ngram_range=(1, 5), vect__norm=l2;, score=0.421 total time=   0.1s\n",
      "[CV 4/5] END vect__max_features=50, vect__ngram_range=(1, 5), vect__norm=l2;, score=0.324 total time=   0.1s\n",
      "[CV 5/5] END vect__max_features=50, vect__ngram_range=(1, 5), vect__norm=l2;, score=0.297 total time=   0.1s\n",
      "[CV 1/5] END vect__max_features=50, vect__ngram_range=(1, 5), vect__norm=None;, score=0.211 total time=   0.1s\n",
      "[CV 2/5] END vect__max_features=50, vect__ngram_range=(1, 5), vect__norm=None;, score=0.211 total time=   0.1s\n",
      "[CV 3/5] END vect__max_features=50, vect__ngram_range=(1, 5), vect__norm=None;, score=0.421 total time=   0.1s\n",
      "[CV 4/5] END vect__max_features=50, vect__ngram_range=(1, 5), vect__norm=None;, score=0.324 total time=   0.1s\n",
      "[CV 5/5] END vect__max_features=50, vect__ngram_range=(1, 5), vect__norm=None;, score=0.297 total time=   0.1s\n",
      "[CV 1/5] END vect__max_features=100, vect__ngram_range=(1, 1), vect__norm=l1;, score=0.237 total time=   0.0s\n",
      "[CV 2/5] END vect__max_features=100, vect__ngram_range=(1, 1), vect__norm=l1;, score=0.263 total time=   0.0s\n",
      "[CV 3/5] END vect__max_features=100, vect__ngram_range=(1, 1), vect__norm=l1;, score=0.395 total time=   0.0s\n",
      "[CV 4/5] END vect__max_features=100, vect__ngram_range=(1, 1), vect__norm=l1;, score=0.351 total time=   0.0s\n",
      "[CV 5/5] END vect__max_features=100, vect__ngram_range=(1, 1), vect__norm=l1;, score=0.405 total time=   0.0s\n",
      "[CV 1/5] END vect__max_features=100, vect__ngram_range=(1, 1), vect__norm=l2;, score=0.237 total time=   0.0s\n",
      "[CV 2/5] END vect__max_features=100, vect__ngram_range=(1, 1), vect__norm=l2;, score=0.263 total time=   0.0s\n",
      "[CV 3/5] END vect__max_features=100, vect__ngram_range=(1, 1), vect__norm=l2;, score=0.395 total time=   0.0s\n",
      "[CV 4/5] END vect__max_features=100, vect__ngram_range=(1, 1), vect__norm=l2;, score=0.351 total time=   0.0s\n",
      "[CV 5/5] END vect__max_features=100, vect__ngram_range=(1, 1), vect__norm=l2;, score=0.405 total time=   0.0s\n",
      "[CV 1/5] END vect__max_features=100, vect__ngram_range=(1, 1), vect__norm=None;, score=0.237 total time=   0.0s\n",
      "[CV 2/5] END vect__max_features=100, vect__ngram_range=(1, 1), vect__norm=None;, score=0.263 total time=   0.0s\n",
      "[CV 3/5] END vect__max_features=100, vect__ngram_range=(1, 1), vect__norm=None;, score=0.395 total time=   0.0s\n",
      "[CV 4/5] END vect__max_features=100, vect__ngram_range=(1, 1), vect__norm=None;, score=0.351 total time=   0.0s\n",
      "[CV 5/5] END vect__max_features=100, vect__ngram_range=(1, 1), vect__norm=None;, score=0.405 total time=   0.0s\n",
      "[CV 1/5] END vect__max_features=100, vect__ngram_range=(1, 2), vect__norm=l1;, score=0.263 total time=   0.0s\n",
      "[CV 2/5] END vect__max_features=100, vect__ngram_range=(1, 2), vect__norm=l1;, score=0.263 total time=   0.0s\n",
      "[CV 3/5] END vect__max_features=100, vect__ngram_range=(1, 2), vect__norm=l1;, score=0.421 total time=   0.0s\n",
      "[CV 4/5] END vect__max_features=100, vect__ngram_range=(1, 2), vect__norm=l1;, score=0.378 total time=   0.0s\n",
      "[CV 5/5] END vect__max_features=100, vect__ngram_range=(1, 2), vect__norm=l1;, score=0.324 total time=   0.0s\n",
      "[CV 1/5] END vect__max_features=100, vect__ngram_range=(1, 2), vect__norm=l2;, score=0.263 total time=   0.0s\n",
      "[CV 2/5] END vect__max_features=100, vect__ngram_range=(1, 2), vect__norm=l2;, score=0.263 total time=   0.0s\n",
      "[CV 3/5] END vect__max_features=100, vect__ngram_range=(1, 2), vect__norm=l2;, score=0.421 total time=   0.0s\n",
      "[CV 4/5] END vect__max_features=100, vect__ngram_range=(1, 2), vect__norm=l2;, score=0.378 total time=   0.0s\n",
      "[CV 5/5] END vect__max_features=100, vect__ngram_range=(1, 2), vect__norm=l2;, score=0.324 total time=   0.0s\n",
      "[CV 1/5] END vect__max_features=100, vect__ngram_range=(1, 2), vect__norm=None;, score=0.263 total time=   0.0s\n",
      "[CV 2/5] END vect__max_features=100, vect__ngram_range=(1, 2), vect__norm=None;, score=0.263 total time=   0.0s\n",
      "[CV 3/5] END vect__max_features=100, vect__ngram_range=(1, 2), vect__norm=None;, score=0.421 total time=   0.0s\n",
      "[CV 4/5] END vect__max_features=100, vect__ngram_range=(1, 2), vect__norm=None;, score=0.378 total time=   0.0s\n",
      "[CV 5/5] END vect__max_features=100, vect__ngram_range=(1, 2), vect__norm=None;, score=0.324 total time=   0.0s\n",
      "[CV 1/5] END vect__max_features=100, vect__ngram_range=(1, 3), vect__norm=l1;, score=0.263 total time=   0.0s\n",
      "[CV 2/5] END vect__max_features=100, vect__ngram_range=(1, 3), vect__norm=l1;, score=0.316 total time=   0.0s\n",
      "[CV 3/5] END vect__max_features=100, vect__ngram_range=(1, 3), vect__norm=l1;, score=0.263 total time=   0.0s\n",
      "[CV 4/5] END vect__max_features=100, vect__ngram_range=(1, 3), vect__norm=l1;, score=0.351 total time=   0.0s\n",
      "[CV 5/5] END vect__max_features=100, vect__ngram_range=(1, 3), vect__norm=l1;, score=0.297 total time=   0.0s\n",
      "[CV 1/5] END vect__max_features=100, vect__ngram_range=(1, 3), vect__norm=l2;, score=0.263 total time=   0.0s\n",
      "[CV 2/5] END vect__max_features=100, vect__ngram_range=(1, 3), vect__norm=l2;, score=0.316 total time=   0.0s\n",
      "[CV 3/5] END vect__max_features=100, vect__ngram_range=(1, 3), vect__norm=l2;, score=0.263 total time=   0.0s\n",
      "[CV 4/5] END vect__max_features=100, vect__ngram_range=(1, 3), vect__norm=l2;, score=0.351 total time=   0.0s\n",
      "[CV 5/5] END vect__max_features=100, vect__ngram_range=(1, 3), vect__norm=l2;, score=0.297 total time=   0.0s\n",
      "[CV 1/5] END vect__max_features=100, vect__ngram_range=(1, 3), vect__norm=None;, score=0.263 total time=   0.0s\n",
      "[CV 2/5] END vect__max_features=100, vect__ngram_range=(1, 3), vect__norm=None;, score=0.316 total time=   0.0s\n",
      "[CV 3/5] END vect__max_features=100, vect__ngram_range=(1, 3), vect__norm=None;, score=0.263 total time=   0.0s\n",
      "[CV 4/5] END vect__max_features=100, vect__ngram_range=(1, 3), vect__norm=None;, score=0.351 total time=   0.0s\n",
      "[CV 5/5] END vect__max_features=100, vect__ngram_range=(1, 3), vect__norm=None;, score=0.297 total time=   0.0s\n",
      "[CV 1/5] END vect__max_features=100, vect__ngram_range=(1, 4), vect__norm=l1;, score=0.237 total time=   0.1s\n",
      "[CV 2/5] END vect__max_features=100, vect__ngram_range=(1, 4), vect__norm=l1;, score=0.316 total time=   0.0s\n",
      "[CV 3/5] END vect__max_features=100, vect__ngram_range=(1, 4), vect__norm=l1;, score=0.263 total time=   0.1s\n",
      "[CV 4/5] END vect__max_features=100, vect__ngram_range=(1, 4), vect__norm=l1;, score=0.351 total time=   0.1s\n",
      "[CV 5/5] END vect__max_features=100, vect__ngram_range=(1, 4), vect__norm=l1;, score=0.297 total time=   0.1s\n",
      "[CV 1/5] END vect__max_features=100, vect__ngram_range=(1, 4), vect__norm=l2;, score=0.237 total time=   0.1s\n",
      "[CV 2/5] END vect__max_features=100, vect__ngram_range=(1, 4), vect__norm=l2;, score=0.316 total time=   0.0s\n",
      "[CV 3/5] END vect__max_features=100, vect__ngram_range=(1, 4), vect__norm=l2;, score=0.263 total time=   0.1s\n",
      "[CV 4/5] END vect__max_features=100, vect__ngram_range=(1, 4), vect__norm=l2;, score=0.351 total time=   0.1s\n",
      "[CV 5/5] END vect__max_features=100, vect__ngram_range=(1, 4), vect__norm=l2;, score=0.297 total time=   0.1s\n",
      "[CV 1/5] END vect__max_features=100, vect__ngram_range=(1, 4), vect__norm=None;, score=0.237 total time=   0.1s\n",
      "[CV 2/5] END vect__max_features=100, vect__ngram_range=(1, 4), vect__norm=None;, score=0.316 total time=   0.0s\n",
      "[CV 3/5] END vect__max_features=100, vect__ngram_range=(1, 4), vect__norm=None;, score=0.263 total time=   0.1s\n",
      "[CV 4/5] END vect__max_features=100, vect__ngram_range=(1, 4), vect__norm=None;, score=0.351 total time=   0.1s\n",
      "[CV 5/5] END vect__max_features=100, vect__ngram_range=(1, 4), vect__norm=None;, score=0.297 total time=   0.1s\n",
      "[CV 1/5] END vect__max_features=100, vect__ngram_range=(1, 5), vect__norm=l1;, score=0.263 total time=   0.1s\n",
      "[CV 2/5] END vect__max_features=100, vect__ngram_range=(1, 5), vect__norm=l1;, score=0.316 total time=   0.1s\n",
      "[CV 3/5] END vect__max_features=100, vect__ngram_range=(1, 5), vect__norm=l1;, score=0.263 total time=   0.1s\n",
      "[CV 4/5] END vect__max_features=100, vect__ngram_range=(1, 5), vect__norm=l1;, score=0.378 total time=   0.1s\n",
      "[CV 5/5] END vect__max_features=100, vect__ngram_range=(1, 5), vect__norm=l1;, score=0.297 total time=   0.1s\n",
      "[CV 1/5] END vect__max_features=100, vect__ngram_range=(1, 5), vect__norm=l2;, score=0.263 total time=   0.1s\n",
      "[CV 2/5] END vect__max_features=100, vect__ngram_range=(1, 5), vect__norm=l2;, score=0.316 total time=   0.1s\n",
      "[CV 3/5] END vect__max_features=100, vect__ngram_range=(1, 5), vect__norm=l2;, score=0.263 total time=   0.1s\n",
      "[CV 4/5] END vect__max_features=100, vect__ngram_range=(1, 5), vect__norm=l2;, score=0.378 total time=   0.1s\n",
      "[CV 5/5] END vect__max_features=100, vect__ngram_range=(1, 5), vect__norm=l2;, score=0.297 total time=   0.1s\n",
      "[CV 1/5] END vect__max_features=100, vect__ngram_range=(1, 5), vect__norm=None;, score=0.263 total time=   0.1s\n",
      "[CV 2/5] END vect__max_features=100, vect__ngram_range=(1, 5), vect__norm=None;, score=0.316 total time=   0.1s\n",
      "[CV 3/5] END vect__max_features=100, vect__ngram_range=(1, 5), vect__norm=None;, score=0.263 total time=   0.1s\n",
      "[CV 4/5] END vect__max_features=100, vect__ngram_range=(1, 5), vect__norm=None;, score=0.378 total time=   0.1s\n",
      "[CV 5/5] END vect__max_features=100, vect__ngram_range=(1, 5), vect__norm=None;, score=0.297 total time=   0.1s\n",
      "[CV 1/5] END vect__max_features=1000, vect__ngram_range=(1, 1), vect__norm=l1;, score=0.158 total time=   0.0s\n",
      "[CV 2/5] END vect__max_features=1000, vect__ngram_range=(1, 1), vect__norm=l1;, score=0.395 total time=   0.0s\n",
      "[CV 3/5] END vect__max_features=1000, vect__ngram_range=(1, 1), vect__norm=l1;, score=0.526 total time=   0.0s\n",
      "[CV 4/5] END vect__max_features=1000, vect__ngram_range=(1, 1), vect__norm=l1;, score=0.459 total time=   0.0s\n",
      "[CV 5/5] END vect__max_features=1000, vect__ngram_range=(1, 1), vect__norm=l1;, score=0.297 total time=   0.0s\n",
      "[CV 1/5] END vect__max_features=1000, vect__ngram_range=(1, 1), vect__norm=l2;, score=0.158 total time=   0.0s\n",
      "[CV 2/5] END vect__max_features=1000, vect__ngram_range=(1, 1), vect__norm=l2;, score=0.395 total time=   0.0s\n",
      "[CV 3/5] END vect__max_features=1000, vect__ngram_range=(1, 1), vect__norm=l2;, score=0.526 total time=   0.0s\n",
      "[CV 4/5] END vect__max_features=1000, vect__ngram_range=(1, 1), vect__norm=l2;, score=0.459 total time=   0.0s\n",
      "[CV 5/5] END vect__max_features=1000, vect__ngram_range=(1, 1), vect__norm=l2;, score=0.297 total time=   0.0s\n",
      "[CV 1/5] END vect__max_features=1000, vect__ngram_range=(1, 1), vect__norm=None;, score=0.158 total time=   0.0s\n",
      "[CV 2/5] END vect__max_features=1000, vect__ngram_range=(1, 1), vect__norm=None;, score=0.395 total time=   0.0s\n",
      "[CV 3/5] END vect__max_features=1000, vect__ngram_range=(1, 1), vect__norm=None;, score=0.526 total time=   0.0s\n",
      "[CV 4/5] END vect__max_features=1000, vect__ngram_range=(1, 1), vect__norm=None;, score=0.459 total time=   0.0s\n",
      "[CV 5/5] END vect__max_features=1000, vect__ngram_range=(1, 1), vect__norm=None;, score=0.297 total time=   0.0s\n",
      "[CV 1/5] END vect__max_features=1000, vect__ngram_range=(1, 2), vect__norm=l1;, score=0.263 total time=   0.0s\n",
      "[CV 2/5] END vect__max_features=1000, vect__ngram_range=(1, 2), vect__norm=l1;, score=0.395 total time=   0.0s\n",
      "[CV 3/5] END vect__max_features=1000, vect__ngram_range=(1, 2), vect__norm=l1;, score=0.553 total time=   0.0s\n",
      "[CV 4/5] END vect__max_features=1000, vect__ngram_range=(1, 2), vect__norm=l1;, score=0.514 total time=   0.0s\n",
      "[CV 5/5] END vect__max_features=1000, vect__ngram_range=(1, 2), vect__norm=l1;, score=0.351 total time=   0.0s\n",
      "[CV 1/5] END vect__max_features=1000, vect__ngram_range=(1, 2), vect__norm=l2;, score=0.263 total time=   0.0s\n",
      "[CV 2/5] END vect__max_features=1000, vect__ngram_range=(1, 2), vect__norm=l2;, score=0.395 total time=   0.0s\n",
      "[CV 3/5] END vect__max_features=1000, vect__ngram_range=(1, 2), vect__norm=l2;, score=0.553 total time=   0.0s\n",
      "[CV 4/5] END vect__max_features=1000, vect__ngram_range=(1, 2), vect__norm=l2;, score=0.514 total time=   0.0s\n",
      "[CV 5/5] END vect__max_features=1000, vect__ngram_range=(1, 2), vect__norm=l2;, score=0.351 total time=   0.0s\n",
      "[CV 1/5] END vect__max_features=1000, vect__ngram_range=(1, 2), vect__norm=None;, score=0.263 total time=   0.0s\n",
      "[CV 2/5] END vect__max_features=1000, vect__ngram_range=(1, 2), vect__norm=None;, score=0.395 total time=   0.0s\n",
      "[CV 3/5] END vect__max_features=1000, vect__ngram_range=(1, 2), vect__norm=None;, score=0.553 total time=   0.0s\n",
      "[CV 4/5] END vect__max_features=1000, vect__ngram_range=(1, 2), vect__norm=None;, score=0.514 total time=   0.0s\n",
      "[CV 5/5] END vect__max_features=1000, vect__ngram_range=(1, 2), vect__norm=None;, score=0.351 total time=   0.0s\n",
      "[CV 1/5] END vect__max_features=1000, vect__ngram_range=(1, 3), vect__norm=l1;, score=0.263 total time=   0.0s\n",
      "[CV 2/5] END vect__max_features=1000, vect__ngram_range=(1, 3), vect__norm=l1;, score=0.395 total time=   0.0s\n",
      "[CV 3/5] END vect__max_features=1000, vect__ngram_range=(1, 3), vect__norm=l1;, score=0.579 total time=   0.0s\n",
      "[CV 4/5] END vect__max_features=1000, vect__ngram_range=(1, 3), vect__norm=l1;, score=0.514 total time=   0.0s\n",
      "[CV 5/5] END vect__max_features=1000, vect__ngram_range=(1, 3), vect__norm=l1;, score=0.378 total time=   0.0s\n",
      "[CV 1/5] END vect__max_features=1000, vect__ngram_range=(1, 3), vect__norm=l2;, score=0.263 total time=   0.0s\n",
      "[CV 2/5] END vect__max_features=1000, vect__ngram_range=(1, 3), vect__norm=l2;, score=0.395 total time=   0.0s\n",
      "[CV 3/5] END vect__max_features=1000, vect__ngram_range=(1, 3), vect__norm=l2;, score=0.579 total time=   0.0s\n",
      "[CV 4/5] END vect__max_features=1000, vect__ngram_range=(1, 3), vect__norm=l2;, score=0.514 total time=   0.0s\n",
      "[CV 5/5] END vect__max_features=1000, vect__ngram_range=(1, 3), vect__norm=l2;, score=0.378 total time=   0.0s\n",
      "[CV 1/5] END vect__max_features=1000, vect__ngram_range=(1, 3), vect__norm=None;, score=0.263 total time=   0.0s\n",
      "[CV 2/5] END vect__max_features=1000, vect__ngram_range=(1, 3), vect__norm=None;, score=0.395 total time=   0.0s\n",
      "[CV 3/5] END vect__max_features=1000, vect__ngram_range=(1, 3), vect__norm=None;, score=0.579 total time=   0.0s\n",
      "[CV 4/5] END vect__max_features=1000, vect__ngram_range=(1, 3), vect__norm=None;, score=0.514 total time=   0.0s\n",
      "[CV 5/5] END vect__max_features=1000, vect__ngram_range=(1, 3), vect__norm=None;, score=0.378 total time=   0.0s\n",
      "[CV 1/5] END vect__max_features=1000, vect__ngram_range=(1, 4), vect__norm=l1;, score=0.263 total time=   0.1s\n",
      "[CV 2/5] END vect__max_features=1000, vect__ngram_range=(1, 4), vect__norm=l1;, score=0.368 total time=   0.0s\n",
      "[CV 3/5] END vect__max_features=1000, vect__ngram_range=(1, 4), vect__norm=l1;, score=0.500 total time=   0.1s\n",
      "[CV 4/5] END vect__max_features=1000, vect__ngram_range=(1, 4), vect__norm=l1;, score=0.514 total time=   0.1s\n",
      "[CV 5/5] END vect__max_features=1000, vect__ngram_range=(1, 4), vect__norm=l1;, score=0.351 total time=   0.1s\n",
      "[CV 1/5] END vect__max_features=1000, vect__ngram_range=(1, 4), vect__norm=l2;, score=0.263 total time=   0.1s\n",
      "[CV 2/5] END vect__max_features=1000, vect__ngram_range=(1, 4), vect__norm=l2;, score=0.368 total time=   0.0s\n",
      "[CV 3/5] END vect__max_features=1000, vect__ngram_range=(1, 4), vect__norm=l2;, score=0.500 total time=   0.1s\n",
      "[CV 4/5] END vect__max_features=1000, vect__ngram_range=(1, 4), vect__norm=l2;, score=0.514 total time=   0.1s\n",
      "[CV 5/5] END vect__max_features=1000, vect__ngram_range=(1, 4), vect__norm=l2;, score=0.351 total time=   0.1s\n",
      "[CV 1/5] END vect__max_features=1000, vect__ngram_range=(1, 4), vect__norm=None;, score=0.263 total time=   0.1s\n",
      "[CV 2/5] END vect__max_features=1000, vect__ngram_range=(1, 4), vect__norm=None;, score=0.368 total time=   0.0s\n",
      "[CV 3/5] END vect__max_features=1000, vect__ngram_range=(1, 4), vect__norm=None;, score=0.500 total time=   0.1s\n",
      "[CV 4/5] END vect__max_features=1000, vect__ngram_range=(1, 4), vect__norm=None;, score=0.514 total time=   0.1s\n",
      "[CV 5/5] END vect__max_features=1000, vect__ngram_range=(1, 4), vect__norm=None;, score=0.351 total time=   0.1s\n",
      "[CV 1/5] END vect__max_features=1000, vect__ngram_range=(1, 5), vect__norm=l1;, score=0.263 total time=   0.1s\n",
      "[CV 2/5] END vect__max_features=1000, vect__ngram_range=(1, 5), vect__norm=l1;, score=0.368 total time=   0.1s\n",
      "[CV 3/5] END vect__max_features=1000, vect__ngram_range=(1, 5), vect__norm=l1;, score=0.474 total time=   0.3s\n",
      "[CV 4/5] END vect__max_features=1000, vect__ngram_range=(1, 5), vect__norm=l1;, score=0.541 total time=   0.1s\n",
      "[CV 5/5] END vect__max_features=1000, vect__ngram_range=(1, 5), vect__norm=l1;, score=0.351 total time=   0.1s\n",
      "[CV 1/5] END vect__max_features=1000, vect__ngram_range=(1, 5), vect__norm=l2;, score=0.263 total time=   0.1s\n",
      "[CV 2/5] END vect__max_features=1000, vect__ngram_range=(1, 5), vect__norm=l2;, score=0.368 total time=   0.1s\n",
      "[CV 3/5] END vect__max_features=1000, vect__ngram_range=(1, 5), vect__norm=l2;, score=0.474 total time=   0.1s\n",
      "[CV 4/5] END vect__max_features=1000, vect__ngram_range=(1, 5), vect__norm=l2;, score=0.541 total time=   0.1s\n",
      "[CV 5/5] END vect__max_features=1000, vect__ngram_range=(1, 5), vect__norm=l2;, score=0.351 total time=   0.1s\n",
      "[CV 1/5] END vect__max_features=1000, vect__ngram_range=(1, 5), vect__norm=None;, score=0.263 total time=   0.1s\n",
      "[CV 2/5] END vect__max_features=1000, vect__ngram_range=(1, 5), vect__norm=None;, score=0.368 total time=   0.1s\n",
      "[CV 3/5] END vect__max_features=1000, vect__ngram_range=(1, 5), vect__norm=None;, score=0.474 total time=   0.1s\n",
      "[CV 4/5] END vect__max_features=1000, vect__ngram_range=(1, 5), vect__norm=None;, score=0.541 total time=   0.1s\n",
      "[CV 5/5] END vect__max_features=1000, vect__ngram_range=(1, 5), vect__norm=None;, score=0.351 total time=   0.1s\n",
      "[CV 1/5] END vect__max_features=2000, vect__ngram_range=(1, 1), vect__norm=l1;, score=0.158 total time=   0.0s\n",
      "[CV 2/5] END vect__max_features=2000, vect__ngram_range=(1, 1), vect__norm=l1;, score=0.289 total time=   0.0s\n",
      "[CV 3/5] END vect__max_features=2000, vect__ngram_range=(1, 1), vect__norm=l1;, score=0.263 total time=   0.0s\n",
      "[CV 4/5] END vect__max_features=2000, vect__ngram_range=(1, 1), vect__norm=l1;, score=0.270 total time=   0.0s\n",
      "[CV 5/5] END vect__max_features=2000, vect__ngram_range=(1, 1), vect__norm=l1;, score=0.189 total time=   0.0s\n",
      "[CV 1/5] END vect__max_features=2000, vect__ngram_range=(1, 1), vect__norm=l2;, score=0.158 total time=   0.0s\n",
      "[CV 2/5] END vect__max_features=2000, vect__ngram_range=(1, 1), vect__norm=l2;, score=0.289 total time=   0.0s\n",
      "[CV 3/5] END vect__max_features=2000, vect__ngram_range=(1, 1), vect__norm=l2;, score=0.263 total time=   0.0s\n",
      "[CV 4/5] END vect__max_features=2000, vect__ngram_range=(1, 1), vect__norm=l2;, score=0.270 total time=   0.0s\n",
      "[CV 5/5] END vect__max_features=2000, vect__ngram_range=(1, 1), vect__norm=l2;, score=0.189 total time=   0.0s\n",
      "[CV 1/5] END vect__max_features=2000, vect__ngram_range=(1, 1), vect__norm=None;, score=0.158 total time=   0.0s\n",
      "[CV 2/5] END vect__max_features=2000, vect__ngram_range=(1, 1), vect__norm=None;, score=0.289 total time=   0.0s\n",
      "[CV 3/5] END vect__max_features=2000, vect__ngram_range=(1, 1), vect__norm=None;, score=0.263 total time=   0.0s\n",
      "[CV 4/5] END vect__max_features=2000, vect__ngram_range=(1, 1), vect__norm=None;, score=0.270 total time=   0.0s\n",
      "[CV 5/5] END vect__max_features=2000, vect__ngram_range=(1, 1), vect__norm=None;, score=0.189 total time=   0.0s\n",
      "[CV 1/5] END vect__max_features=2000, vect__ngram_range=(1, 2), vect__norm=l1;, score=0.184 total time=   0.0s\n",
      "[CV 2/5] END vect__max_features=2000, vect__ngram_range=(1, 2), vect__norm=l1;, score=0.316 total time=   0.0s\n",
      "[CV 3/5] END vect__max_features=2000, vect__ngram_range=(1, 2), vect__norm=l1;, score=0.368 total time=   0.0s\n",
      "[CV 4/5] END vect__max_features=2000, vect__ngram_range=(1, 2), vect__norm=l1;, score=0.351 total time=   0.0s\n",
      "[CV 5/5] END vect__max_features=2000, vect__ngram_range=(1, 2), vect__norm=l1;, score=0.189 total time=   0.0s\n",
      "[CV 1/5] END vect__max_features=2000, vect__ngram_range=(1, 2), vect__norm=l2;, score=0.184 total time=   0.0s\n",
      "[CV 2/5] END vect__max_features=2000, vect__ngram_range=(1, 2), vect__norm=l2;, score=0.316 total time=   0.0s\n",
      "[CV 3/5] END vect__max_features=2000, vect__ngram_range=(1, 2), vect__norm=l2;, score=0.368 total time=   0.0s\n",
      "[CV 4/5] END vect__max_features=2000, vect__ngram_range=(1, 2), vect__norm=l2;, score=0.351 total time=   0.0s\n",
      "[CV 5/5] END vect__max_features=2000, vect__ngram_range=(1, 2), vect__norm=l2;, score=0.189 total time=   0.0s\n",
      "[CV 1/5] END vect__max_features=2000, vect__ngram_range=(1, 2), vect__norm=None;, score=0.184 total time=   0.0s\n",
      "[CV 2/5] END vect__max_features=2000, vect__ngram_range=(1, 2), vect__norm=None;, score=0.316 total time=   0.0s\n",
      "[CV 3/5] END vect__max_features=2000, vect__ngram_range=(1, 2), vect__norm=None;, score=0.368 total time=   0.0s\n",
      "[CV 4/5] END vect__max_features=2000, vect__ngram_range=(1, 2), vect__norm=None;, score=0.351 total time=   0.0s\n",
      "[CV 5/5] END vect__max_features=2000, vect__ngram_range=(1, 2), vect__norm=None;, score=0.189 total time=   0.0s\n",
      "[CV 1/5] END vect__max_features=2000, vect__ngram_range=(1, 3), vect__norm=l1;, score=0.211 total time=   0.0s\n",
      "[CV 2/5] END vect__max_features=2000, vect__ngram_range=(1, 3), vect__norm=l1;, score=0.316 total time=   0.0s\n",
      "[CV 3/5] END vect__max_features=2000, vect__ngram_range=(1, 3), vect__norm=l1;, score=0.395 total time=   0.0s\n",
      "[CV 4/5] END vect__max_features=2000, vect__ngram_range=(1, 3), vect__norm=l1;, score=0.378 total time=   0.0s\n",
      "[CV 5/5] END vect__max_features=2000, vect__ngram_range=(1, 3), vect__norm=l1;, score=0.243 total time=   0.0s\n",
      "[CV 1/5] END vect__max_features=2000, vect__ngram_range=(1, 3), vect__norm=l2;, score=0.211 total time=   0.0s\n",
      "[CV 2/5] END vect__max_features=2000, vect__ngram_range=(1, 3), vect__norm=l2;, score=0.316 total time=   0.0s\n",
      "[CV 3/5] END vect__max_features=2000, vect__ngram_range=(1, 3), vect__norm=l2;, score=0.395 total time=   0.0s\n",
      "[CV 4/5] END vect__max_features=2000, vect__ngram_range=(1, 3), vect__norm=l2;, score=0.378 total time=   0.0s\n",
      "[CV 5/5] END vect__max_features=2000, vect__ngram_range=(1, 3), vect__norm=l2;, score=0.243 total time=   0.0s\n",
      "[CV 1/5] END vect__max_features=2000, vect__ngram_range=(1, 3), vect__norm=None;, score=0.211 total time=   0.0s\n",
      "[CV 2/5] END vect__max_features=2000, vect__ngram_range=(1, 3), vect__norm=None;, score=0.316 total time=   0.0s\n",
      "[CV 3/5] END vect__max_features=2000, vect__ngram_range=(1, 3), vect__norm=None;, score=0.395 total time=   0.0s\n",
      "[CV 4/5] END vect__max_features=2000, vect__ngram_range=(1, 3), vect__norm=None;, score=0.378 total time=   0.0s\n",
      "[CV 5/5] END vect__max_features=2000, vect__ngram_range=(1, 3), vect__norm=None;, score=0.243 total time=   0.0s\n",
      "[CV 1/5] END vect__max_features=2000, vect__ngram_range=(1, 4), vect__norm=l1;, score=0.211 total time=   0.1s\n",
      "[CV 2/5] END vect__max_features=2000, vect__ngram_range=(1, 4), vect__norm=l1;, score=0.316 total time=   0.1s\n",
      "[CV 3/5] END vect__max_features=2000, vect__ngram_range=(1, 4), vect__norm=l1;, score=0.342 total time=   0.1s\n",
      "[CV 4/5] END vect__max_features=2000, vect__ngram_range=(1, 4), vect__norm=l1;, score=0.378 total time=   0.1s\n",
      "[CV 5/5] END vect__max_features=2000, vect__ngram_range=(1, 4), vect__norm=l1;, score=0.243 total time=   0.1s\n",
      "[CV 1/5] END vect__max_features=2000, vect__ngram_range=(1, 4), vect__norm=l2;, score=0.211 total time=   0.1s\n",
      "[CV 2/5] END vect__max_features=2000, vect__ngram_range=(1, 4), vect__norm=l2;, score=0.316 total time=   0.1s\n",
      "[CV 3/5] END vect__max_features=2000, vect__ngram_range=(1, 4), vect__norm=l2;, score=0.342 total time=   0.1s\n",
      "[CV 4/5] END vect__max_features=2000, vect__ngram_range=(1, 4), vect__norm=l2;, score=0.378 total time=   0.1s\n",
      "[CV 5/5] END vect__max_features=2000, vect__ngram_range=(1, 4), vect__norm=l2;, score=0.243 total time=   0.1s\n",
      "[CV 1/5] END vect__max_features=2000, vect__ngram_range=(1, 4), vect__norm=None;, score=0.211 total time=   0.1s\n",
      "[CV 2/5] END vect__max_features=2000, vect__ngram_range=(1, 4), vect__norm=None;, score=0.316 total time=   0.0s\n",
      "[CV 3/5] END vect__max_features=2000, vect__ngram_range=(1, 4), vect__norm=None;, score=0.342 total time=   0.1s\n",
      "[CV 4/5] END vect__max_features=2000, vect__ngram_range=(1, 4), vect__norm=None;, score=0.378 total time=   0.1s\n",
      "[CV 5/5] END vect__max_features=2000, vect__ngram_range=(1, 4), vect__norm=None;, score=0.243 total time=   0.1s\n",
      "[CV 1/5] END vect__max_features=2000, vect__ngram_range=(1, 5), vect__norm=l1;, score=0.211 total time=   0.1s\n",
      "[CV 2/5] END vect__max_features=2000, vect__ngram_range=(1, 5), vect__norm=l1;, score=0.316 total time=   0.1s\n",
      "[CV 3/5] END vect__max_features=2000, vect__ngram_range=(1, 5), vect__norm=l1;, score=0.368 total time=   0.1s\n",
      "[CV 4/5] END vect__max_features=2000, vect__ngram_range=(1, 5), vect__norm=l1;, score=0.405 total time=   0.1s\n",
      "[CV 5/5] END vect__max_features=2000, vect__ngram_range=(1, 5), vect__norm=l1;, score=0.243 total time=   0.1s\n",
      "[CV 1/5] END vect__max_features=2000, vect__ngram_range=(1, 5), vect__norm=l2;, score=0.211 total time=   0.1s\n",
      "[CV 2/5] END vect__max_features=2000, vect__ngram_range=(1, 5), vect__norm=l2;, score=0.316 total time=   0.1s\n",
      "[CV 3/5] END vect__max_features=2000, vect__ngram_range=(1, 5), vect__norm=l2;, score=0.368 total time=   0.1s\n",
      "[CV 4/5] END vect__max_features=2000, vect__ngram_range=(1, 5), vect__norm=l2;, score=0.405 total time=   0.1s\n",
      "[CV 5/5] END vect__max_features=2000, vect__ngram_range=(1, 5), vect__norm=l2;, score=0.243 total time=   0.1s\n",
      "[CV 1/5] END vect__max_features=2000, vect__ngram_range=(1, 5), vect__norm=None;, score=0.211 total time=   0.1s\n",
      "[CV 2/5] END vect__max_features=2000, vect__ngram_range=(1, 5), vect__norm=None;, score=0.316 total time=   0.1s\n",
      "[CV 3/5] END vect__max_features=2000, vect__ngram_range=(1, 5), vect__norm=None;, score=0.368 total time=   0.1s\n",
      "[CV 4/5] END vect__max_features=2000, vect__ngram_range=(1, 5), vect__norm=None;, score=0.405 total time=   0.1s\n",
      "[CV 5/5] END vect__max_features=2000, vect__ngram_range=(1, 5), vect__norm=None;, score=0.243 total time=   0.1s\n"
     ]
    },
    {
     "data": {
      "text/plain": "GridSearchCV(cv=5,\n             estimator=Pipeline(steps=[('vect', TfidfVectorizer()),\n                                       ('clf', BernoulliNB())]),\n             param_grid={'vect__max_features': (50, 100, 1000, 2000),\n                         'vect__ngram_range': ((1, 1), (1, 2), (1, 3), (1, 4),\n                                               (1, 5)),\n                         'vect__norm': ('l1', 'l2', None)},\n             scoring='accuracy', verbose=3)",
      "text/html": "<style>#sk-container-id-9 {\n  /* Definition of color scheme common for light and dark mode */\n  --sklearn-color-text: black;\n  --sklearn-color-line: gray;\n  /* Definition of color scheme for unfitted estimators */\n  --sklearn-color-unfitted-level-0: #fff5e6;\n  --sklearn-color-unfitted-level-1: #f6e4d2;\n  --sklearn-color-unfitted-level-2: #ffe0b3;\n  --sklearn-color-unfitted-level-3: chocolate;\n  /* Definition of color scheme for fitted estimators */\n  --sklearn-color-fitted-level-0: #f0f8ff;\n  --sklearn-color-fitted-level-1: #d4ebff;\n  --sklearn-color-fitted-level-2: #b3dbfd;\n  --sklearn-color-fitted-level-3: cornflowerblue;\n\n  /* Specific color for light theme */\n  --sklearn-color-text-on-default-background: var(--sg-text-color, var(--theme-code-foreground, var(--jp-content-font-color1, black)));\n  --sklearn-color-background: var(--sg-background-color, var(--theme-background, var(--jp-layout-color0, white)));\n  --sklearn-color-border-box: var(--sg-text-color, var(--theme-code-foreground, var(--jp-content-font-color1, black)));\n  --sklearn-color-icon: #696969;\n\n  @media (prefers-color-scheme: dark) {\n    /* Redefinition of color scheme for dark theme */\n    --sklearn-color-text-on-default-background: var(--sg-text-color, var(--theme-code-foreground, var(--jp-content-font-color1, white)));\n    --sklearn-color-background: var(--sg-background-color, var(--theme-background, var(--jp-layout-color0, #111)));\n    --sklearn-color-border-box: var(--sg-text-color, var(--theme-code-foreground, var(--jp-content-font-color1, white)));\n    --sklearn-color-icon: #878787;\n  }\n}\n\n#sk-container-id-9 {\n  color: var(--sklearn-color-text);\n}\n\n#sk-container-id-9 pre {\n  padding: 0;\n}\n\n#sk-container-id-9 input.sk-hidden--visually {\n  border: 0;\n  clip: rect(1px 1px 1px 1px);\n  clip: rect(1px, 1px, 1px, 1px);\n  height: 1px;\n  margin: -1px;\n  overflow: hidden;\n  padding: 0;\n  position: absolute;\n  width: 1px;\n}\n\n#sk-container-id-9 div.sk-dashed-wrapped {\n  border: 1px dashed var(--sklearn-color-line);\n  margin: 0 0.4em 0.5em 0.4em;\n  box-sizing: border-box;\n  padding-bottom: 0.4em;\n  background-color: var(--sklearn-color-background);\n}\n\n#sk-container-id-9 div.sk-container {\n  /* jupyter's `normalize.less` sets `[hidden] { display: none; }`\n     but bootstrap.min.css set `[hidden] { display: none !important; }`\n     so we also need the `!important` here to be able to override the\n     default hidden behavior on the sphinx rendered scikit-learn.org.\n     See: https://github.com/scikit-learn/scikit-learn/issues/21755 */\n  display: inline-block !important;\n  position: relative;\n}\n\n#sk-container-id-9 div.sk-text-repr-fallback {\n  display: none;\n}\n\ndiv.sk-parallel-item,\ndiv.sk-serial,\ndiv.sk-item {\n  /* draw centered vertical line to link estimators */\n  background-image: linear-gradient(var(--sklearn-color-text-on-default-background), var(--sklearn-color-text-on-default-background));\n  background-size: 2px 100%;\n  background-repeat: no-repeat;\n  background-position: center center;\n}\n\n/* Parallel-specific style estimator block */\n\n#sk-container-id-9 div.sk-parallel-item::after {\n  content: \"\";\n  width: 100%;\n  border-bottom: 2px solid var(--sklearn-color-text-on-default-background);\n  flex-grow: 1;\n}\n\n#sk-container-id-9 div.sk-parallel {\n  display: flex;\n  align-items: stretch;\n  justify-content: center;\n  background-color: var(--sklearn-color-background);\n  position: relative;\n}\n\n#sk-container-id-9 div.sk-parallel-item {\n  display: flex;\n  flex-direction: column;\n}\n\n#sk-container-id-9 div.sk-parallel-item:first-child::after {\n  align-self: flex-end;\n  width: 50%;\n}\n\n#sk-container-id-9 div.sk-parallel-item:last-child::after {\n  align-self: flex-start;\n  width: 50%;\n}\n\n#sk-container-id-9 div.sk-parallel-item:only-child::after {\n  width: 0;\n}\n\n/* Serial-specific style estimator block */\n\n#sk-container-id-9 div.sk-serial {\n  display: flex;\n  flex-direction: column;\n  align-items: center;\n  background-color: var(--sklearn-color-background);\n  padding-right: 1em;\n  padding-left: 1em;\n}\n\n\n/* Toggleable style: style used for estimator/Pipeline/ColumnTransformer box that is\nclickable and can be expanded/collapsed.\n- Pipeline and ColumnTransformer use this feature and define the default style\n- Estimators will overwrite some part of the style using the `sk-estimator` class\n*/\n\n/* Pipeline and ColumnTransformer style (default) */\n\n#sk-container-id-9 div.sk-toggleable {\n  /* Default theme specific background. It is overwritten whether we have a\n  specific estimator or a Pipeline/ColumnTransformer */\n  background-color: var(--sklearn-color-background);\n}\n\n/* Toggleable label */\n#sk-container-id-9 label.sk-toggleable__label {\n  cursor: pointer;\n  display: block;\n  width: 100%;\n  margin-bottom: 0;\n  padding: 0.5em;\n  box-sizing: border-box;\n  text-align: center;\n}\n\n#sk-container-id-9 label.sk-toggleable__label-arrow:before {\n  /* Arrow on the left of the label */\n  content: \"▸\";\n  float: left;\n  margin-right: 0.25em;\n  color: var(--sklearn-color-icon);\n}\n\n#sk-container-id-9 label.sk-toggleable__label-arrow:hover:before {\n  color: var(--sklearn-color-text);\n}\n\n/* Toggleable content - dropdown */\n\n#sk-container-id-9 div.sk-toggleable__content {\n  max-height: 0;\n  max-width: 0;\n  overflow: hidden;\n  text-align: left;\n  /* unfitted */\n  background-color: var(--sklearn-color-unfitted-level-0);\n}\n\n#sk-container-id-9 div.sk-toggleable__content.fitted {\n  /* fitted */\n  background-color: var(--sklearn-color-fitted-level-0);\n}\n\n#sk-container-id-9 div.sk-toggleable__content pre {\n  margin: 0.2em;\n  border-radius: 0.25em;\n  color: var(--sklearn-color-text);\n  /* unfitted */\n  background-color: var(--sklearn-color-unfitted-level-0);\n}\n\n#sk-container-id-9 div.sk-toggleable__content.fitted pre {\n  /* unfitted */\n  background-color: var(--sklearn-color-fitted-level-0);\n}\n\n#sk-container-id-9 input.sk-toggleable__control:checked~div.sk-toggleable__content {\n  /* Expand drop-down */\n  max-height: 200px;\n  max-width: 100%;\n  overflow: auto;\n}\n\n#sk-container-id-9 input.sk-toggleable__control:checked~label.sk-toggleable__label-arrow:before {\n  content: \"▾\";\n}\n\n/* Pipeline/ColumnTransformer-specific style */\n\n#sk-container-id-9 div.sk-label input.sk-toggleable__control:checked~label.sk-toggleable__label {\n  color: var(--sklearn-color-text);\n  background-color: var(--sklearn-color-unfitted-level-2);\n}\n\n#sk-container-id-9 div.sk-label.fitted input.sk-toggleable__control:checked~label.sk-toggleable__label {\n  background-color: var(--sklearn-color-fitted-level-2);\n}\n\n/* Estimator-specific style */\n\n/* Colorize estimator box */\n#sk-container-id-9 div.sk-estimator input.sk-toggleable__control:checked~label.sk-toggleable__label {\n  /* unfitted */\n  background-color: var(--sklearn-color-unfitted-level-2);\n}\n\n#sk-container-id-9 div.sk-estimator.fitted input.sk-toggleable__control:checked~label.sk-toggleable__label {\n  /* fitted */\n  background-color: var(--sklearn-color-fitted-level-2);\n}\n\n#sk-container-id-9 div.sk-label label.sk-toggleable__label,\n#sk-container-id-9 div.sk-label label {\n  /* The background is the default theme color */\n  color: var(--sklearn-color-text-on-default-background);\n}\n\n/* On hover, darken the color of the background */\n#sk-container-id-9 div.sk-label:hover label.sk-toggleable__label {\n  color: var(--sklearn-color-text);\n  background-color: var(--sklearn-color-unfitted-level-2);\n}\n\n/* Label box, darken color on hover, fitted */\n#sk-container-id-9 div.sk-label.fitted:hover label.sk-toggleable__label.fitted {\n  color: var(--sklearn-color-text);\n  background-color: var(--sklearn-color-fitted-level-2);\n}\n\n/* Estimator label */\n\n#sk-container-id-9 div.sk-label label {\n  font-family: monospace;\n  font-weight: bold;\n  display: inline-block;\n  line-height: 1.2em;\n}\n\n#sk-container-id-9 div.sk-label-container {\n  text-align: center;\n}\n\n/* Estimator-specific */\n#sk-container-id-9 div.sk-estimator {\n  font-family: monospace;\n  border: 1px dotted var(--sklearn-color-border-box);\n  border-radius: 0.25em;\n  box-sizing: border-box;\n  margin-bottom: 0.5em;\n  /* unfitted */\n  background-color: var(--sklearn-color-unfitted-level-0);\n}\n\n#sk-container-id-9 div.sk-estimator.fitted {\n  /* fitted */\n  background-color: var(--sklearn-color-fitted-level-0);\n}\n\n/* on hover */\n#sk-container-id-9 div.sk-estimator:hover {\n  /* unfitted */\n  background-color: var(--sklearn-color-unfitted-level-2);\n}\n\n#sk-container-id-9 div.sk-estimator.fitted:hover {\n  /* fitted */\n  background-color: var(--sklearn-color-fitted-level-2);\n}\n\n/* Specification for estimator info (e.g. \"i\" and \"?\") */\n\n/* Common style for \"i\" and \"?\" */\n\n.sk-estimator-doc-link,\na:link.sk-estimator-doc-link,\na:visited.sk-estimator-doc-link {\n  float: right;\n  font-size: smaller;\n  line-height: 1em;\n  font-family: monospace;\n  background-color: var(--sklearn-color-background);\n  border-radius: 1em;\n  height: 1em;\n  width: 1em;\n  text-decoration: none !important;\n  margin-left: 1ex;\n  /* unfitted */\n  border: var(--sklearn-color-unfitted-level-1) 1pt solid;\n  color: var(--sklearn-color-unfitted-level-1);\n}\n\n.sk-estimator-doc-link.fitted,\na:link.sk-estimator-doc-link.fitted,\na:visited.sk-estimator-doc-link.fitted {\n  /* fitted */\n  border: var(--sklearn-color-fitted-level-1) 1pt solid;\n  color: var(--sklearn-color-fitted-level-1);\n}\n\n/* On hover */\ndiv.sk-estimator:hover .sk-estimator-doc-link:hover,\n.sk-estimator-doc-link:hover,\ndiv.sk-label-container:hover .sk-estimator-doc-link:hover,\n.sk-estimator-doc-link:hover {\n  /* unfitted */\n  background-color: var(--sklearn-color-unfitted-level-3);\n  color: var(--sklearn-color-background);\n  text-decoration: none;\n}\n\ndiv.sk-estimator.fitted:hover .sk-estimator-doc-link.fitted:hover,\n.sk-estimator-doc-link.fitted:hover,\ndiv.sk-label-container:hover .sk-estimator-doc-link.fitted:hover,\n.sk-estimator-doc-link.fitted:hover {\n  /* fitted */\n  background-color: var(--sklearn-color-fitted-level-3);\n  color: var(--sklearn-color-background);\n  text-decoration: none;\n}\n\n/* Span, style for the box shown on hovering the info icon */\n.sk-estimator-doc-link span {\n  display: none;\n  z-index: 9999;\n  position: relative;\n  font-weight: normal;\n  right: .2ex;\n  padding: .5ex;\n  margin: .5ex;\n  width: min-content;\n  min-width: 20ex;\n  max-width: 50ex;\n  color: var(--sklearn-color-text);\n  box-shadow: 2pt 2pt 4pt #999;\n  /* unfitted */\n  background: var(--sklearn-color-unfitted-level-0);\n  border: .5pt solid var(--sklearn-color-unfitted-level-3);\n}\n\n.sk-estimator-doc-link.fitted span {\n  /* fitted */\n  background: var(--sklearn-color-fitted-level-0);\n  border: var(--sklearn-color-fitted-level-3);\n}\n\n.sk-estimator-doc-link:hover span {\n  display: block;\n}\n\n/* \"?\"-specific style due to the `<a>` HTML tag */\n\n#sk-container-id-9 a.estimator_doc_link {\n  float: right;\n  font-size: 1rem;\n  line-height: 1em;\n  font-family: monospace;\n  background-color: var(--sklearn-color-background);\n  border-radius: 1rem;\n  height: 1rem;\n  width: 1rem;\n  text-decoration: none;\n  /* unfitted */\n  color: var(--sklearn-color-unfitted-level-1);\n  border: var(--sklearn-color-unfitted-level-1) 1pt solid;\n}\n\n#sk-container-id-9 a.estimator_doc_link.fitted {\n  /* fitted */\n  border: var(--sklearn-color-fitted-level-1) 1pt solid;\n  color: var(--sklearn-color-fitted-level-1);\n}\n\n/* On hover */\n#sk-container-id-9 a.estimator_doc_link:hover {\n  /* unfitted */\n  background-color: var(--sklearn-color-unfitted-level-3);\n  color: var(--sklearn-color-background);\n  text-decoration: none;\n}\n\n#sk-container-id-9 a.estimator_doc_link.fitted:hover {\n  /* fitted */\n  background-color: var(--sklearn-color-fitted-level-3);\n}\n</style><div id=\"sk-container-id-9\" class=\"sk-top-container\"><div class=\"sk-text-repr-fallback\"><pre>GridSearchCV(cv=5,\n             estimator=Pipeline(steps=[(&#x27;vect&#x27;, TfidfVectorizer()),\n                                       (&#x27;clf&#x27;, BernoulliNB())]),\n             param_grid={&#x27;vect__max_features&#x27;: (50, 100, 1000, 2000),\n                         &#x27;vect__ngram_range&#x27;: ((1, 1), (1, 2), (1, 3), (1, 4),\n                                               (1, 5)),\n                         &#x27;vect__norm&#x27;: (&#x27;l1&#x27;, &#x27;l2&#x27;, None)},\n             scoring=&#x27;accuracy&#x27;, verbose=3)</pre><b>In a Jupyter environment, please rerun this cell to show the HTML representation or trust the notebook. <br />On GitHub, the HTML representation is unable to render, please try loading this page with nbviewer.org.</b></div><div class=\"sk-container\" hidden><div class=\"sk-item sk-dashed-wrapped\"><div class=\"sk-label-container\"><div class=\"sk-label fitted sk-toggleable\"><input class=\"sk-toggleable__control sk-hidden--visually\" id=\"sk-estimator-id-12\" type=\"checkbox\" ><label for=\"sk-estimator-id-12\" class=\"sk-toggleable__label fitted sk-toggleable__label-arrow fitted\">&nbsp;&nbsp;GridSearchCV<a class=\"sk-estimator-doc-link fitted\" rel=\"noreferrer\" target=\"_blank\" href=\"https://scikit-learn.org/1.4/modules/generated/sklearn.model_selection.GridSearchCV.html\">?<span>Documentation for GridSearchCV</span></a><span class=\"sk-estimator-doc-link fitted\">i<span>Fitted</span></span></label><div class=\"sk-toggleable__content fitted\"><pre>GridSearchCV(cv=5,\n             estimator=Pipeline(steps=[(&#x27;vect&#x27;, TfidfVectorizer()),\n                                       (&#x27;clf&#x27;, BernoulliNB())]),\n             param_grid={&#x27;vect__max_features&#x27;: (50, 100, 1000, 2000),\n                         &#x27;vect__ngram_range&#x27;: ((1, 1), (1, 2), (1, 3), (1, 4),\n                                               (1, 5)),\n                         &#x27;vect__norm&#x27;: (&#x27;l1&#x27;, &#x27;l2&#x27;, None)},\n             scoring=&#x27;accuracy&#x27;, verbose=3)</pre></div> </div></div><div class=\"sk-parallel\"><div class=\"sk-parallel-item\"><div class=\"sk-item\"><div class=\"sk-label-container\"><div class=\"sk-label fitted sk-toggleable\"><input class=\"sk-toggleable__control sk-hidden--visually\" id=\"sk-estimator-id-13\" type=\"checkbox\" ><label for=\"sk-estimator-id-13\" class=\"sk-toggleable__label fitted sk-toggleable__label-arrow fitted\">estimator: Pipeline</label><div class=\"sk-toggleable__content fitted\"><pre>Pipeline(steps=[(&#x27;vect&#x27;, TfidfVectorizer()), (&#x27;clf&#x27;, BernoulliNB())])</pre></div> </div></div><div class=\"sk-serial\"><div class=\"sk-item\"><div class=\"sk-serial\"><div class=\"sk-item\"><div class=\"sk-estimator fitted sk-toggleable\"><input class=\"sk-toggleable__control sk-hidden--visually\" id=\"sk-estimator-id-14\" type=\"checkbox\" ><label for=\"sk-estimator-id-14\" class=\"sk-toggleable__label fitted sk-toggleable__label-arrow fitted\">&nbsp;TfidfVectorizer<a class=\"sk-estimator-doc-link fitted\" rel=\"noreferrer\" target=\"_blank\" href=\"https://scikit-learn.org/1.4/modules/generated/sklearn.feature_extraction.text.TfidfVectorizer.html\">?<span>Documentation for TfidfVectorizer</span></a></label><div class=\"sk-toggleable__content fitted\"><pre>TfidfVectorizer()</pre></div> </div></div><div class=\"sk-item\"><div class=\"sk-estimator fitted sk-toggleable\"><input class=\"sk-toggleable__control sk-hidden--visually\" id=\"sk-estimator-id-15\" type=\"checkbox\" ><label for=\"sk-estimator-id-15\" class=\"sk-toggleable__label fitted sk-toggleable__label-arrow fitted\">&nbsp;BernoulliNB<a class=\"sk-estimator-doc-link fitted\" rel=\"noreferrer\" target=\"_blank\" href=\"https://scikit-learn.org/1.4/modules/generated/sklearn.naive_bayes.BernoulliNB.html\">?<span>Documentation for BernoulliNB</span></a></label><div class=\"sk-toggleable__content fitted\"><pre>BernoulliNB()</pre></div> </div></div></div></div></div></div></div></div></div></div></div>"
     },
     "execution_count": 154,
     "metadata": {},
     "output_type": "execute_result"
    }
   ],
   "source": [
    "grid_search = GridSearchCV(train_pipeline, param_grid=param_grid, verbose=3, scoring='accuracy', cv=5)\n",
    "grid_search.fit(X, Y)"
   ],
   "metadata": {
    "collapsed": false,
    "ExecuteTime": {
     "end_time": "2024-02-17T11:40:46.148208600Z",
     "start_time": "2024-02-17T11:40:11.356568600Z"
    }
   },
   "id": "17e95a90cf61c5c6",
   "execution_count": 154
  },
  {
   "cell_type": "code",
   "outputs": [
    {
     "name": "stdout",
     "output_type": "stream",
     "text": [
      "Accuracy 0.42574679943101 \n",
      "Params {'vect__max_features': 1000, 'vect__ngram_range': (1, 3), 'vect__norm': 'l1'}\n"
     ]
    }
   ],
   "source": [
    "print(\"Accuracy\", grid_search.best_score_, \"\\nParams\", grid_search.best_params_)"
   ],
   "metadata": {
    "collapsed": false,
    "ExecuteTime": {
     "end_time": "2024-02-17T11:40:46.149212100Z",
     "start_time": "2024-02-17T11:40:46.146762100Z"
    }
   },
   "id": "6f0ec3507cf144d5",
   "execution_count": 155
  }
 ],
 "metadata": {
  "kernelspec": {
   "display_name": "Python 3",
   "language": "python",
   "name": "python3"
  },
  "language_info": {
   "codemirror_mode": {
    "name": "ipython",
    "version": 2
   },
   "file_extension": ".py",
   "mimetype": "text/x-python",
   "name": "python",
   "nbconvert_exporter": "python",
   "pygments_lexer": "ipython2",
   "version": "2.7.6"
  }
 },
 "nbformat": 4,
 "nbformat_minor": 5
}
