{
 "cells": [
  {
   "cell_type": "code",
   "outputs": [],
   "source": [
    "VAR = {\n",
    "    'max_len': 512,\n",
    "    'batch_size': 16\n",
    "}"
   ],
   "metadata": {
    "collapsed": false,
    "ExecuteTime": {
     "end_time": "2024-02-17T15:23:23.380417Z",
     "start_time": "2024-02-17T15:23:23.361977400Z"
    }
   },
   "id": "bfd2aed3b089c3cd",
   "execution_count": 1
  },
  {
   "cell_type": "code",
   "outputs": [
    {
     "name": "stderr",
     "output_type": "stream",
     "text": [
      "C:\\Users\\JS\\AppData\\Local\\Temp\\ipykernel_42680\\4211774795.py:2: DeprecationWarning: \n",
      "Pyarrow will become a required dependency of pandas in the next major release of pandas (pandas 3.0),\n",
      "(to allow more performant data types, such as the Arrow string type, and better interoperability with other libraries)\n",
      "but was not found to be installed on your system.\n",
      "If this would cause problems for you,\n",
      "please provide us feedback at https://github.com/pandas-dev/pandas/issues/54466\n",
      "        \n",
      "  import pandas\n"
     ]
    },
    {
     "name": "stdout",
     "output_type": "stream",
     "text": [
      "WARNING:tensorflow:From C:\\Users\\JS\\anaconda3\\envs\\NLPProjectVenv\\Lib\\site-packages\\keras\\src\\losses.py:2976: The name tf.losses.sparse_softmax_cross_entropy is deprecated. Please use tf.compat.v1.losses.sparse_softmax_cross_entropy instead.\n"
     ]
    }
   ],
   "source": [
    "import numpy\n",
    "import pandas\n",
    "import torch\n",
    "import torch.nn as nn\n",
    "from transformers import BertTokenizer, AdamW, BertForSequenceClassification\n",
    "from keras.preprocessing.sequence import pad_sequences\n",
    "from sklearn.model_selection import train_test_split\n",
    "from sklearn.preprocessing import LabelEncoder\n",
    "from torch.utils.data import TensorDataset, DataLoader, RandomSampler, SequentialSampler"
   ],
   "metadata": {
    "collapsed": false,
    "ExecuteTime": {
     "end_time": "2024-02-17T15:23:27.889728600Z",
     "start_time": "2024-02-17T15:23:23.365908Z"
    }
   },
   "id": "5754cad4179ffa39",
   "execution_count": 2
  },
  {
   "cell_type": "markdown",
   "source": [
    "# Classification Task: Initiating Data"
   ],
   "metadata": {
    "collapsed": false
   },
   "id": "4bdcc74464b9a543"
  },
  {
   "cell_type": "code",
   "outputs": [
    {
     "name": "stderr",
     "output_type": "stream",
     "text": [
      "[nltk_data] Downloading package averaged_perceptron_tagger to\n",
      "[nltk_data]     C:\\Users\\JS\\AppData\\Roaming\\nltk_data...\n",
      "[nltk_data]   Package averaged_perceptron_tagger is already up-to-\n",
      "[nltk_data]       date!\n",
      "[nltk_data] Downloading package maxent_ne_chunker to\n",
      "[nltk_data]     C:\\Users\\JS\\AppData\\Roaming\\nltk_data...\n",
      "[nltk_data]   Package maxent_ne_chunker is already up-to-date!\n",
      "[nltk_data] Downloading package words to\n",
      "[nltk_data]     C:\\Users\\JS\\AppData\\Roaming\\nltk_data...\n",
      "[nltk_data]   Package words is already up-to-date!\n",
      "[nltk_data] Downloading package wordnet to\n",
      "[nltk_data]     C:\\Users\\JS\\AppData\\Roaming\\nltk_data...\n",
      "[nltk_data]   Package wordnet is already up-to-date!\n",
      "[nltk_data] Downloading package stopwords to\n",
      "[nltk_data]     C:\\Users\\JS\\AppData\\Roaming\\nltk_data...\n",
      "[nltk_data]   Package stopwords is already up-to-date!\n"
     ]
    }
   ],
   "source": [
    "from preprocessing_NLP import pipeline\n",
    "\n",
    "resume_df = pipeline('UpdatedResumeDataSet_T1_7.csv', feature_name='Resume')\n",
    "resume_df = resume_df.reset_index(drop=True)\n",
    "\n",
    "device = torch.device(\"cuda\" if torch.cuda.is_available() else \"cpu\")"
   ],
   "metadata": {
    "collapsed": false,
    "ExecuteTime": {
     "end_time": "2024-02-17T15:23:36.766202500Z",
     "start_time": "2024-02-17T15:23:27.890728500Z"
    }
   },
   "id": "c4fcb571da36c413",
   "execution_count": 3
  },
  {
   "cell_type": "code",
   "outputs": [],
   "source": [
    "def split_into_sub_length(resume: str, max_len=128):\n",
    "    # Ensures all words are tokenized and analyzed;  Due to keras pad_sequences()\n",
    "    resume_list = resume.split()\n",
    "    \n",
    "    resume_length = len(resume_list)\n",
    "    \n",
    "    splits = resume_length // max_len\n",
    "    remaining_splits = resume_length % max_len\n",
    "    \n",
    "    resume_at_max_len = []\n",
    "\n",
    "    for i in range(splits):\n",
    "        resume_section = ' '.join(resume_list[i*max_len: (i+1)*max_len])\n",
    "        # print(resume_list[i*max_len: (i+1)*max_len])\n",
    "        resume_at_max_len.append(resume_section)\n",
    "        \n",
    "    final_section = ' '.join(resume_list[-1-remaining_splits:-1])\n",
    "    resume_at_max_len.append(final_section)\n",
    "    \n",
    "    return resume_at_max_len"
   ],
   "metadata": {
    "collapsed": false,
    "ExecuteTime": {
     "end_time": "2024-02-17T15:23:36.772526600Z",
     "start_time": "2024-02-17T15:23:36.768274100Z"
    }
   },
   "id": "e2aeb3a64100666",
   "execution_count": 4
  },
  {
   "cell_type": "code",
   "outputs": [
    {
     "data": {
      "text/plain": "0      [qwtnrvduof education detail may 2013 may 2017...\n1      [qwtnrvduof area interest deep learn control s...\n2      [skill r python sap hana tableau sap hana sql ...\n3      [education detail mca ymcaust faridabad haryan...\n4      [skill c basic iot python matlab data science ...\n                             ...                        \n183    [skill set o window xp 7 8 8bntgbqlmkk1 10 dat...\n184    [good logical analytical skill positive attitu...\n185    [personal skill quick learner eagerness learn ...\n186    [core skill project program management agile s...\n187    [education detail february 2006 february 2006 ...\nName: Resume, Length: 188, dtype: object"
     },
     "execution_count": 5,
     "metadata": {},
     "output_type": "execute_result"
    }
   ],
   "source": [
    "resume_df['Resume'] = resume_df['Resume'].apply(split_into_sub_length)\n",
    "resume_df['Resume']"
   ],
   "metadata": {
    "collapsed": false,
    "ExecuteTime": {
     "end_time": "2024-02-17T15:23:36.781186Z",
     "start_time": "2024-02-17T15:23:36.771528500Z"
    }
   },
   "id": "ecc91aaaa708a270",
   "execution_count": 5
  },
  {
   "cell_type": "code",
   "outputs": [
    {
     "data": {
      "text/plain": "             Category                                             Resume\n0        Data Science  qwtnrvduof education detail may 2013 may 2017 ...\n0        Data Science                   mixed attribute company matelabs\n1        Data Science  qwtnrvduof area interest deep learn control sy...\n1        Data Science  year month mathematics exprience less 1 year m...\n2        Data Science  skill r python sap hana tableau sap hana sql s...\n..                ...                                                ...\n186   DevOps Engineer  various type test like system regression sanit...\n186   DevOps Engineer  transition drill session forward reverse shado...\n186   DevOps Engineer  action plan team prepare implement business co...\n187  Business Analyst  education detail february 2006 february 2006 t...\n187  Business Analyst  manager sriqmadshiyn manger responsibility han...\n\n[520 rows x 2 columns]",
      "text/html": "<div>\n<style scoped>\n    .dataframe tbody tr th:only-of-type {\n        vertical-align: middle;\n    }\n\n    .dataframe tbody tr th {\n        vertical-align: top;\n    }\n\n    .dataframe thead th {\n        text-align: right;\n    }\n</style>\n<table border=\"1\" class=\"dataframe\">\n  <thead>\n    <tr style=\"text-align: right;\">\n      <th></th>\n      <th>Category</th>\n      <th>Resume</th>\n    </tr>\n  </thead>\n  <tbody>\n    <tr>\n      <th>0</th>\n      <td>Data Science</td>\n      <td>qwtnrvduof education detail may 2013 may 2017 ...</td>\n    </tr>\n    <tr>\n      <th>0</th>\n      <td>Data Science</td>\n      <td>mixed attribute company matelabs</td>\n    </tr>\n    <tr>\n      <th>1</th>\n      <td>Data Science</td>\n      <td>qwtnrvduof area interest deep learn control sy...</td>\n    </tr>\n    <tr>\n      <th>1</th>\n      <td>Data Science</td>\n      <td>year month mathematics exprience less 1 year m...</td>\n    </tr>\n    <tr>\n      <th>2</th>\n      <td>Data Science</td>\n      <td>skill r python sap hana tableau sap hana sql s...</td>\n    </tr>\n    <tr>\n      <th>...</th>\n      <td>...</td>\n      <td>...</td>\n    </tr>\n    <tr>\n      <th>186</th>\n      <td>DevOps Engineer</td>\n      <td>various type test like system regression sanit...</td>\n    </tr>\n    <tr>\n      <th>186</th>\n      <td>DevOps Engineer</td>\n      <td>transition drill session forward reverse shado...</td>\n    </tr>\n    <tr>\n      <th>186</th>\n      <td>DevOps Engineer</td>\n      <td>action plan team prepare implement business co...</td>\n    </tr>\n    <tr>\n      <th>187</th>\n      <td>Business Analyst</td>\n      <td>education detail february 2006 february 2006 t...</td>\n    </tr>\n    <tr>\n      <th>187</th>\n      <td>Business Analyst</td>\n      <td>manager sriqmadshiyn manger responsibility han...</td>\n    </tr>\n  </tbody>\n</table>\n<p>520 rows × 2 columns</p>\n</div>"
     },
     "execution_count": 6,
     "metadata": {},
     "output_type": "execute_result"
    }
   ],
   "source": [
    "resume_df = resume_df.explode('Resume')\n",
    "resume_df"
   ],
   "metadata": {
    "collapsed": false,
    "ExecuteTime": {
     "end_time": "2024-02-17T15:23:36.793829300Z",
     "start_time": "2024-02-17T15:23:36.782185800Z"
    }
   },
   "id": "b84583baa367d2c8",
   "execution_count": 6
  },
  {
   "cell_type": "code",
   "outputs": [
    {
     "data": {
      "text/plain": "str"
     },
     "execution_count": 7,
     "metadata": {},
     "output_type": "execute_result"
    }
   ],
   "source": [
    "type(resume_df['Category'].iloc[0])"
   ],
   "metadata": {
    "collapsed": false,
    "ExecuteTime": {
     "end_time": "2024-02-17T15:23:36.795335700Z",
     "start_time": "2024-02-17T15:23:36.791982500Z"
    }
   },
   "id": "5c8a4fc552d2e32",
   "execution_count": 7
  },
  {
   "cell_type": "code",
   "outputs": [],
   "source": [
    "encoder = LabelEncoder()"
   ],
   "metadata": {
    "collapsed": false,
    "ExecuteTime": {
     "end_time": "2024-02-17T15:23:36.803930400Z",
     "start_time": "2024-02-17T15:23:36.796337200Z"
    }
   },
   "id": "400fc2cad34a0507",
   "execution_count": 8
  },
  {
   "cell_type": "code",
   "outputs": [],
   "source": [
    "resume_df['Category'] = encoder.fit_transform(resume_df['Category'])\n",
    "resume_df['Category'] = resume_df['Category'].astype(numpy.int64)"
   ],
   "metadata": {
    "collapsed": false,
    "ExecuteTime": {
     "end_time": "2024-02-17T15:23:36.803930400Z",
     "start_time": "2024-02-17T15:23:36.798441300Z"
    }
   },
   "id": "8e0163d8e40ed2bc",
   "execution_count": 9
  },
  {
   "cell_type": "code",
   "outputs": [
    {
     "data": {
      "text/plain": "numpy.int64"
     },
     "execution_count": 10,
     "metadata": {},
     "output_type": "execute_result"
    }
   ],
   "source": [
    "type(resume_df['Category'].iloc[0])"
   ],
   "metadata": {
    "collapsed": false,
    "ExecuteTime": {
     "end_time": "2024-02-17T15:23:36.811376400Z",
     "start_time": "2024-02-17T15:23:36.802930800Z"
    }
   },
   "id": "e11bbbbfcb2ccf",
   "execution_count": 10
  },
  {
   "cell_type": "code",
   "outputs": [
    {
     "data": {
      "text/plain": "41"
     },
     "execution_count": 11,
     "metadata": {},
     "output_type": "execute_result"
    }
   ],
   "source": [
    "resume_df['Category'].value_counts().max()"
   ],
   "metadata": {
    "collapsed": false,
    "ExecuteTime": {
     "end_time": "2024-02-17T15:23:36.812376400Z",
     "start_time": "2024-02-17T15:23:36.806962800Z"
    }
   },
   "id": "2cc985a272acc3ac",
   "execution_count": 11
  },
  {
   "cell_type": "code",
   "outputs": [],
   "source": [
    "import random\n",
    "\n",
    "# minimum = resume_df['Category'].value_counts().max()\n",
    "minimum = 0\n",
    "current_lowest = resume_df['Category'].value_counts().min()\n",
    "\n",
    "#Check\n",
    "count = resume_df['Category'].value_counts()\n",
    "remaining = 7 - count[count<minimum]\n",
    "\n",
    "while len(remaining != 0):\n",
    "    count = resume_df['Category'].value_counts()\n",
    "    remaining = 7 - count[count<minimum]\n",
    "\n",
    "    for category in remaining.index:\n",
    "        someInt = random.randint(0, current_lowest-1)\n",
    "        value_to_append = resume_df[\n",
    "            resume_df['Category']==category\n",
    "            ]['Resume'].values[someInt]\n",
    "\n",
    "\n",
    "        df_to_concat = pandas.DataFrame({\n",
    "            'Category': [category],\n",
    "            'Resume': [value_to_append]\n",
    "        })\n",
    "\n",
    "        resume_df = pandas.concat([resume_df, df_to_concat], axis=0)"
   ],
   "metadata": {
    "collapsed": false,
    "ExecuteTime": {
     "end_time": "2024-02-17T15:23:36.838183900Z",
     "start_time": "2024-02-17T15:23:36.811376400Z"
    }
   },
   "id": "c99a26a2dd5ba6d8",
   "execution_count": 12
  },
  {
   "cell_type": "code",
   "outputs": [
    {
     "data": {
      "text/plain": "Category\n7     41\n18    39\n6     35\n8     31\n15    27\n4     27\n13    25\n2     25\n21    23\n9     22\n17    21\n5     18\n10    17\n12    16\n19    16\n1     15\n11    15\n16    15\n0     14\n23    14\n14    14\n20    14\n3     13\n24    12\n22    11\nName: count, dtype: int64"
     },
     "execution_count": 13,
     "metadata": {},
     "output_type": "execute_result"
    }
   ],
   "source": [
    "resume_df['Category'].value_counts()"
   ],
   "metadata": {
    "collapsed": false,
    "ExecuteTime": {
     "end_time": "2024-02-17T15:23:36.848722300Z",
     "start_time": "2024-02-17T15:23:36.816243600Z"
    }
   },
   "id": "57e00629fa47967e",
   "execution_count": 13
  },
  {
   "cell_type": "code",
   "outputs": [],
   "source": [
    "resumes = resume_df.Resume.values\n",
    "resumes = [\"[CLS] \" + resume + \" [SEP]\" for resume in resumes]\n",
    "labels = resume_df.Category.values\n",
    "\n",
    "tokenizer = BertTokenizer.from_pretrained('bert-base-uncased')\n",
    "tokenized_texts = [tokenizer.tokenize(resume) for resume in resumes]\n",
    "\n",
    "input_ids = [tokenizer.convert_tokens_to_ids(x) for x in tokenized_texts]\n",
    "input_ids = pad_sequences(input_ids, maxlen=VAR['max_len'], dtype=\"long\", truncating=\"post\", padding=\"post\")\n",
    "\n",
    "attention_masks = []\n",
    "for sequence in input_ids:\n",
    "    sequence_mask = [float(id > 0) for id in sequence]\n",
    "    attention_masks.append(sequence_mask)"
   ],
   "metadata": {
    "collapsed": false,
    "ExecuteTime": {
     "end_time": "2024-02-17T15:23:37.971078800Z",
     "start_time": "2024-02-17T15:23:36.822166800Z"
    }
   },
   "id": "a3006610ca4fe1d4",
   "execution_count": 14
  },
  {
   "cell_type": "code",
   "outputs": [],
   "source": [
    "training_inputs, validation_test_inputs, training_labels, validation_test_labels, training_masks, validation_test_masks = train_test_split(\n",
    "    input_ids, labels, attention_masks,\n",
    "    random_state=42, test_size=0.3\n",
    ")\n",
    "\n",
    "validation_inputs, testing_inputs, validation_labels, testing_labels, validation_masks, testing_masks = train_test_split(\n",
    "    validation_test_inputs, validation_test_labels, validation_test_masks, random_state=42, test_size=0.3\n",
    ")\n",
    "\n",
    "training_data = TensorDataset(torch.tensor(training_inputs), torch.tensor(training_masks), torch.tensor(training_labels))\n",
    "training_sampler = RandomSampler(training_data)\n",
    "training_dataloader = DataLoader(training_data, sampler=training_sampler, batch_size=VAR['batch_size'])\n",
    "\n",
    "validation_data = TensorDataset(torch.tensor(validation_inputs), torch.tensor(validation_masks), torch.tensor(validation_labels))\n",
    "validation_sampler = SequentialSampler(validation_data)\n",
    "validation_dataloader = DataLoader(validation_data, sampler=validation_sampler, batch_size=VAR['batch_size'])\n"
   ],
   "metadata": {
    "collapsed": false,
    "ExecuteTime": {
     "end_time": "2024-02-17T15:23:38.002496800Z",
     "start_time": "2024-02-17T15:23:37.972080Z"
    }
   },
   "id": "658924c0d6ad7318",
   "execution_count": 15
  },
  {
   "cell_type": "code",
   "outputs": [
    {
     "name": "stderr",
     "output_type": "stream",
     "text": [
      "Some weights of BertForSequenceClassification were not initialized from the model checkpoint at bert-base-uncased and are newly initialized: ['classifier.bias', 'classifier.weight']\n",
      "You should probably TRAIN this model on a down-stream task to be able to use it for predictions and inference.\n",
      "C:\\Users\\JS\\anaconda3\\envs\\NLPProjectVenv\\Lib\\site-packages\\transformers\\optimization.py:429: FutureWarning: This implementation of AdamW is deprecated and will be removed in a future version. Use the PyTorch implementation torch.optim.AdamW instead, or set `no_deprecation_warning=True` to disable this warning\n",
      "  warnings.warn(\n"
     ]
    }
   ],
   "source": [
    "from transformers import BertForSequenceClassification\n",
    "\n",
    "model = BertForSequenceClassification.from_pretrained(\"bert-base-uncased\",\n",
    "                                                      num_labels=len(encoder.classes_))\n",
    "model = nn.DataParallel(model)\n",
    "model.to(device)\n",
    "param_optimizer = list(model.named_parameters())\n",
    "no_decay = ['bias', 'LayerNorm.weight']\n",
    "optimizer_grouped_parameters = [\n",
    "    {'params': [p for n, p in param_optimizer if not any(nd in n for nd in no_decay)], 'weight_decay': 0.01},\n",
    "    {'params': [p for n, p in param_optimizer if any(nd in n for nd in no_decay)], 'weight_decay': 0.0}\n",
    "]\n",
    "\n",
    "optimizer = AdamW(optimizer_grouped_parameters, lr=2e-5, correct_bias=False)\n"
   ],
   "metadata": {
    "collapsed": false,
    "ExecuteTime": {
     "end_time": "2024-02-17T15:23:39.369387900Z",
     "start_time": "2024-02-17T15:23:38.004496Z"
    }
   },
   "id": "9ad5ca72f994a3c2",
   "execution_count": 16
  },
  {
   "cell_type": "code",
   "outputs": [],
   "source": [
    "def flat_accuracy(predicted_labels, labels):\n",
    "    predicted_labels = numpy.argmax(predicted_labels.to('cpu').numpy(), axis=1).flatten()\n",
    "    labels = labels.to('cpu').numpy().flatten()\n",
    "    return numpy.sum(predicted_labels == labels) / len(labels)\n"
   ],
   "metadata": {
    "collapsed": false,
    "ExecuteTime": {
     "end_time": "2024-02-17T15:23:39.377575300Z",
     "start_time": "2024-02-17T15:23:39.370387700Z"
    }
   },
   "id": "1913e5055f49bdb7",
   "execution_count": 17
  },
  {
   "cell_type": "code",
   "outputs": [
    {
     "name": "stderr",
     "output_type": "stream",
     "text": [
      "Epoch:   0%|          | 0/30 [00:00<?, ?it/s]"
     ]
    },
    {
     "name": "stdout",
     "output_type": "stream",
     "text": [
      "Epoch 1: Average Training Loss: 3.2221393377884575\n"
     ]
    },
    {
     "name": "stderr",
     "output_type": "stream",
     "text": [
      "Epoch:   3%|▎         | 1/30 [00:17<08:24, 17.38s/it]"
     ]
    },
    {
     "name": "stdout",
     "output_type": "stream",
     "text": [
      "Epoch 1: Validation Accuracy: 0.03571428571428571\n",
      "Epoch 2: Average Training Loss: 3.1139644643534785\n"
     ]
    },
    {
     "name": "stderr",
     "output_type": "stream",
     "text": [
      "Epoch:   7%|▋         | 2/30 [00:32<07:29, 16.05s/it]"
     ]
    },
    {
     "name": "stdout",
     "output_type": "stream",
     "text": [
      "Epoch 2: Validation Accuracy: 0.10920329670329669\n",
      "Epoch 3: Average Training Loss: 2.8511427900065547\n"
     ]
    },
    {
     "name": "stderr",
     "output_type": "stream",
     "text": [
      "Epoch:  10%|█         | 3/30 [00:47<07:05, 15.74s/it]"
     ]
    },
    {
     "name": "stdout",
     "output_type": "stream",
     "text": [
      "Epoch 3: Validation Accuracy: 0.08035714285714286\n",
      "Epoch 4: Average Training Loss: 2.5134009174678638\n"
     ]
    },
    {
     "name": "stderr",
     "output_type": "stream",
     "text": [
      "Epoch:  13%|█▎        | 4/30 [01:02<06:39, 15.36s/it]"
     ]
    },
    {
     "name": "stdout",
     "output_type": "stream",
     "text": [
      "Epoch 4: Validation Accuracy: 0.25206043956043955\n",
      "Epoch 5: Average Training Loss: 1.9874599757401838\n"
     ]
    },
    {
     "name": "stderr",
     "output_type": "stream",
     "text": [
      "Epoch:  17%|█▋        | 5/30 [01:17<06:22, 15.30s/it]"
     ]
    },
    {
     "name": "stdout",
     "output_type": "stream",
     "text": [
      "Epoch 5: Validation Accuracy: 0.4168956043956044\n",
      "Epoch 6: Average Training Loss: 1.4805627154267353\n"
     ]
    },
    {
     "name": "stderr",
     "output_type": "stream",
     "text": [
      "Epoch:  20%|██        | 6/30 [01:33<06:13, 15.58s/it]"
     ]
    },
    {
     "name": "stdout",
     "output_type": "stream",
     "text": [
      "Epoch 6: Validation Accuracy: 0.45467032967032966\n",
      "Epoch 7: Average Training Loss: 1.0492682120074397\n"
     ]
    },
    {
     "name": "stderr",
     "output_type": "stream",
     "text": [
      "Epoch:  23%|██▎       | 7/30 [01:49<05:57, 15.53s/it]"
     ]
    },
    {
     "name": "stdout",
     "output_type": "stream",
     "text": [
      "Epoch 7: Validation Accuracy: 0.5906593406593407\n",
      "Epoch 8: Average Training Loss: 0.6988247607065283\n"
     ]
    },
    {
     "name": "stderr",
     "output_type": "stream",
     "text": [
      "Epoch:  27%|██▋       | 8/30 [02:04<05:40, 15.48s/it]"
     ]
    },
    {
     "name": "stdout",
     "output_type": "stream",
     "text": [
      "Epoch 8: Validation Accuracy: 0.6682692307692307\n",
      "Epoch 9: Average Training Loss: 0.4524361219095147\n"
     ]
    },
    {
     "name": "stderr",
     "output_type": "stream",
     "text": [
      "Epoch:  30%|███       | 9/30 [02:20<05:29, 15.69s/it]"
     ]
    },
    {
     "name": "stdout",
     "output_type": "stream",
     "text": [
      "Epoch 9: Validation Accuracy: 0.6792582417582418\n",
      "Epoch 10: Average Training Loss: 0.30694415193537006\n"
     ]
    },
    {
     "name": "stderr",
     "output_type": "stream",
     "text": [
      "Epoch:  33%|███▎      | 10/30 [02:36<05:12, 15.64s/it]"
     ]
    },
    {
     "name": "stdout",
     "output_type": "stream",
     "text": [
      "Epoch 10: Validation Accuracy: 0.6792582417582418\n",
      "Epoch 11: Average Training Loss: 0.21349444661451422\n"
     ]
    },
    {
     "name": "stderr",
     "output_type": "stream",
     "text": [
      "Epoch:  37%|███▋      | 11/30 [02:53<05:03, 15.99s/it]"
     ]
    },
    {
     "name": "stdout",
     "output_type": "stream",
     "text": [
      "Epoch 11: Validation Accuracy: 0.6902472527472527\n",
      "Epoch 12: Average Training Loss: 0.15424726741469424\n"
     ]
    },
    {
     "name": "stderr",
     "output_type": "stream",
     "text": [
      "Epoch:  40%|████      | 12/30 [03:08<04:44, 15.79s/it]"
     ]
    },
    {
     "name": "stdout",
     "output_type": "stream",
     "text": [
      "Epoch 12: Validation Accuracy: 0.6881868131868132\n",
      "Epoch 13: Average Training Loss: 0.11895340972620508\n"
     ]
    },
    {
     "name": "stderr",
     "output_type": "stream",
     "text": [
      "Epoch:  43%|████▎     | 13/30 [03:23<04:26, 15.66s/it]"
     ]
    },
    {
     "name": "stdout",
     "output_type": "stream",
     "text": [
      "Epoch 13: Validation Accuracy: 0.6881868131868132\n",
      "Epoch 14: Average Training Loss: 0.10016696576191031\n"
     ]
    },
    {
     "name": "stderr",
     "output_type": "stream",
     "text": [
      "Epoch:  47%|████▋     | 14/30 [03:40<04:12, 15.80s/it]"
     ]
    },
    {
     "name": "stdout",
     "output_type": "stream",
     "text": [
      "Epoch 14: Validation Accuracy: 0.6971153846153847\n",
      "Epoch 15: Average Training Loss: 0.08488919893684595\n"
     ]
    },
    {
     "name": "stderr",
     "output_type": "stream",
     "text": [
      "Epoch:  50%|█████     | 15/30 [03:56<03:59, 15.96s/it]"
     ]
    },
    {
     "name": "stdout",
     "output_type": "stream",
     "text": [
      "Epoch 15: Validation Accuracy: 0.6971153846153847\n",
      "Epoch 16: Average Training Loss: 0.07322068528636642\n"
     ]
    },
    {
     "name": "stderr",
     "output_type": "stream",
     "text": [
      "Epoch:  53%|█████▎    | 16/30 [04:10<03:34, 15.32s/it]"
     ]
    },
    {
     "name": "stdout",
     "output_type": "stream",
     "text": [
      "Epoch 16: Validation Accuracy: 0.6971153846153847\n",
      "Epoch 17: Average Training Loss: 0.06544263353166373\n"
     ]
    },
    {
     "name": "stderr",
     "output_type": "stream",
     "text": [
      "Epoch:  57%|█████▋    | 17/30 [04:24<03:16, 15.12s/it]"
     ]
    },
    {
     "name": "stdout",
     "output_type": "stream",
     "text": [
      "Epoch 17: Validation Accuracy: 0.6971153846153847\n",
      "Epoch 18: Average Training Loss: 0.05834278464317322\n"
     ]
    },
    {
     "name": "stderr",
     "output_type": "stream",
     "text": [
      "Epoch:  60%|██████    | 18/30 [04:38<02:57, 14.81s/it]"
     ]
    },
    {
     "name": "stdout",
     "output_type": "stream",
     "text": [
      "Epoch 18: Validation Accuracy: 0.7081043956043956\n",
      "Epoch 19: Average Training Loss: 0.05840563531155172\n"
     ]
    },
    {
     "name": "stderr",
     "output_type": "stream",
     "text": [
      "Epoch:  63%|██████▎   | 19/30 [04:53<02:42, 14.76s/it]"
     ]
    },
    {
     "name": "stdout",
     "output_type": "stream",
     "text": [
      "Epoch 19: Validation Accuracy: 0.6971153846153847\n",
      "Epoch 20: Average Training Loss: 0.050425378848677094\n"
     ]
    },
    {
     "name": "stderr",
     "output_type": "stream",
     "text": [
      "Epoch:  67%|██████▋   | 20/30 [05:09<02:31, 15.12s/it]"
     ]
    },
    {
     "name": "stdout",
     "output_type": "stream",
     "text": [
      "Epoch 20: Validation Accuracy: 0.7081043956043956\n",
      "Epoch 21: Average Training Loss: 0.04635015340602916\n"
     ]
    },
    {
     "name": "stderr",
     "output_type": "stream",
     "text": [
      "Epoch:  70%|███████   | 21/30 [05:25<02:18, 15.41s/it]"
     ]
    },
    {
     "name": "stdout",
     "output_type": "stream",
     "text": [
      "Epoch 21: Validation Accuracy: 0.717032967032967\n",
      "Epoch 22: Average Training Loss: 0.04169160467774972\n"
     ]
    },
    {
     "name": "stderr",
     "output_type": "stream",
     "text": [
      "Epoch:  73%|███████▎  | 22/30 [05:40<02:02, 15.26s/it]"
     ]
    },
    {
     "name": "stdout",
     "output_type": "stream",
     "text": [
      "Epoch 22: Validation Accuracy: 0.717032967032967\n",
      "Epoch 23: Average Training Loss: 0.03925108723342419\n"
     ]
    },
    {
     "name": "stderr",
     "output_type": "stream",
     "text": [
      "Epoch:  77%|███████▋  | 23/30 [05:55<01:46, 15.16s/it]"
     ]
    },
    {
     "name": "stdout",
     "output_type": "stream",
     "text": [
      "Epoch 23: Validation Accuracy: 0.717032967032967\n",
      "Epoch 24: Average Training Loss: 0.036814695224165916\n"
     ]
    },
    {
     "name": "stderr",
     "output_type": "stream",
     "text": [
      "Epoch:  80%|████████  | 24/30 [06:10<01:31, 15.22s/it]"
     ]
    },
    {
     "name": "stdout",
     "output_type": "stream",
     "text": [
      "Epoch 24: Validation Accuracy: 0.717032967032967\n",
      "Epoch 25: Average Training Loss: 0.03443587644268637\n"
     ]
    },
    {
     "name": "stderr",
     "output_type": "stream",
     "text": [
      "Epoch:  83%|████████▎ | 25/30 [06:25<01:15, 15.11s/it]"
     ]
    },
    {
     "name": "stdout",
     "output_type": "stream",
     "text": [
      "Epoch 25: Validation Accuracy: 0.717032967032967\n",
      "Epoch 26: Average Training Loss: 0.03253409922446893\n"
     ]
    },
    {
     "name": "stderr",
     "output_type": "stream",
     "text": [
      "Epoch:  87%|████████▋ | 26/30 [06:40<01:00, 15.11s/it]"
     ]
    },
    {
     "name": "stdout",
     "output_type": "stream",
     "text": [
      "Epoch 26: Validation Accuracy: 0.717032967032967\n",
      "Epoch 27: Average Training Loss: 0.03039335791507493\n"
     ]
    },
    {
     "name": "stderr",
     "output_type": "stream",
     "text": [
      "Epoch:  90%|█████████ | 27/30 [06:55<00:45, 15.07s/it]"
     ]
    },
    {
     "name": "stdout",
     "output_type": "stream",
     "text": [
      "Epoch 27: Validation Accuracy: 0.717032967032967\n",
      "Epoch 28: Average Training Loss: 0.02922360258905784\n"
     ]
    },
    {
     "name": "stderr",
     "output_type": "stream",
     "text": [
      "Epoch:  93%|█████████▎| 28/30 [07:10<00:30, 15.04s/it]"
     ]
    },
    {
     "name": "stdout",
     "output_type": "stream",
     "text": [
      "Epoch 28: Validation Accuracy: 0.717032967032967\n",
      "Epoch 29: Average Training Loss: 0.02767333048193351\n"
     ]
    },
    {
     "name": "stderr",
     "output_type": "stream",
     "text": [
      "Epoch:  97%|█████████▋| 29/30 [07:25<00:14, 15.00s/it]"
     ]
    },
    {
     "name": "stdout",
     "output_type": "stream",
     "text": [
      "Epoch 29: Validation Accuracy: 0.717032967032967\n",
      "Epoch 30: Average Training Loss: 0.026497313266862995\n"
     ]
    },
    {
     "name": "stderr",
     "output_type": "stream",
     "text": [
      "Epoch: 100%|██████████| 30/30 [07:41<00:00, 15.39s/it]"
     ]
    },
    {
     "name": "stdout",
     "output_type": "stream",
     "text": [
      "Epoch 30: Validation Accuracy: 0.717032967032967\n"
     ]
    },
    {
     "name": "stderr",
     "output_type": "stream",
     "text": [
      "\n"
     ]
    }
   ],
   "source": [
    "from tqdm import trange\n",
    "epochs = 30\n",
    "random.seed(42)\n",
    "torch.manual_seed(42)\n",
    "training_losses = []\n",
    "\n",
    "for epoch in trange(epochs, desc=\"Epoch\"):\n",
    "    model.train()\n",
    "    training_loss = 0\n",
    "    training_steps = 0\n",
    "\n",
    "    for step, batch in enumerate(training_dataloader):\n",
    "        inputs = batch[0].to(device)\n",
    "        attention_masks = batch[1].to(device)\n",
    "        # labels = labels.type(torch.LongTensor)\n",
    "        labels = batch[2].to(device)\n",
    "\n",
    "        optimizer.zero_grad()\n",
    "        outputs = model(inputs, attention_mask=attention_masks, labels=labels)\n",
    "        # print(\"TRAIN\", outputs)\n",
    "        loss = outputs.loss\n",
    "        loss.backward()\n",
    "        optimizer.step()\n",
    "\n",
    "        training_loss += loss.item()\n",
    "        training_steps += 1\n",
    "\n",
    "        training_losses.append(loss.item())\n",
    "\n",
    "    average_training_loss = training_loss/training_steps\n",
    "    print(\"Epoch {}: Average Training Loss: {}\".format(epoch+1, average_training_loss))\n",
    "\n",
    "    model.eval()\n",
    "    validation_accuracy = 0\n",
    "    validation_steps = 0\n",
    "\n",
    "    for batch in validation_dataloader:\n",
    "        inputs = batch[0].to(device)\n",
    "        attention_masks = batch[1].to(device)\n",
    "        labels = batch[2].to(device)\n",
    "\n",
    "        with torch.no_grad():\n",
    "            outputs = model(inputs, attention_mask=attention_masks, labels=labels)\n",
    "            # print(\"VAL\", outputs)\n",
    "\n",
    "        logits = outputs.logits\n",
    "        temp_validation_accuracy = flat_accuracy(logits, labels)\n",
    "        validation_accuracy += temp_validation_accuracy\n",
    "        validation_steps += 1\n",
    "\n",
    "    average_validation_accuracy = validation_accuracy/validation_steps\n",
    "    print(\"Epoch {}: Validation Accuracy: {}\".format(epoch+1, average_validation_accuracy))"
   ],
   "metadata": {
    "collapsed": false,
    "ExecuteTime": {
     "end_time": "2024-02-17T15:31:21.021780900Z",
     "start_time": "2024-02-17T15:23:39.391107800Z"
    }
   },
   "id": "4f600ad255b3cc31",
   "execution_count": 18
  },
  {
   "cell_type": "code",
   "outputs": [],
   "source": [
    "input_ids = torch.tensor(testing_inputs)\n",
    "attention_masks = torch.tensor(testing_masks)\n",
    "labels = torch.tensor(testing_labels)\n",
    "\n",
    "prediction_data = TensorDataset(input_ids, attention_masks, labels)\n",
    "prediction_dataloader = DataLoader(prediction_data, batch_size=VAR['batch_size'])\n",
    "\n",
    "model.eval()\n",
    "logits_set = []\n",
    "labels_set = []\n",
    "\n",
    "for batch in prediction_dataloader:\n",
    "    batch_input_ids, batch_attention_masks, batch_labels = batch\n",
    "    batch_input_ids, batch_attention_masks, batch_labels = batch_input_ids.to(device), batch_attention_masks.to(device), batch_labels.to(device)\n",
    "\n",
    "    with torch.no_grad():\n",
    "        outputs = model(batch_input_ids, attention_mask=batch_attention_masks)\n",
    "        logits = outputs.logits\n",
    "\n",
    "    logits_set.append(logits.cpu().numpy())\n",
    "    labels_set.append(batch_labels.cpu().numpy())"
   ],
   "metadata": {
    "collapsed": false,
    "ExecuteTime": {
     "end_time": "2024-02-17T15:31:21.539992900Z",
     "start_time": "2024-02-17T15:31:21.019779Z"
    }
   },
   "id": "bd469554800788e0",
   "execution_count": 19
  },
  {
   "cell_type": "code",
   "outputs": [
    {
     "name": "stdout",
     "output_type": "stream",
     "text": [
      "Batch 1: MCC = 0.7982763270115342\n",
      "Batch 2: MCC = 0.9345067267136572\n",
      "Batch 3: MCC = 0.58\n",
      "\n",
      "Overall MCC: 0.7709276845750638\n"
     ]
    }
   ],
   "source": [
    "from sklearn.metrics import matthews_corrcoef\n",
    "matthews_set = []\n",
    "\n",
    "# Calculate Matthews correlation coefficient for each batch\n",
    "for i in range(len(labels_set)):\n",
    "    mcc = matthews_corrcoef(labels_set[i], numpy.argmax(logits_set[i], axis=1).flatten())\n",
    "    matthews_set.append(mcc)\n",
    "\n",
    "for i, mcc in enumerate(matthews_set):\n",
    "    print(f\"Batch {i + 1}: MCC = {mcc}\")\n",
    "\n",
    "# Calculate the overall Matthews correlation coefficient\n",
    "overall_mcc = numpy.mean(matthews_set)\n",
    "print(f\"\\nOverall MCC: {overall_mcc}\")"
   ],
   "metadata": {
    "collapsed": false,
    "ExecuteTime": {
     "end_time": "2024-02-17T15:31:21.551162600Z",
     "start_time": "2024-02-17T15:31:21.541992900Z"
    }
   },
   "id": "25069398e8ed20d4",
   "execution_count": 20
  },
  {
   "cell_type": "code",
   "outputs": [
    {
     "name": "stdout",
     "output_type": "stream",
     "text": [
      "mean_accuracy=0.7833333333333333, mean_precision=0.7625000000000001, mean_recall=0.7833333333333333, mean_f1=0.762037037037037\n"
     ]
    }
   ],
   "source": [
    "from sklearn.metrics import accuracy_score, precision_score, recall_score, f1_score\n",
    "\n",
    "accuracy_scores = []\n",
    "precision_scores = []\n",
    "recall_scores = []\n",
    "f1_scores = []\n",
    "\n",
    "\n",
    "for i in range(len(labels_set)):\n",
    "    acc = accuracy_score(labels_set[i], numpy.argmax(logits_set[i], axis=1).flatten())\n",
    "    accuracy_scores.append(acc)\n",
    "    \n",
    "    precision = precision_score(labels_set[i], numpy.argmax(logits_set[i], axis=1).flatten(), average='weighted', zero_division=0)\n",
    "    precision_scores.append(precision)\n",
    "    \n",
    "    recall = recall_score(labels_set[i], numpy.argmax(logits_set[i], axis=1).flatten(), average='weighted', zero_division=0)\n",
    "    recall_scores.append(recall)\n",
    "    \n",
    "    f1_scoring = f1_score(labels_set[i], numpy.argmax(logits_set[i], axis=1).flatten(), average='weighted', zero_division=0)\n",
    "    f1_scores.append(f1_scoring)\n",
    "    \n",
    "mean_accuracy = numpy.mean(accuracy_scores)\n",
    "mean_precision = numpy.mean(precision_scores)\n",
    "mean_recall = numpy.mean(recall_scores)\n",
    "mean_f1 = numpy.mean(f1_scores)\n",
    "\n",
    "print(f'{mean_accuracy=}, {mean_precision=}, {mean_recall=}, {mean_f1=}')"
   ],
   "metadata": {
    "collapsed": false,
    "ExecuteTime": {
     "end_time": "2024-02-17T15:31:21.563765600Z",
     "start_time": "2024-02-17T15:31:21.549162800Z"
    }
   },
   "id": "e14d894193322ef9",
   "execution_count": 21
  },
  {
   "cell_type": "code",
   "outputs": [
    {
     "name": "stdout",
     "output_type": "stream",
     "text": [
      "217 ms ± 80.8 ms per loop (mean ± std. dev. of 7 runs, 10 loops each)\n"
     ]
    }
   ],
   "source": [
    "%timeit model(batch_input_ids, attention_mask=batch_attention_masks)"
   ],
   "metadata": {
    "collapsed": false,
    "ExecuteTime": {
     "end_time": "2024-02-17T15:31:38.426843900Z",
     "start_time": "2024-02-17T15:31:21.560263Z"
    }
   },
   "id": "5724638ba7a2ec4a",
   "execution_count": 22
  },
  {
   "cell_type": "code",
   "outputs": [
    {
     "data": {
      "text/plain": "torch.Size([15, 512])"
     },
     "execution_count": 23,
     "metadata": {},
     "output_type": "execute_result"
    }
   ],
   "source": [
    "batch_input_ids.shape"
   ],
   "metadata": {
    "collapsed": false,
    "ExecuteTime": {
     "end_time": "2024-02-17T15:31:38.427843900Z",
     "start_time": "2024-02-17T15:31:38.423242300Z"
    }
   },
   "id": "dbc15c65c8afa3eb",
   "execution_count": 23
  }
 ],
 "metadata": {
  "kernelspec": {
   "display_name": "Python 3",
   "language": "python",
   "name": "python3"
  },
  "language_info": {
   "codemirror_mode": {
    "name": "ipython",
    "version": 2
   },
   "file_extension": ".py",
   "mimetype": "text/x-python",
   "name": "python",
   "nbconvert_exporter": "python",
   "pygments_lexer": "ipython2",
   "version": "2.7.6"
  }
 },
 "nbformat": 4,
 "nbformat_minor": 5
}
