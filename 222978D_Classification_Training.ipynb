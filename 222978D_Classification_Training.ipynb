{
 "cells": [
  {
   "cell_type": "code",
   "outputs": [],
   "source": [
    "VAR = {\n",
    "    'max_len': 128,\n",
    "    'batch_size': 32\n",
    "}"
   ],
   "metadata": {
    "collapsed": false,
    "ExecuteTime": {
     "end_time": "2024-02-13T07:42:17.949056400Z",
     "start_time": "2024-02-13T07:42:17.946742500Z"
    }
   },
   "id": "bfd2aed3b089c3cd",
   "execution_count": 1
  },
  {
   "cell_type": "code",
   "outputs": [
    {
     "name": "stderr",
     "output_type": "stream",
     "text": [
      "C:\\Users\\JS\\AppData\\Local\\Temp\\ipykernel_37932\\4211774795.py:2: DeprecationWarning: \n",
      "Pyarrow will become a required dependency of pandas in the next major release of pandas (pandas 3.0),\n",
      "(to allow more performant data types, such as the Arrow string type, and better interoperability with other libraries)\n",
      "but was not found to be installed on your system.\n",
      "If this would cause problems for you,\n",
      "please provide us feedback at https://github.com/pandas-dev/pandas/issues/54466\n",
      "        \n",
      "  import pandas\n"
     ]
    },
    {
     "name": "stdout",
     "output_type": "stream",
     "text": [
      "WARNING:tensorflow:From C:\\Users\\JS\\anaconda3\\envs\\NLPProjectVenv\\Lib\\site-packages\\keras\\src\\losses.py:2976: The name tf.losses.sparse_softmax_cross_entropy is deprecated. Please use tf.compat.v1.losses.sparse_softmax_cross_entropy instead.\n"
     ]
    }
   ],
   "source": [
    "import numpy\n",
    "import pandas\n",
    "import torch\n",
    "import torch.nn as nn\n",
    "from transformers import BertTokenizer, AdamW, BertForSequenceClassification\n",
    "from keras.preprocessing.sequence import pad_sequences\n",
    "from sklearn.model_selection import train_test_split\n",
    "from sklearn.preprocessing import LabelEncoder\n",
    "from torch.utils.data import TensorDataset, DataLoader, RandomSampler, SequentialSampler"
   ],
   "metadata": {
    "collapsed": false,
    "ExecuteTime": {
     "end_time": "2024-02-13T07:42:22.420674800Z",
     "start_time": "2024-02-13T07:42:17.951055500Z"
    }
   },
   "id": "5754cad4179ffa39",
   "execution_count": 2
  },
  {
   "cell_type": "markdown",
   "source": [
    "# Classification Task: Initiating Data"
   ],
   "metadata": {
    "collapsed": false
   },
   "id": "4bdcc74464b9a543"
  },
  {
   "cell_type": "code",
   "outputs": [],
   "source": [
    "from preprocessing_NLP import pipeline\n",
    "\n",
    "resume_df = pipeline('UpdatedResumeDataSet_T1_7.csv', feature_name='Resume')\n",
    "resume_df = resume_df.reset_index(drop=True)\n",
    "\n",
    "device = torch.device(\"cuda\" if torch.cuda.is_available() else \"cpu\")"
   ],
   "metadata": {
    "collapsed": false,
    "ExecuteTime": {
     "end_time": "2024-02-13T07:42:22.450386400Z",
     "start_time": "2024-02-13T07:42:22.422675200Z"
    }
   },
   "id": "c4fcb571da36c413",
   "execution_count": 3
  },
  {
   "cell_type": "code",
   "outputs": [],
   "source": [
    "def split_into_sub_length(resume: str, max_len=128):\n",
    "    # Ensures all words are tokenized and analyzed;  Due to keras pad_sequences()\n",
    "    resume_list = resume.split()\n",
    "    \n",
    "    resume_length = len(resume_list)\n",
    "    \n",
    "    splits = resume_length // max_len\n",
    "    remaining_splits = resume_length % max_len\n",
    "    \n",
    "    resume_at_max_len = []\n",
    "\n",
    "    for i in range(splits):\n",
    "        resume_section = ' '.join(resume_list[i*max_len: (i+1)*max_len])\n",
    "        # print(resume_list[i*max_len: (i+1)*max_len])\n",
    "        resume_at_max_len.append(resume_section)\n",
    "        \n",
    "    final_section = ' '.join(resume_list[-1-remaining_splits:-1])\n",
    "    resume_at_max_len.append(final_section)\n",
    "    \n",
    "    return resume_at_max_len"
   ],
   "metadata": {
    "collapsed": false,
    "ExecuteTime": {
     "end_time": "2024-02-13T07:42:22.456390Z",
     "start_time": "2024-02-13T07:42:22.449345200Z"
    }
   },
   "id": "e2aeb3a64100666",
   "execution_count": 4
  },
  {
   "cell_type": "code",
   "outputs": [
    {
     "data": {
      "text/plain": "0      [qwtnrvduof education detail may 2013 may 2017...\n1      [qwtnrvduof area interest deep learn control s...\n2      [skill r python sap hana tableau sap hana sql ...\n3      [education detail mca ymcaust faridabad haryan...\n4      [skill c basic iot python matlab data science ...\n                             ...                        \n183    [skill set o window xp 7 8 8bntgbqlmkk1 10 dat...\n184    [good logical analytical skill positive attitu...\n185    [personal skill quick learner eagerness learn ...\n186    [core skill project program management agile s...\n187    [education detail february 2006 february 2006 ...\nName: Resume, Length: 188, dtype: object"
     },
     "execution_count": 5,
     "metadata": {},
     "output_type": "execute_result"
    }
   ],
   "source": [
    "resume_df['Resume'] = resume_df['Resume'].apply(split_into_sub_length)\n",
    "resume_df['Resume']"
   ],
   "metadata": {
    "collapsed": false,
    "ExecuteTime": {
     "end_time": "2024-02-13T07:42:22.463757900Z",
     "start_time": "2024-02-13T07:42:22.453391500Z"
    }
   },
   "id": "ecc91aaaa708a270",
   "execution_count": 5
  },
  {
   "cell_type": "code",
   "outputs": [
    {
     "data": {
      "text/plain": "             Category                                             Resume\n0        Data Science  qwtnrvduof education detail may 2013 may 2017 ...\n0        Data Science                   mixed attribute company matelabs\n1        Data Science  qwtnrvduof area interest deep learn control sy...\n1        Data Science  year month mathematics exprience less 1 year m...\n2        Data Science  skill r python sap hana tableau sap hana sql s...\n..                ...                                                ...\n186   DevOps Engineer  various type test like system regression sanit...\n186   DevOps Engineer  transition drill session forward reverse shado...\n186   DevOps Engineer  action plan team prepare implement business co...\n187  Business Analyst  education detail february 2006 february 2006 t...\n187  Business Analyst  manager sriqmadshiyn manger responsibility han...\n\n[520 rows x 2 columns]",
      "text/html": "<div>\n<style scoped>\n    .dataframe tbody tr th:only-of-type {\n        vertical-align: middle;\n    }\n\n    .dataframe tbody tr th {\n        vertical-align: top;\n    }\n\n    .dataframe thead th {\n        text-align: right;\n    }\n</style>\n<table border=\"1\" class=\"dataframe\">\n  <thead>\n    <tr style=\"text-align: right;\">\n      <th></th>\n      <th>Category</th>\n      <th>Resume</th>\n    </tr>\n  </thead>\n  <tbody>\n    <tr>\n      <th>0</th>\n      <td>Data Science</td>\n      <td>qwtnrvduof education detail may 2013 may 2017 ...</td>\n    </tr>\n    <tr>\n      <th>0</th>\n      <td>Data Science</td>\n      <td>mixed attribute company matelabs</td>\n    </tr>\n    <tr>\n      <th>1</th>\n      <td>Data Science</td>\n      <td>qwtnrvduof area interest deep learn control sy...</td>\n    </tr>\n    <tr>\n      <th>1</th>\n      <td>Data Science</td>\n      <td>year month mathematics exprience less 1 year m...</td>\n    </tr>\n    <tr>\n      <th>2</th>\n      <td>Data Science</td>\n      <td>skill r python sap hana tableau sap hana sql s...</td>\n    </tr>\n    <tr>\n      <th>...</th>\n      <td>...</td>\n      <td>...</td>\n    </tr>\n    <tr>\n      <th>186</th>\n      <td>DevOps Engineer</td>\n      <td>various type test like system regression sanit...</td>\n    </tr>\n    <tr>\n      <th>186</th>\n      <td>DevOps Engineer</td>\n      <td>transition drill session forward reverse shado...</td>\n    </tr>\n    <tr>\n      <th>186</th>\n      <td>DevOps Engineer</td>\n      <td>action plan team prepare implement business co...</td>\n    </tr>\n    <tr>\n      <th>187</th>\n      <td>Business Analyst</td>\n      <td>education detail february 2006 february 2006 t...</td>\n    </tr>\n    <tr>\n      <th>187</th>\n      <td>Business Analyst</td>\n      <td>manager sriqmadshiyn manger responsibility han...</td>\n    </tr>\n  </tbody>\n</table>\n<p>520 rows × 2 columns</p>\n</div>"
     },
     "execution_count": 6,
     "metadata": {},
     "output_type": "execute_result"
    }
   ],
   "source": [
    "resume_df = resume_df.explode('Resume')\n",
    "resume_df"
   ],
   "metadata": {
    "collapsed": false,
    "ExecuteTime": {
     "end_time": "2024-02-13T07:42:22.485807300Z",
     "start_time": "2024-02-13T07:42:22.463757900Z"
    }
   },
   "id": "b84583baa367d2c8",
   "execution_count": 6
  },
  {
   "cell_type": "code",
   "outputs": [
    {
     "data": {
      "text/plain": "str"
     },
     "execution_count": 7,
     "metadata": {},
     "output_type": "execute_result"
    }
   ],
   "source": [
    "type(resume_df['Category'].iloc[0])"
   ],
   "metadata": {
    "collapsed": false,
    "ExecuteTime": {
     "end_time": "2024-02-13T07:42:22.486808300Z",
     "start_time": "2024-02-13T07:42:22.473151900Z"
    }
   },
   "id": "5c8a4fc552d2e32",
   "execution_count": 7
  },
  {
   "cell_type": "code",
   "outputs": [],
   "source": [
    "encoder = LabelEncoder()"
   ],
   "metadata": {
    "collapsed": false,
    "ExecuteTime": {
     "end_time": "2024-02-13T07:42:22.487807300Z",
     "start_time": "2024-02-13T07:42:22.476176Z"
    }
   },
   "id": "400fc2cad34a0507",
   "execution_count": 8
  },
  {
   "cell_type": "code",
   "outputs": [],
   "source": [
    "resume_df['Category'] = encoder.fit_transform(resume_df['Category'])\n",
    "resume_df['Category'] = resume_df['Category'].astype(numpy.int64)"
   ],
   "metadata": {
    "collapsed": false,
    "ExecuteTime": {
     "end_time": "2024-02-13T07:42:22.501295800Z",
     "start_time": "2024-02-13T07:42:22.479037900Z"
    }
   },
   "id": "8e0163d8e40ed2bc",
   "execution_count": 9
  },
  {
   "cell_type": "code",
   "outputs": [
    {
     "data": {
      "text/plain": "numpy.int64"
     },
     "execution_count": 10,
     "metadata": {},
     "output_type": "execute_result"
    }
   ],
   "source": [
    "type(resume_df['Category'].iloc[0])"
   ],
   "metadata": {
    "collapsed": false,
    "ExecuteTime": {
     "end_time": "2024-02-13T07:42:22.501295800Z",
     "start_time": "2024-02-13T07:42:22.482756800Z"
    }
   },
   "id": "e11bbbbfcb2ccf",
   "execution_count": 10
  },
  {
   "cell_type": "code",
   "outputs": [
    {
     "data": {
      "text/plain": "41"
     },
     "execution_count": 11,
     "metadata": {},
     "output_type": "execute_result"
    }
   ],
   "source": [
    "resume_df['Category'].value_counts().max()"
   ],
   "metadata": {
    "collapsed": false,
    "ExecuteTime": {
     "end_time": "2024-02-13T07:42:22.503294700Z",
     "start_time": "2024-02-13T07:42:22.487807300Z"
    }
   },
   "id": "2cc985a272acc3ac",
   "execution_count": 11
  },
  {
   "cell_type": "code",
   "outputs": [],
   "source": [
    "import random\n",
    "\n",
    "# minimum = resume_df['Category'].value_counts().max()\n",
    "minimum = 0\n",
    "current_lowest = resume_df['Category'].value_counts().min()\n",
    "\n",
    "#Check\n",
    "count = resume_df['Category'].value_counts()\n",
    "remaining = 7 - count[count<minimum]\n",
    "\n",
    "while len(remaining != 0):\n",
    "    count = resume_df['Category'].value_counts()\n",
    "    remaining = 7 - count[count<minimum]\n",
    "\n",
    "    for category in remaining.index:\n",
    "        someInt = random.randint(0, current_lowest-1)\n",
    "        value_to_append = resume_df[\n",
    "            resume_df['Category']==category\n",
    "            ]['Resume'].values[someInt]\n",
    "\n",
    "\n",
    "        df_to_concat = pandas.DataFrame({\n",
    "            'Category': [category],\n",
    "            'Resume': [value_to_append]\n",
    "        })\n",
    "\n",
    "        resume_df = pandas.concat([resume_df, df_to_concat], axis=0)"
   ],
   "metadata": {
    "collapsed": false,
    "ExecuteTime": {
     "end_time": "2024-02-13T07:42:22.558421300Z",
     "start_time": "2024-02-13T07:42:22.492154500Z"
    }
   },
   "id": "c99a26a2dd5ba6d8",
   "execution_count": 12
  },
  {
   "cell_type": "code",
   "outputs": [
    {
     "data": {
      "text/plain": "Category\n7     41\n18    39\n6     35\n8     31\n15    27\n4     27\n13    25\n2     25\n21    23\n9     22\n17    21\n5     18\n10    17\n12    16\n19    16\n1     15\n11    15\n16    15\n0     14\n23    14\n14    14\n20    14\n3     13\n24    12\n22    11\nName: count, dtype: int64"
     },
     "execution_count": 13,
     "metadata": {},
     "output_type": "execute_result"
    }
   ],
   "source": [
    "resume_df['Category'].value_counts()"
   ],
   "metadata": {
    "collapsed": false,
    "ExecuteTime": {
     "end_time": "2024-02-13T07:42:22.563421100Z",
     "start_time": "2024-02-13T07:42:22.497529800Z"
    }
   },
   "id": "57e00629fa47967e",
   "execution_count": 13
  },
  {
   "cell_type": "code",
   "outputs": [],
   "source": [
    "resumes = resume_df.Resume.values\n",
    "resumes = [\"[CLS] \" + resume + \" [SEP]\" for resume in resumes]\n",
    "labels = resume_df.Category.values\n",
    "\n",
    "tokenizer = BertTokenizer.from_pretrained('bert-base-uncased')\n",
    "tokenized_texts = [tokenizer.tokenize(resume) for resume in resumes]\n",
    "\n",
    "input_ids = [tokenizer.convert_tokens_to_ids(x) for x in tokenized_texts]\n",
    "input_ids = pad_sequences(input_ids, maxlen=VAR['max_len'], dtype=\"long\", truncating=\"post\", padding=\"post\")\n",
    "\n",
    "attention_masks = []\n",
    "for sequence in input_ids:\n",
    "    sequence_mask = [float(id > 0) for id in sequence]\n",
    "    attention_masks.append(sequence_mask)"
   ],
   "metadata": {
    "collapsed": false,
    "ExecuteTime": {
     "end_time": "2024-02-13T07:42:23.682239700Z",
     "start_time": "2024-02-13T07:42:22.502296300Z"
    }
   },
   "id": "a3006610ca4fe1d4",
   "execution_count": 14
  },
  {
   "cell_type": "code",
   "outputs": [],
   "source": [
    "training_inputs, validation_test_inputs, training_labels, validation_test_labels, training_masks, validation_test_masks = train_test_split(\n",
    "    input_ids, labels, attention_masks,\n",
    "    random_state=42, test_size=0.3\n",
    ")\n",
    "\n",
    "validation_inputs, testing_inputs, validation_labels, testing_labels, validation_masks, testing_masks = train_test_split(\n",
    "    validation_test_inputs, validation_test_labels, validation_test_masks, random_state=42, test_size=0.3\n",
    ")\n",
    "\n",
    "training_data = TensorDataset(torch.tensor(training_inputs), torch.tensor(training_masks), torch.tensor(training_labels))\n",
    "training_sampler = RandomSampler(training_data)\n",
    "training_dataloader = DataLoader(training_data, sampler=training_sampler, batch_size=VAR['batch_size'])\n",
    "\n",
    "validation_data = TensorDataset(torch.tensor(validation_inputs), torch.tensor(validation_masks), torch.tensor(validation_labels))\n",
    "validation_sampler = SequentialSampler(validation_data)\n",
    "validation_dataloader = DataLoader(validation_data, sampler=validation_sampler, batch_size=VAR['batch_size'])\n"
   ],
   "metadata": {
    "collapsed": false,
    "ExecuteTime": {
     "end_time": "2024-02-13T07:42:23.694473200Z",
     "start_time": "2024-02-13T07:42:23.682239700Z"
    }
   },
   "id": "658924c0d6ad7318",
   "execution_count": 15
  },
  {
   "cell_type": "code",
   "outputs": [
    {
     "name": "stderr",
     "output_type": "stream",
     "text": [
      "Some weights of BertForSequenceClassification were not initialized from the model checkpoint at bert-base-uncased and are newly initialized: ['classifier.bias', 'classifier.weight']\n",
      "You should probably TRAIN this model on a down-stream task to be able to use it for predictions and inference.\n",
      "C:\\Users\\JS\\anaconda3\\envs\\NLPProjectVenv\\Lib\\site-packages\\transformers\\optimization.py:429: FutureWarning: This implementation of AdamW is deprecated and will be removed in a future version. Use the PyTorch implementation torch.optim.AdamW instead, or set `no_deprecation_warning=True` to disable this warning\n",
      "  warnings.warn(\n"
     ]
    }
   ],
   "source": [
    "from transformers import BertConfig, BertModel\n",
    "configuration = BertConfig()\n",
    "model = BertModel(configuration)\n",
    "configuration = model.config\n",
    "\n",
    "from transformers import BertForSequenceClassification\n",
    "\n",
    "model = BertForSequenceClassification.from_pretrained(\"bert-base-uncased\",\n",
    "                                                      num_labels=len(encoder.classes_))\n",
    "model = nn.DataParallel(model)\n",
    "model.to(device)\n",
    "param_optimizer = list(model.named_parameters())\n",
    "no_decay = ['bias', 'LayerNorm.weight']\n",
    "optimizer_grouped_parameters = [\n",
    "    {'params': [p for n, p in param_optimizer if not any(nd in n for nd in no_decay)], 'weight_decay': 0.01},\n",
    "    {'params': [p for n, p in param_optimizer if any(nd in n for nd in no_decay)], 'weight_decay': 0.0}\n",
    "]\n",
    "\n",
    "optimizer = AdamW(optimizer_grouped_parameters, lr=2e-5, correct_bias=False)\n"
   ],
   "metadata": {
    "collapsed": false,
    "ExecuteTime": {
     "end_time": "2024-02-13T07:42:25.814482100Z",
     "start_time": "2024-02-13T07:42:23.695473500Z"
    }
   },
   "id": "9ad5ca72f994a3c2",
   "execution_count": 16
  },
  {
   "cell_type": "code",
   "outputs": [],
   "source": [
    "def flat_accuracy(predicted_labels, labels):\n",
    "    predicted_labels = numpy.argmax(predicted_labels.to('cpu').numpy(), axis=1).flatten()\n",
    "    labels = labels.to('cpu').numpy().flatten()\n",
    "    return numpy.sum(predicted_labels == labels) / len(labels)\n"
   ],
   "metadata": {
    "collapsed": false,
    "ExecuteTime": {
     "end_time": "2024-02-13T07:42:25.825863900Z",
     "start_time": "2024-02-13T07:42:25.816356500Z"
    }
   },
   "id": "1913e5055f49bdb7",
   "execution_count": 17
  },
  {
   "cell_type": "code",
   "outputs": [
    {
     "name": "stderr",
     "output_type": "stream",
     "text": [
      "Epoch:   0%|          | 0/75 [00:00<?, ?it/s]"
     ]
    },
    {
     "name": "stdout",
     "output_type": "stream",
     "text": [
      "Epoch 1: Average Training Loss: 3.2230774958928428\n"
     ]
    },
    {
     "name": "stderr",
     "output_type": "stream",
     "text": [
      "Epoch:   1%|▏         | 1/75 [00:02<03:08,  2.55s/it]"
     ]
    },
    {
     "name": "stdout",
     "output_type": "stream",
     "text": [
      "Epoch 1: Validation Accuracy: 0.0234375\n",
      "Epoch 2: Average Training Loss: 3.1456751624743142\n"
     ]
    },
    {
     "name": "stderr",
     "output_type": "stream",
     "text": [
      "Epoch:   3%|▎         | 2/75 [00:04<03:00,  2.47s/it]"
     ]
    },
    {
     "name": "stdout",
     "output_type": "stream",
     "text": [
      "Epoch 2: Validation Accuracy: 0.0703125\n",
      "Epoch 3: Average Training Loss: 3.1421801249186196\n"
     ]
    },
    {
     "name": "stderr",
     "output_type": "stream",
     "text": [
      "Epoch:   4%|▍         | 3/75 [00:07<02:56,  2.46s/it]"
     ]
    },
    {
     "name": "stdout",
     "output_type": "stream",
     "text": [
      "Epoch 3: Validation Accuracy: 0.03125\n"
     ]
    },
    {
     "name": "stderr",
     "output_type": "stream",
     "text": [
      "Epoch:   5%|▌         | 4/75 [00:09<02:52,  2.43s/it]"
     ]
    },
    {
     "name": "stdout",
     "output_type": "stream",
     "text": [
      "Epoch 4: Average Training Loss: 3.140777051448822\n",
      "Epoch 4: Validation Accuracy: 0.046875\n"
     ]
    },
    {
     "name": "stderr",
     "output_type": "stream",
     "text": [
      "Epoch:   7%|▋         | 5/75 [00:12<02:46,  2.38s/it]"
     ]
    },
    {
     "name": "stdout",
     "output_type": "stream",
     "text": [
      "Epoch 5: Average Training Loss: 3.0888966719309487\n",
      "Epoch 5: Validation Accuracy: 0.07391826923076923\n"
     ]
    },
    {
     "name": "stderr",
     "output_type": "stream",
     "text": [
      "Epoch:   8%|▊         | 6/75 [00:14<02:41,  2.35s/it]"
     ]
    },
    {
     "name": "stdout",
     "output_type": "stream",
     "text": [
      "Epoch 6: Average Training Loss: 2.970472971598307\n",
      "Epoch 6: Validation Accuracy: 0.09375\n"
     ]
    },
    {
     "name": "stderr",
     "output_type": "stream",
     "text": [
      "Epoch:   9%|▉         | 7/75 [00:16<02:38,  2.32s/it]"
     ]
    },
    {
     "name": "stdout",
     "output_type": "stream",
     "text": [
      "Epoch 7: Average Training Loss: 2.7303408781687417\n",
      "Epoch 7: Validation Accuracy: 0.16346153846153846\n"
     ]
    },
    {
     "name": "stderr",
     "output_type": "stream",
     "text": [
      "Epoch:  11%|█         | 8/75 [00:18<02:34,  2.31s/it]"
     ]
    },
    {
     "name": "stdout",
     "output_type": "stream",
     "text": [
      "Epoch 8: Average Training Loss: 2.4100404183069863\n",
      "Epoch 8: Validation Accuracy: 0.2373798076923077\n"
     ]
    },
    {
     "name": "stderr",
     "output_type": "stream",
     "text": [
      "Epoch:  12%|█▏        | 9/75 [00:21<02:31,  2.30s/it]"
     ]
    },
    {
     "name": "stdout",
     "output_type": "stream",
     "text": [
      "Epoch 9: Average Training Loss: 2.003230482339859\n",
      "Epoch 9: Validation Accuracy: 0.3816105769230769\n"
     ]
    },
    {
     "name": "stderr",
     "output_type": "stream",
     "text": [
      "Epoch:  13%|█▎        | 10/75 [00:23<02:28,  2.29s/it]"
     ]
    },
    {
     "name": "stdout",
     "output_type": "stream",
     "text": [
      "Epoch 10: Average Training Loss: 1.5656389494736989\n",
      "Epoch 10: Validation Accuracy: 0.4441105769230769\n"
     ]
    },
    {
     "name": "stderr",
     "output_type": "stream",
     "text": [
      "Epoch:  15%|█▍        | 11/75 [00:25<02:26,  2.28s/it]"
     ]
    },
    {
     "name": "stdout",
     "output_type": "stream",
     "text": [
      "Epoch 11: Average Training Loss: 1.1744338224331539\n",
      "Epoch 11: Validation Accuracy: 0.5216346153846154\n"
     ]
    },
    {
     "name": "stderr",
     "output_type": "stream",
     "text": [
      "Epoch:  16%|█▌        | 12/75 [00:28<02:23,  2.28s/it]"
     ]
    },
    {
     "name": "stdout",
     "output_type": "stream",
     "text": [
      "Epoch 12: Average Training Loss: 0.8479527135690054\n",
      "Epoch 12: Validation Accuracy: 0.6027644230769231\n"
     ]
    },
    {
     "name": "stderr",
     "output_type": "stream",
     "text": [
      "Epoch:  17%|█▋        | 13/75 [00:30<02:21,  2.28s/it]"
     ]
    },
    {
     "name": "stdout",
     "output_type": "stream",
     "text": [
      "Epoch 13: Average Training Loss: 0.6060405423243841\n",
      "Epoch 13: Validation Accuracy: 0.5450721153846154\n"
     ]
    },
    {
     "name": "stderr",
     "output_type": "stream",
     "text": [
      "Epoch:  19%|█▊        | 14/75 [00:32<02:19,  2.28s/it]"
     ]
    },
    {
     "name": "stdout",
     "output_type": "stream",
     "text": [
      "Epoch 14: Average Training Loss: 0.42906903227170307\n",
      "Epoch 14: Validation Accuracy: 0.5606971153846154\n"
     ]
    },
    {
     "name": "stderr",
     "output_type": "stream",
     "text": [
      "Epoch:  20%|██        | 15/75 [00:34<02:16,  2.28s/it]"
     ]
    },
    {
     "name": "stdout",
     "output_type": "stream",
     "text": [
      "Epoch 15: Average Training Loss: 0.3199431598186493\n",
      "Epoch 15: Validation Accuracy: 0.5799278846153846\n"
     ]
    },
    {
     "name": "stderr",
     "output_type": "stream",
     "text": [
      "Epoch:  21%|██▏       | 16/75 [00:37<02:14,  2.28s/it]"
     ]
    },
    {
     "name": "stdout",
     "output_type": "stream",
     "text": [
      "Epoch 16: Average Training Loss: 0.23996966083844504\n",
      "Epoch 16: Validation Accuracy: 0.6382211538461539\n"
     ]
    },
    {
     "name": "stderr",
     "output_type": "stream",
     "text": [
      "Epoch:  23%|██▎       | 17/75 [00:39<02:12,  2.28s/it]"
     ]
    },
    {
     "name": "stdout",
     "output_type": "stream",
     "text": [
      "Epoch 17: Average Training Loss: 0.20274807761112848\n",
      "Epoch 17: Validation Accuracy: 0.6340144230769231\n"
     ]
    },
    {
     "name": "stderr",
     "output_type": "stream",
     "text": [
      "Epoch:  24%|██▍       | 18/75 [00:41<02:09,  2.28s/it]"
     ]
    },
    {
     "name": "stdout",
     "output_type": "stream",
     "text": [
      "Epoch 18: Average Training Loss: 0.1561227918912967\n",
      "Epoch 18: Validation Accuracy: 0.6574519230769231\n"
     ]
    },
    {
     "name": "stderr",
     "output_type": "stream",
     "text": [
      "Epoch:  25%|██▌       | 19/75 [00:43<02:07,  2.28s/it]"
     ]
    },
    {
     "name": "stdout",
     "output_type": "stream",
     "text": [
      "Epoch 19: Average Training Loss: 0.1316943777104219\n",
      "Epoch 19: Validation Accuracy: 0.6652644230769231\n"
     ]
    },
    {
     "name": "stderr",
     "output_type": "stream",
     "text": [
      "Epoch:  27%|██▋       | 20/75 [00:46<02:05,  2.28s/it]"
     ]
    },
    {
     "name": "stdout",
     "output_type": "stream",
     "text": [
      "Epoch 20: Average Training Loss: 0.11723421886563301\n",
      "Epoch 20: Validation Accuracy: 0.6574519230769231\n"
     ]
    },
    {
     "name": "stderr",
     "output_type": "stream",
     "text": [
      "Epoch:  28%|██▊       | 21/75 [00:48<02:03,  2.28s/it]"
     ]
    },
    {
     "name": "stdout",
     "output_type": "stream",
     "text": [
      "Epoch 21: Average Training Loss: 0.1041922103613615\n",
      "Epoch 21: Validation Accuracy: 0.6652644230769231\n"
     ]
    },
    {
     "name": "stderr",
     "output_type": "stream",
     "text": [
      "Epoch:  29%|██▉       | 22/75 [00:50<02:00,  2.28s/it]"
     ]
    },
    {
     "name": "stdout",
     "output_type": "stream",
     "text": [
      "Epoch 22: Average Training Loss: 0.0935023333877325\n",
      "Epoch 22: Validation Accuracy: 0.6652644230769231\n"
     ]
    },
    {
     "name": "stderr",
     "output_type": "stream",
     "text": [
      "Epoch:  31%|███       | 23/75 [00:53<01:58,  2.28s/it]"
     ]
    },
    {
     "name": "stdout",
     "output_type": "stream",
     "text": [
      "Epoch 23: Average Training Loss: 0.08177465076247852\n",
      "Epoch 23: Validation Accuracy: 0.6460336538461539\n"
     ]
    },
    {
     "name": "stderr",
     "output_type": "stream",
     "text": [
      "Epoch:  32%|███▏      | 24/75 [00:55<01:56,  2.28s/it]"
     ]
    },
    {
     "name": "stdout",
     "output_type": "stream",
     "text": [
      "Epoch 24: Average Training Loss: 0.07597201503813267\n",
      "Epoch 24: Validation Accuracy: 0.6460336538461539\n"
     ]
    },
    {
     "name": "stderr",
     "output_type": "stream",
     "text": [
      "Epoch:  33%|███▎      | 25/75 [00:57<01:53,  2.28s/it]"
     ]
    },
    {
     "name": "stdout",
     "output_type": "stream",
     "text": [
      "Epoch 25: Average Training Loss: 0.06921563390642405\n",
      "Epoch 25: Validation Accuracy: 0.6460336538461539\n"
     ]
    },
    {
     "name": "stderr",
     "output_type": "stream",
     "text": [
      "Epoch:  35%|███▍      | 26/75 [00:59<01:51,  2.28s/it]"
     ]
    },
    {
     "name": "stdout",
     "output_type": "stream",
     "text": [
      "Epoch 26: Average Training Loss: 0.06457394516716401\n",
      "Epoch 26: Validation Accuracy: 0.6460336538461539\n"
     ]
    },
    {
     "name": "stderr",
     "output_type": "stream",
     "text": [
      "Epoch:  36%|███▌      | 27/75 [01:02<01:49,  2.28s/it]"
     ]
    },
    {
     "name": "stdout",
     "output_type": "stream",
     "text": [
      "Epoch 27: Average Training Loss: 0.059816901572048664\n",
      "Epoch 27: Validation Accuracy: 0.6460336538461539\n"
     ]
    },
    {
     "name": "stderr",
     "output_type": "stream",
     "text": [
      "Epoch:  37%|███▋      | 28/75 [01:04<01:47,  2.28s/it]"
     ]
    },
    {
     "name": "stdout",
     "output_type": "stream",
     "text": [
      "Epoch 28: Average Training Loss: 0.05703169914583365\n",
      "Epoch 28: Validation Accuracy: 0.6460336538461539\n"
     ]
    },
    {
     "name": "stderr",
     "output_type": "stream",
     "text": [
      "Epoch:  39%|███▊      | 29/75 [01:06<01:44,  2.28s/it]"
     ]
    },
    {
     "name": "stdout",
     "output_type": "stream",
     "text": [
      "Epoch 29: Average Training Loss: 0.052789392260213695\n",
      "Epoch 29: Validation Accuracy: 0.6460336538461539\n"
     ]
    },
    {
     "name": "stderr",
     "output_type": "stream",
     "text": [
      "Epoch:  40%|████      | 30/75 [01:09<01:42,  2.28s/it]"
     ]
    },
    {
     "name": "stdout",
     "output_type": "stream",
     "text": [
      "Epoch 30: Average Training Loss: 0.04965924626837174\n",
      "Epoch 30: Validation Accuracy: 0.6538461538461539\n"
     ]
    },
    {
     "name": "stderr",
     "output_type": "stream",
     "text": [
      "Epoch:  41%|████▏     | 31/75 [01:11<01:40,  2.28s/it]"
     ]
    },
    {
     "name": "stdout",
     "output_type": "stream",
     "text": [
      "Epoch 31: Average Training Loss: 0.04699040328462919\n",
      "Epoch 31: Validation Accuracy: 0.6538461538461539\n"
     ]
    },
    {
     "name": "stderr",
     "output_type": "stream",
     "text": [
      "Epoch:  43%|████▎     | 32/75 [01:13<01:37,  2.28s/it]"
     ]
    },
    {
     "name": "stdout",
     "output_type": "stream",
     "text": [
      "Epoch 32: Average Training Loss: 0.04433583033581575\n",
      "Epoch 32: Validation Accuracy: 0.6538461538461539\n"
     ]
    },
    {
     "name": "stderr",
     "output_type": "stream",
     "text": [
      "Epoch:  44%|████▍     | 33/75 [01:15<01:35,  2.27s/it]"
     ]
    },
    {
     "name": "stdout",
     "output_type": "stream",
     "text": [
      "Epoch 33: Average Training Loss: 0.042695278922716774\n",
      "Epoch 33: Validation Accuracy: 0.6538461538461539\n"
     ]
    },
    {
     "name": "stderr",
     "output_type": "stream",
     "text": [
      "Epoch:  45%|████▌     | 34/75 [01:18<01:33,  2.28s/it]"
     ]
    },
    {
     "name": "stdout",
     "output_type": "stream",
     "text": [
      "Epoch 34: Average Training Loss: 0.04136837429056565\n",
      "Epoch 34: Validation Accuracy: 0.6808894230769231\n"
     ]
    },
    {
     "name": "stderr",
     "output_type": "stream",
     "text": [
      "Epoch:  47%|████▋     | 35/75 [01:20<01:30,  2.27s/it]"
     ]
    },
    {
     "name": "stdout",
     "output_type": "stream",
     "text": [
      "Epoch 35: Average Training Loss: 0.03800144077589115\n",
      "Epoch 35: Validation Accuracy: 0.6538461538461539\n"
     ]
    },
    {
     "name": "stderr",
     "output_type": "stream",
     "text": [
      "Epoch:  48%|████▊     | 36/75 [01:22<01:28,  2.27s/it]"
     ]
    },
    {
     "name": "stdout",
     "output_type": "stream",
     "text": [
      "Epoch 36: Average Training Loss: 0.03768112417310476\n",
      "Epoch 36: Validation Accuracy: 0.6538461538461539\n"
     ]
    },
    {
     "name": "stderr",
     "output_type": "stream",
     "text": [
      "Epoch:  49%|████▉     | 37/75 [01:24<01:26,  2.27s/it]"
     ]
    },
    {
     "name": "stdout",
     "output_type": "stream",
     "text": [
      "Epoch 37: Average Training Loss: 0.035495803225785494\n",
      "Epoch 37: Validation Accuracy: 0.6460336538461539\n"
     ]
    },
    {
     "name": "stderr",
     "output_type": "stream",
     "text": [
      "Epoch:  51%|█████     | 38/75 [01:27<01:24,  2.27s/it]"
     ]
    },
    {
     "name": "stdout",
     "output_type": "stream",
     "text": [
      "Epoch 38: Average Training Loss: 0.03385577412943045\n",
      "Epoch 38: Validation Accuracy: 0.6730769230769231\n"
     ]
    },
    {
     "name": "stderr",
     "output_type": "stream",
     "text": [
      "Epoch:  52%|█████▏    | 39/75 [01:29<01:21,  2.27s/it]"
     ]
    },
    {
     "name": "stdout",
     "output_type": "stream",
     "text": [
      "Epoch 39: Average Training Loss: 0.033694974767665066\n",
      "Epoch 39: Validation Accuracy: 0.6538461538461539\n"
     ]
    },
    {
     "name": "stderr",
     "output_type": "stream",
     "text": [
      "Epoch:  53%|█████▎    | 40/75 [01:31<01:19,  2.27s/it]"
     ]
    },
    {
     "name": "stdout",
     "output_type": "stream",
     "text": [
      "Epoch 40: Average Training Loss: 0.031377922743558884\n",
      "Epoch 40: Validation Accuracy: 0.6538461538461539\n"
     ]
    },
    {
     "name": "stderr",
     "output_type": "stream",
     "text": [
      "Epoch:  55%|█████▍    | 41/75 [01:34<01:17,  2.27s/it]"
     ]
    },
    {
     "name": "stdout",
     "output_type": "stream",
     "text": [
      "Epoch 41: Average Training Loss: 0.029555692647894222\n",
      "Epoch 41: Validation Accuracy: 0.6538461538461539\n"
     ]
    },
    {
     "name": "stderr",
     "output_type": "stream",
     "text": [
      "Epoch:  56%|█████▌    | 42/75 [01:36<01:15,  2.27s/it]"
     ]
    },
    {
     "name": "stdout",
     "output_type": "stream",
     "text": [
      "Epoch 42: Average Training Loss: 0.029555936964849632\n",
      "Epoch 42: Validation Accuracy: 0.6538461538461539\n"
     ]
    },
    {
     "name": "stderr",
     "output_type": "stream",
     "text": [
      "Epoch:  57%|█████▋    | 43/75 [01:38<01:12,  2.28s/it]"
     ]
    },
    {
     "name": "stdout",
     "output_type": "stream",
     "text": [
      "Epoch 43: Average Training Loss: 0.027866387118895847\n",
      "Epoch 43: Validation Accuracy: 0.6538461538461539\n"
     ]
    },
    {
     "name": "stderr",
     "output_type": "stream",
     "text": [
      "Epoch:  59%|█████▊    | 44/75 [01:40<01:10,  2.28s/it]"
     ]
    },
    {
     "name": "stdout",
     "output_type": "stream",
     "text": [
      "Epoch 44: Average Training Loss: 0.02740663926427563\n",
      "Epoch 44: Validation Accuracy: 0.6616586538461539\n"
     ]
    },
    {
     "name": "stderr",
     "output_type": "stream",
     "text": [
      "Epoch:  60%|██████    | 45/75 [01:43<01:08,  2.27s/it]"
     ]
    },
    {
     "name": "stdout",
     "output_type": "stream",
     "text": [
      "Epoch 45: Average Training Loss: 0.02664673887193203\n",
      "Epoch 45: Validation Accuracy: 0.6538461538461539\n"
     ]
    },
    {
     "name": "stderr",
     "output_type": "stream",
     "text": [
      "Epoch:  61%|██████▏   | 46/75 [01:45<01:05,  2.27s/it]"
     ]
    },
    {
     "name": "stdout",
     "output_type": "stream",
     "text": [
      "Epoch 46: Average Training Loss: 0.025744281864414614\n",
      "Epoch 46: Validation Accuracy: 0.6538461538461539\n"
     ]
    },
    {
     "name": "stderr",
     "output_type": "stream",
     "text": [
      "Epoch:  63%|██████▎   | 47/75 [01:47<01:03,  2.28s/it]"
     ]
    },
    {
     "name": "stdout",
     "output_type": "stream",
     "text": [
      "Epoch 47: Average Training Loss: 0.02402504285176595\n",
      "Epoch 47: Validation Accuracy: 0.6538461538461539\n"
     ]
    },
    {
     "name": "stderr",
     "output_type": "stream",
     "text": [
      "Epoch:  64%|██████▍   | 48/75 [01:49<01:01,  2.27s/it]"
     ]
    },
    {
     "name": "stdout",
     "output_type": "stream",
     "text": [
      "Epoch 48: Average Training Loss: 0.02440023065234224\n",
      "Epoch 48: Validation Accuracy: 0.6538461538461539\n"
     ]
    },
    {
     "name": "stderr",
     "output_type": "stream",
     "text": [
      "Epoch:  65%|██████▌   | 49/75 [01:52<00:59,  2.27s/it]"
     ]
    },
    {
     "name": "stdout",
     "output_type": "stream",
     "text": [
      "Epoch 49: Average Training Loss: 0.02380649435023467\n",
      "Epoch 49: Validation Accuracy: 0.6538461538461539\n"
     ]
    },
    {
     "name": "stderr",
     "output_type": "stream",
     "text": [
      "Epoch:  67%|██████▋   | 50/75 [01:54<00:56,  2.27s/it]"
     ]
    },
    {
     "name": "stdout",
     "output_type": "stream",
     "text": [
      "Epoch 50: Average Training Loss: 0.02286123049755891\n",
      "Epoch 50: Validation Accuracy: 0.6538461538461539\n"
     ]
    },
    {
     "name": "stderr",
     "output_type": "stream",
     "text": [
      "Epoch:  68%|██████▊   | 51/75 [01:56<00:54,  2.27s/it]"
     ]
    },
    {
     "name": "stdout",
     "output_type": "stream",
     "text": [
      "Epoch 51: Average Training Loss: 0.021868157976617415\n",
      "Epoch 51: Validation Accuracy: 0.6460336538461539\n"
     ]
    },
    {
     "name": "stderr",
     "output_type": "stream",
     "text": [
      "Epoch:  69%|██████▉   | 52/75 [01:59<00:52,  2.27s/it]"
     ]
    },
    {
     "name": "stdout",
     "output_type": "stream",
     "text": [
      "Epoch 52: Average Training Loss: 0.021705427362273138\n",
      "Epoch 52: Validation Accuracy: 0.6538461538461539\n"
     ]
    },
    {
     "name": "stderr",
     "output_type": "stream",
     "text": [
      "Epoch:  71%|███████   | 53/75 [02:01<00:49,  2.27s/it]"
     ]
    },
    {
     "name": "stdout",
     "output_type": "stream",
     "text": [
      "Epoch 53: Average Training Loss: 0.0209094793535769\n",
      "Epoch 53: Validation Accuracy: 0.6538461538461539\n"
     ]
    },
    {
     "name": "stderr",
     "output_type": "stream",
     "text": [
      "Epoch:  72%|███████▏  | 54/75 [02:03<00:47,  2.27s/it]"
     ]
    },
    {
     "name": "stdout",
     "output_type": "stream",
     "text": [
      "Epoch 54: Average Training Loss: 0.020944004102299612\n",
      "Epoch 54: Validation Accuracy: 0.6538461538461539\n"
     ]
    },
    {
     "name": "stderr",
     "output_type": "stream",
     "text": [
      "Epoch:  73%|███████▎  | 55/75 [02:05<00:45,  2.27s/it]"
     ]
    },
    {
     "name": "stdout",
     "output_type": "stream",
     "text": [
      "Epoch 55: Average Training Loss: 0.019932745955884457\n",
      "Epoch 55: Validation Accuracy: 0.6730769230769231\n"
     ]
    },
    {
     "name": "stderr",
     "output_type": "stream",
     "text": [
      "Epoch:  75%|███████▍  | 56/75 [02:08<00:43,  2.27s/it]"
     ]
    },
    {
     "name": "stdout",
     "output_type": "stream",
     "text": [
      "Epoch 56: Average Training Loss: 0.019172880177696545\n",
      "Epoch 56: Validation Accuracy: 0.6730769230769231\n"
     ]
    },
    {
     "name": "stderr",
     "output_type": "stream",
     "text": [
      "Epoch:  76%|███████▌  | 57/75 [02:10<00:40,  2.27s/it]"
     ]
    },
    {
     "name": "stdout",
     "output_type": "stream",
     "text": [
      "Epoch 57: Average Training Loss: 0.01850065387164553\n",
      "Epoch 57: Validation Accuracy: 0.6730769230769231\n"
     ]
    },
    {
     "name": "stderr",
     "output_type": "stream",
     "text": [
      "Epoch:  77%|███████▋  | 58/75 [02:12<00:38,  2.27s/it]"
     ]
    },
    {
     "name": "stdout",
     "output_type": "stream",
     "text": [
      "Epoch 58: Average Training Loss: 0.01842099187585215\n",
      "Epoch 58: Validation Accuracy: 0.6730769230769231\n"
     ]
    },
    {
     "name": "stderr",
     "output_type": "stream",
     "text": [
      "Epoch:  79%|███████▊  | 59/75 [02:14<00:36,  2.27s/it]"
     ]
    },
    {
     "name": "stdout",
     "output_type": "stream",
     "text": [
      "Epoch 59: Average Training Loss: 0.017910057057936985\n",
      "Epoch 59: Validation Accuracy: 0.6730769230769231\n"
     ]
    },
    {
     "name": "stderr",
     "output_type": "stream",
     "text": [
      "Epoch:  80%|████████  | 60/75 [02:17<00:34,  2.28s/it]"
     ]
    },
    {
     "name": "stdout",
     "output_type": "stream",
     "text": [
      "Epoch 60: Average Training Loss: 0.018193322777127225\n",
      "Epoch 60: Validation Accuracy: 0.6730769230769231\n"
     ]
    },
    {
     "name": "stderr",
     "output_type": "stream",
     "text": [
      "Epoch:  81%|████████▏ | 61/75 [02:19<00:31,  2.27s/it]"
     ]
    },
    {
     "name": "stdout",
     "output_type": "stream",
     "text": [
      "Epoch 61: Average Training Loss: 0.017335891180361312\n",
      "Epoch 61: Validation Accuracy: 0.6730769230769231\n"
     ]
    },
    {
     "name": "stderr",
     "output_type": "stream",
     "text": [
      "Epoch:  83%|████████▎ | 62/75 [02:21<00:29,  2.27s/it]"
     ]
    },
    {
     "name": "stdout",
     "output_type": "stream",
     "text": [
      "Epoch 62: Average Training Loss: 0.01679499230037133\n",
      "Epoch 62: Validation Accuracy: 0.6730769230769231\n"
     ]
    },
    {
     "name": "stderr",
     "output_type": "stream",
     "text": [
      "Epoch:  84%|████████▍ | 63/75 [02:24<00:27,  2.27s/it]"
     ]
    },
    {
     "name": "stdout",
     "output_type": "stream",
     "text": [
      "Epoch 63: Average Training Loss: 0.01672354123244683\n",
      "Epoch 63: Validation Accuracy: 0.6730769230769231\n"
     ]
    },
    {
     "name": "stderr",
     "output_type": "stream",
     "text": [
      "Epoch:  85%|████████▌ | 64/75 [02:26<00:25,  2.27s/it]"
     ]
    },
    {
     "name": "stdout",
     "output_type": "stream",
     "text": [
      "Epoch 64: Average Training Loss: 0.016411385343720514\n",
      "Epoch 64: Validation Accuracy: 0.6538461538461539\n"
     ]
    },
    {
     "name": "stderr",
     "output_type": "stream",
     "text": [
      "Epoch:  87%|████████▋ | 65/75 [02:28<00:22,  2.27s/it]"
     ]
    },
    {
     "name": "stdout",
     "output_type": "stream",
     "text": [
      "Epoch 65: Average Training Loss: 0.015677029655004542\n",
      "Epoch 65: Validation Accuracy: 0.6538461538461539\n"
     ]
    },
    {
     "name": "stderr",
     "output_type": "stream",
     "text": [
      "Epoch:  88%|████████▊ | 66/75 [02:30<00:20,  2.28s/it]"
     ]
    },
    {
     "name": "stdout",
     "output_type": "stream",
     "text": [
      "Epoch 66: Average Training Loss: 0.015058985988919934\n",
      "Epoch 66: Validation Accuracy: 0.6730769230769231\n"
     ]
    },
    {
     "name": "stderr",
     "output_type": "stream",
     "text": [
      "Epoch:  89%|████████▉ | 67/75 [02:33<00:18,  2.27s/it]"
     ]
    },
    {
     "name": "stdout",
     "output_type": "stream",
     "text": [
      "Epoch 67: Average Training Loss: 0.015152846463024616\n",
      "Epoch 67: Validation Accuracy: 0.6538461538461539\n"
     ]
    },
    {
     "name": "stderr",
     "output_type": "stream",
     "text": [
      "Epoch:  91%|█████████ | 68/75 [02:35<00:15,  2.28s/it]"
     ]
    },
    {
     "name": "stdout",
     "output_type": "stream",
     "text": [
      "Epoch 68: Average Training Loss: 0.014608145381013552\n",
      "Epoch 68: Validation Accuracy: 0.6538461538461539\n"
     ]
    },
    {
     "name": "stderr",
     "output_type": "stream",
     "text": [
      "Epoch:  92%|█████████▏| 69/75 [02:37<00:13,  2.28s/it]"
     ]
    },
    {
     "name": "stdout",
     "output_type": "stream",
     "text": [
      "Epoch 69: Average Training Loss: 0.014292979224895438\n",
      "Epoch 69: Validation Accuracy: 0.6538461538461539\n"
     ]
    },
    {
     "name": "stderr",
     "output_type": "stream",
     "text": [
      "Epoch:  93%|█████████▎| 70/75 [02:39<00:11,  2.28s/it]"
     ]
    },
    {
     "name": "stdout",
     "output_type": "stream",
     "text": [
      "Epoch 70: Average Training Loss: 0.013942708106090626\n",
      "Epoch 70: Validation Accuracy: 0.6538461538461539\n"
     ]
    },
    {
     "name": "stderr",
     "output_type": "stream",
     "text": [
      "Epoch:  95%|█████████▍| 71/75 [02:42<00:09,  2.28s/it]"
     ]
    },
    {
     "name": "stdout",
     "output_type": "stream",
     "text": [
      "Epoch 71: Average Training Loss: 0.014149669402589401\n",
      "Epoch 71: Validation Accuracy: 0.6538461538461539\n"
     ]
    },
    {
     "name": "stderr",
     "output_type": "stream",
     "text": [
      "Epoch:  96%|█████████▌| 72/75 [02:44<00:06,  2.28s/it]"
     ]
    },
    {
     "name": "stdout",
     "output_type": "stream",
     "text": [
      "Epoch 72: Average Training Loss: 0.013491098691398898\n",
      "Epoch 72: Validation Accuracy: 0.6538461538461539\n"
     ]
    },
    {
     "name": "stderr",
     "output_type": "stream",
     "text": [
      "Epoch:  97%|█████████▋| 73/75 [02:46<00:04,  2.28s/it]"
     ]
    },
    {
     "name": "stdout",
     "output_type": "stream",
     "text": [
      "Epoch 73: Average Training Loss: 0.013631248225768408\n",
      "Epoch 73: Validation Accuracy: 0.6538461538461539\n"
     ]
    },
    {
     "name": "stderr",
     "output_type": "stream",
     "text": [
      "Epoch:  99%|█████████▊| 74/75 [02:49<00:02,  2.28s/it]"
     ]
    },
    {
     "name": "stdout",
     "output_type": "stream",
     "text": [
      "Epoch 74: Average Training Loss: 0.013272141416867575\n",
      "Epoch 74: Validation Accuracy: 0.6538461538461539\n"
     ]
    },
    {
     "name": "stderr",
     "output_type": "stream",
     "text": [
      "Epoch: 100%|██████████| 75/75 [02:51<00:00,  2.28s/it]"
     ]
    },
    {
     "name": "stdout",
     "output_type": "stream",
     "text": [
      "Epoch 75: Average Training Loss: 0.01286325960730513\n",
      "Epoch 75: Validation Accuracy: 0.6538461538461539\n"
     ]
    },
    {
     "name": "stderr",
     "output_type": "stream",
     "text": [
      "Epoch: 100%|██████████| 75/75 [02:51<00:00,  2.28s/it]\n"
     ]
    }
   ],
   "source": [
    "from tqdm import trange\n",
    "epochs = 75\n",
    "random.seed(42)\n",
    "torch.manual_seed(42)\n",
    "training_losses = []\n",
    "\n",
    "for epoch in trange(epochs, desc=\"Epoch\"):\n",
    "    model.train()\n",
    "    training_loss = 0\n",
    "    training_steps = 0\n",
    "\n",
    "    for step, batch in enumerate(training_dataloader):\n",
    "        inputs = batch[0].to(device)\n",
    "        attention_masks = batch[1].to(device)\n",
    "        # labels = labels.type(torch.LongTensor)\n",
    "        labels = batch[2].to(device)\n",
    "\n",
    "        optimizer.zero_grad()\n",
    "        outputs = model(inputs, attention_mask=attention_masks, labels=labels)\n",
    "        # print(\"TRAIN\", outputs)\n",
    "        loss = outputs.loss\n",
    "        loss.backward()\n",
    "        optimizer.step()\n",
    "\n",
    "        training_loss += loss.item()\n",
    "        training_steps += 1\n",
    "\n",
    "        training_losses.append(loss.item())\n",
    "\n",
    "    average_training_loss = training_loss/training_steps\n",
    "    print(\"Epoch {}: Average Training Loss: {}\".format(epoch+1, average_training_loss))\n",
    "\n",
    "    model.eval()\n",
    "    validation_accuracy = 0\n",
    "    validation_steps = 0\n",
    "\n",
    "    for batch in validation_dataloader:\n",
    "        inputs = batch[0].to(device)\n",
    "        attention_masks = batch[1].to(device)\n",
    "        labels = batch[2].to(device)\n",
    "\n",
    "        with torch.no_grad():\n",
    "            outputs = model(inputs, attention_mask=attention_masks, labels=labels)\n",
    "            # print(\"VAL\", outputs)\n",
    "\n",
    "        logits = outputs.logits\n",
    "        temp_validation_accuracy = flat_accuracy(logits, labels)\n",
    "        validation_accuracy += temp_validation_accuracy\n",
    "        validation_steps += 1\n",
    "\n",
    "    average_validation_accuracy = validation_accuracy/validation_steps\n",
    "    print(\"Epoch {}: Validation Accuracy: {}\".format(epoch+1, average_validation_accuracy))"
   ],
   "metadata": {
    "collapsed": false,
    "ExecuteTime": {
     "end_time": "2024-02-13T07:45:17.220312800Z",
     "start_time": "2024-02-13T07:42:25.835866900Z"
    }
   },
   "id": "4f600ad255b3cc31",
   "execution_count": 18
  },
  {
   "cell_type": "code",
   "outputs": [],
   "source": [
    "input_ids = torch.tensor(testing_inputs)\n",
    "attention_masks = torch.tensor(testing_masks)\n",
    "labels = torch.tensor(testing_labels)\n",
    "\n",
    "prediction_data = TensorDataset(input_ids, attention_masks, labels)\n",
    "prediction_dataloader = DataLoader(prediction_data, batch_size=VAR['batch_size'])\n",
    "\n",
    "model.eval()\n",
    "logits_set = []\n",
    "labels_set = []\n",
    "\n",
    "for batch in prediction_dataloader:\n",
    "    batch_input_ids, batch_attention_masks, batch_labels = batch\n",
    "    batch_input_ids, batch_attention_masks, batch_labels = batch_input_ids.to(device), batch_attention_masks.to(device), batch_labels.to(device)\n",
    "\n",
    "    with torch.no_grad():\n",
    "        outputs = model(batch_input_ids, attention_mask=batch_attention_masks)\n",
    "        logits = outputs.logits\n",
    "\n",
    "    logits_set.append(logits.cpu().numpy())\n",
    "    labels_set.append(batch_labels.cpu().numpy())"
   ],
   "metadata": {
    "collapsed": false,
    "ExecuteTime": {
     "end_time": "2024-02-13T07:45:17.308375800Z",
     "start_time": "2024-02-13T07:45:17.216819400Z"
    }
   },
   "id": "bd469554800788e0",
   "execution_count": 19
  },
  {
   "cell_type": "code",
   "outputs": [
    {
     "name": "stdout",
     "output_type": "stream",
     "text": [
      "Batch 1: MCC = 0.902107262289777\n",
      "Batch 2: MCC = 0.65\n",
      "\n",
      "Overall MCC: 0.7760536311448885\n"
     ]
    }
   ],
   "source": [
    "from sklearn.metrics import matthews_corrcoef\n",
    "matthews_set = []\n",
    "\n",
    "# Calculate Matthews correlation coefficient for each batch\n",
    "for i in range(len(labels_set)):\n",
    "    mcc = matthews_corrcoef(labels_set[i], numpy.argmax(logits_set[i], axis=1).flatten())\n",
    "    matthews_set.append(mcc)\n",
    "\n",
    "for i, mcc in enumerate(matthews_set):\n",
    "    print(f\"Batch {i + 1}: MCC = {mcc}\")\n",
    "\n",
    "# Calculate the overall Matthews correlation coefficient\n",
    "overall_mcc = numpy.mean(matthews_set)\n",
    "print(f\"\\nOverall MCC: {overall_mcc}\")"
   ],
   "metadata": {
    "collapsed": false,
    "ExecuteTime": {
     "end_time": "2024-02-13T07:45:17.315146400Z",
     "start_time": "2024-02-13T07:45:17.310376700Z"
    }
   },
   "id": "25069398e8ed20d4",
   "execution_count": 20
  },
  {
   "cell_type": "code",
   "outputs": [
    {
     "name": "stdout",
     "output_type": "stream",
     "text": [
      "mean_accuracy=0.7864583333333333, mean_precision=0.7828124999999999, mean_recall=0.7864583333333333, mean_f1=0.7768353174603175\n"
     ]
    }
   ],
   "source": [
    "from sklearn.metrics import accuracy_score, precision_score, recall_score, f1_score\n",
    "\n",
    "accuracy_scores = []\n",
    "precision_scores = []\n",
    "recall_scores = []\n",
    "f1_scores = []\n",
    "\n",
    "\n",
    "for i in range(len(labels_set)):\n",
    "    acc = accuracy_score(labels_set[i], numpy.argmax(logits_set[i], axis=1).flatten())\n",
    "    accuracy_scores.append(acc)\n",
    "    \n",
    "    precision = precision_score(labels_set[i], numpy.argmax(logits_set[i], axis=1).flatten(), average='weighted', zero_division=0)\n",
    "    precision_scores.append(precision)\n",
    "    \n",
    "    recall = recall_score(labels_set[i], numpy.argmax(logits_set[i], axis=1).flatten(), average='weighted', zero_division=0)\n",
    "    recall_scores.append(recall)\n",
    "    \n",
    "    f1_scoring = f1_score(labels_set[i], numpy.argmax(logits_set[i], axis=1).flatten(), average='weighted', zero_division=0)\n",
    "    f1_scores.append(f1_scoring)\n",
    "    \n",
    "mean_accuracy = numpy.mean(accuracy_scores)\n",
    "mean_precision = numpy.mean(precision_scores)\n",
    "mean_recall = numpy.mean(recall_scores)\n",
    "mean_f1 = numpy.mean(f1_scores)\n",
    "\n",
    "print(f'{mean_accuracy=}, {mean_precision=}, {mean_recall=}, {mean_f1=}')"
   ],
   "metadata": {
    "collapsed": false,
    "ExecuteTime": {
     "end_time": "2024-02-13T07:45:17.327236200Z",
     "start_time": "2024-02-13T07:45:17.317146300Z"
    }
   },
   "id": "e14d894193322ef9",
   "execution_count": 21
  }
 ],
 "metadata": {
  "kernelspec": {
   "display_name": "Python 3",
   "language": "python",
   "name": "python3"
  },
  "language_info": {
   "codemirror_mode": {
    "name": "ipython",
    "version": 2
   },
   "file_extension": ".py",
   "mimetype": "text/x-python",
   "name": "python",
   "nbconvert_exporter": "python",
   "pygments_lexer": "ipython2",
   "version": "2.7.6"
  }
 },
 "nbformat": 4,
 "nbformat_minor": 5
}
